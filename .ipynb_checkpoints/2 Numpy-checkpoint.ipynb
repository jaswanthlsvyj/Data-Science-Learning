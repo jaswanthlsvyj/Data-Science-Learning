{
 "cells": [
  {
   "cell_type": "markdown",
   "metadata": {
    "id": "yNMy_TNjUrdd"
   },
   "source": [
    "## **Introduction to NumPy:**\n",
    "```NumPy``` stands for *Numerical Python* and it's a fundamental package for scientific computing in Python. NumPy provides Python with an extensive math library capable of performing numerical computations effectively and efficiently. These lessons are intended as a basic overview of NumPy and introduces some of its most important features.\n",
    "\n"
   ]
  },
  {
   "cell_type": "markdown",
   "metadata": {
    "id": "oPnpCMIeYA90"
   },
   "source": [
    "## **Why Numpy:**\n",
    "You may be wondering why people use NumPy - after all, Python can handle lists, as you learned in the Intro to Python lessons.\n",
    "\n",
    "Even though Python lists are great on their own, NumPy has a number of key features that give it great advantages over Python lists. One such feature is speed. When performing operations on large arrays NumPy can often perform several orders of magnitude faster than Python lists. This speed comes from the nature of NumPy arrays being memory-efficient and from optimized algorithms used by NumPy for doing arithmetic, statistical, and linear algebra operations."
   ]
  },
  {
   "cell_type": "code",
   "execution_count": 3,
   "metadata": {
    "id": "1D9wUejeTCUi"
   },
   "outputs": [],
   "source": [
    "import time\n",
    "import numpy as np"
   ]
  },
  {
   "cell_type": "code",
   "execution_count": null,
   "metadata": {
    "id": "cx33B30cYJzv"
   },
   "outputs": [],
   "source": [
    "x = np.random.rand(1000000000)"
   ]
  },
  {
   "cell_type": "code",
   "execution_count": null,
   "metadata": {
    "colab": {
     "base_uri": "https://localhost:8080/",
     "height": 54
    },
    "id": "xXpuBxHLYOWg",
    "outputId": "e72cc273-38e1-4398-8aa1-6f08f9a776f3"
   },
   "outputs": [],
   "source": [
    "start = time.time()\n",
    "mean = sum(x)/len(x)\n",
    "print(time.time() - start)"
   ]
  },
  {
   "cell_type": "code",
   "execution_count": null,
   "metadata": {
    "colab": {
     "base_uri": "https://localhost:8080/",
     "height": 54
    },
    "id": "zwi39jQRYkye",
    "outputId": "11d53351-1df7-4e2c-e5cb-71c9ffd2185d"
   },
   "outputs": [],
   "source": [
    "start = time.time()\n",
    "mean_np = np.mean(x)\n",
    "print(time.time() - start)"
   ]
  },
  {
   "cell_type": "markdown",
   "metadata": {
    "id": "Dibh7I4LcMdb"
   },
   "source": [
    "## **Creating NumPy ndarrays:**\n",
    "At the core of NumPy is the ndarray, where nd stands for n-dimensional. An ndarray is a multidimensional array of elements all of the same type. In other words, an ndarray is a grid that can take on many shapes and can hold either numbers or strings. In many Machine Learning problems you will often find yourself using ndarrays in many different ways. For instance, you might use an ndarray to hold the pixel values of an image that will be fed into a Neural Network for image classification."
   ]
  },
  {
   "cell_type": "markdown",
   "metadata": {
    "id": "6XWJHaq0cabp"
   },
   "source": [
    "There are several ways to create ndarrays in NumPy. In the following lessons we will see two ways to create ndarrays:\n",
    "\n",
    "1. Using regular Python lists\n",
    "\n",
    "2. Using built-in NumPy functions"
   ]
  },
  {
   "cell_type": "markdown",
   "metadata": {
    "id": "itKv0T1acqnf"
   },
   "source": [
    "In this section, we will create ndarrays by providing Python lists to the NumPy np.array() function, it is just a function that returns an ndarray. We should note that for the purposes of clarity, the examples throughout these lessons will use small and simple ndarrays. Let's start by creating 1-Dimensional (1D) ndarrays."
   ]
  },
  {
   "cell_type": "code",
   "execution_count": 1,
   "metadata": {
    "colab": {
     "base_uri": "https://localhost:8080/",
     "height": 54
    },
    "id": "bUHEilP2ZN5J",
    "outputId": "13235ae1-b467-40b6-9c17-18f8082e2ef8"
   },
   "outputs": [
    {
     "name": "stdout",
     "output_type": "stream",
     "text": [
      "x =  [1 2 3 4 5]\n"
     ]
    }
   ],
   "source": [
    "# We import NumPy into Python\n",
    "import numpy as np\n",
    "\n",
    "# We create a 1D ndarray that contains only integers\n",
    "x = np.array([1, 2, 3, 4, 5])\n",
    "\n",
    "# Let's print the ndarray we just created using the print() command\n",
    "print('x = ', x)"
   ]
  },
  {
   "cell_type": "markdown",
   "metadata": {
    "id": "Oi4x0r2fvwSd"
   },
   "source": [
    "## **Shape of an ndarray:**\n",
    "Another important property of arrays is their shape. The shape of an array is the size along each of its dimensions. As you will see, NumPy ndarrays have attributes that allows us to get information about them in a very intuitive way. For example, the shape of an ndarray can be obtained using the .shape attribute. The shape attribute returns a tuple of N positive integers that specify the sizes of each dimension."
   ]
  },
  {
   "cell_type": "code",
   "execution_count": null,
   "metadata": {
    "colab": {
     "base_uri": "https://localhost:8080/",
     "height": 137
    },
    "id": "xskCTsNRc2HK",
    "outputId": "fc340f5a-ff85-47f0-bb26-306106ad797e"
   },
   "outputs": [],
   "source": [
    "# We create a 1D ndarray that contains only integers\n",
    "x = np.array([1, 2, 3, 4, 5])\n",
    "\n",
    "# We print x\n",
    "print()\n",
    "print('x = ', x)\n",
    "print()\n",
    "\n",
    "# We print information about x\n",
    "print('x has dimensions:', x.shape)\n",
    "print('x is an object of type:', type(x))\n",
    "print('The elements in x are of type:', x.dtype)"
   ]
  },
  {
   "cell_type": "markdown",
   "metadata": {
    "id": "MLYrG8oLwXb2"
   },
   "source": [
    "We can see that the shape attribute returns the tuple (5,) telling us that x is of rank 1 (i.e. x only has 1 dimension ) and it has 5 elements. The type() function tells us that x is indeed a NumPy ndarray. Finally, the .dtype attribute tells us that the elements of x are stored in memory as signed 64-bit integers. Another great advantage of NumPy is that it can handle more data-types than Python lists.[here](https://docs.scipy.org/doc/numpy-1.13.0/user/basics.types.html)"
   ]
  },
  {
   "cell_type": "markdown",
   "metadata": {
    "id": "DTCnuASsz3mq"
   },
   "source": [
    "As mentioned earlier, ndarrays can also hold strings. Let's see how we can create a rank 1 ndarray of strings in the same manner as before, by providing the np.array() function a Python list of strings."
   ]
  },
  {
   "cell_type": "code",
   "execution_count": null,
   "metadata": {
    "colab": {
     "base_uri": "https://localhost:8080/",
     "height": 137
    },
    "id": "W3rhKGfAwAOH",
    "outputId": "c7b085a7-ac97-4e3d-aa93-8757291e7ef4"
   },
   "outputs": [],
   "source": [
    "# We create a rank 1 ndarray that only contains strings\n",
    "x = np.array(['Hello', 'World'])\n",
    "\n",
    "# We print x\n",
    "print()\n",
    "print('x = ', x)\n",
    "print()\n",
    "\n",
    "# We print information about x\n",
    "print('x has dimensions:', x.shape)\n",
    "print('x is an object of type:', type(x))\n",
    "print('The elements in x are of type:', x.dtype)"
   ]
  },
  {
   "cell_type": "markdown",
   "metadata": {
    "id": "XaJ8fHUx0Ey7"
   },
   "source": [
    "It is important to remember that one big difference between Python lists and ndarrays, is that unlike Python lists, all the elements of an ndarray must be of the same type. So, while we can create Python lists with both integers and strings, we can't mix types in ndarrays. If you provide the np.array() function with a Python list that has both integers and strings, NumPy will interpret all elements as strings. We can see this in the next example:"
   ]
  },
  {
   "cell_type": "code",
   "execution_count": null,
   "metadata": {
    "colab": {
     "base_uri": "https://localhost:8080/",
     "height": 137
    },
    "id": "ACE0Mqcrz5-E",
    "outputId": "f20b73e7-fd02-47f1-d9ed-20923c0da42d"
   },
   "outputs": [],
   "source": [
    "# We create a rank 1 ndarray from a Python list that contains integers and strings\n",
    "x = np.array([1, 2, 'World'])\n",
    "\n",
    "# We print the ndarray\n",
    "print()\n",
    "print('x = ', x)\n",
    "print()\n",
    "\n",
    "# We print information about x\n",
    "print('x has dimensions:', x.shape)\n",
    "print('x is an object of type:', type(x))\n",
    "print('The elements in x are of type:', x.dtype)"
   ]
  },
  {
   "cell_type": "markdown",
   "metadata": {
    "id": "PFK0xNh-1hkE"
   },
   "source": [
    "Let us now look at how we can create a rank 2 ndarray from a nested Python list."
   ]
  },
  {
   "cell_type": "code",
   "execution_count": null,
   "metadata": {
    "colab": {
     "base_uri": "https://localhost:8080/",
     "height": 220
    },
    "id": "mCEls7XS0IDI",
    "outputId": "600e0e6e-35cc-4bea-e8c5-85cfc3fca72a"
   },
   "outputs": [],
   "source": [
    "# We create a rank 2 ndarray that only contains integers\n",
    "Y = np.array([[1,2,3],[4,5,6],[7,8,9], [10,11,12]])\n",
    "\n",
    "# We print Y\n",
    "print()\n",
    "print('Y = \\n', Y)\n",
    "print()\n",
    "\n",
    "# We print information about Y\n",
    "print('Y has dimensions:', Y.shape)\n",
    "print('Y has a total of', Y.size, 'elements')\n",
    "print('Y is an object of type:', type(Y))\n",
    "print('The elements in Y are of type:', Y.dtype)"
   ]
  },
  {
   "cell_type": "markdown",
   "metadata": {
    "id": "BEGW5NcV1uK5"
   },
   "source": [
    "Up to now, we have only created ndarrays with integers and strings. We saw that when we create an ndarray with only integers, NumPy will automatically assign the dtype int64 to its elements. Let's see what happens when we create ndarrays with floats and integers."
   ]
  },
  {
   "cell_type": "code",
   "execution_count": 3,
   "metadata": {
    "colab": {
     "base_uri": "https://localhost:8080/",
     "height": 87
    },
    "id": "bb26oQPg1jty",
    "outputId": "9a62d4b3-72e7-4ace-c6c0-e9c518b0e34f"
   },
   "outputs": [
    {
     "name": "stdout",
     "output_type": "stream",
     "text": [
      "The elements in x are of type: int64\n",
      "The elements in y are of type: float64\n",
      "The elements in z are of type: float64\n"
     ]
    }
   ],
   "source": [
    "# We create a rank 1 ndarray that contains integers\n",
    "x = np.array([1,2,3])\n",
    "\n",
    "# We create a rank 1 ndarray that contains floats\n",
    "y = np.array([1.0,2.0,3.0])\n",
    "\n",
    "# We create a rank 1 ndarray that contains integers and floats\n",
    "z = np.array([1, 2.5, 4])\n",
    "\n",
    "# We print the dtype of each ndarray\n",
    "print('The elements in x are of type:', x.dtype)\n",
    "print('The elements in y are of type:', y.dtype)\n",
    "print('The elements in z are of type:', z.dtype)"
   ]
  },
  {
   "cell_type": "markdown",
   "metadata": {
    "id": "0z7cLmFD17Kw"
   },
   "source": [
    "Notice that when we create an ndarray with both floats and integers, as we did with the z ndarray above, NumPy assigns its elements a *float64* dtype as well. This is called upcasting. Since all the elements of an ndarray must be of the same type, in this case NumPy upcasts the integers in z to floats in order to avoid losing precision in numerical computations."
   ]
  },
  {
   "cell_type": "markdown",
   "metadata": {
    "id": "XUmzWrvr2AVp"
   },
   "source": [
    "Even though NumPy automatically selects the dtype of the ndarray, NumPy also allows you to specify the particular dtype you want to assign to the elements of the ndarray. You can specify the dtype when you create the ndarray using the keyword dtype in the np.array() function. Let's see an example:"
   ]
  },
  {
   "cell_type": "code",
   "execution_count": null,
   "metadata": {
    "colab": {
     "base_uri": "https://localhost:8080/",
     "height": 104
    },
    "id": "_BSEAZgQ1wsx",
    "outputId": "da136eb8-2dd9-4c3b-f048-1fa9b9e5a740"
   },
   "outputs": [],
   "source": [
    "# We create a rank 1 ndarray of floats but set the dtype to int64\n",
    "x = np.array([1.5, 2.2, 3.7, 4.0, 5.9], dtype = np.int64)\n",
    "\n",
    "# We print x\n",
    "print()\n",
    "print('x = ', x)\n",
    "print()\n",
    "\n",
    "# We print the dtype x\n",
    "print('The elements in x are of type:', x.dtype)"
   ]
  },
  {
   "cell_type": "markdown",
   "metadata": {
    "id": "IIo6BbvW23A3"
   },
   "source": [
    "Once you create an ndarray, you may want to save it to a file to be read later or to be used by another program. NumPy provides a way to save the arrays into files for later use - let's see how this is done."
   ]
  },
  {
   "cell_type": "code",
   "execution_count": null,
   "metadata": {
    "id": "heCxnnFC2UcA"
   },
   "outputs": [],
   "source": [
    "# We create a rank 1 ndarray\n",
    "x = np.array([1, 2, 3, 4, 5])\n",
    "\n",
    "# We save x into the current directory as \n",
    "np.save('my_array', x)"
   ]
  },
  {
   "cell_type": "markdown",
   "metadata": {
    "id": "2zclAmaE28Ki"
   },
   "source": [
    "The above saves the x ndarray into a file named my_array.npy. You can load the saved ndarray into a variable by using the load() function."
   ]
  },
  {
   "cell_type": "markdown",
   "metadata": {
    "id": "fqT_YREU3Bug"
   },
   "source": [
    "> When loading an array from a file, make sure you include the name of the file together with the extension .npy, otherwise you will get an error."
   ]
  },
  {
   "cell_type": "code",
   "execution_count": null,
   "metadata": {
    "colab": {
     "base_uri": "https://localhost:8080/"
    },
    "id": "A0LqlywX26AG",
    "outputId": "8971e9de-9229-4e21-aab8-53b548734066"
   },
   "outputs": [],
   "source": [
    "# We load the saved array from our current directory into variable y\n",
    "y = np.load('my_array.npy')\n",
    "\n",
    "# We print y\n",
    "print()\n",
    "print('y = ', y)\n",
    "print()\n",
    "\n",
    "# We print information about the ndarray we loaded\n",
    "print('y is an object of type:', type(y))\n",
    "print('The elements in y are of type:', y.dtype)"
   ]
  },
  {
   "cell_type": "markdown",
   "metadata": {
    "id": "rotqBT2MFNux"
   },
   "source": [
    "## **Specialized ndarrays:**"
   ]
  },
  {
   "cell_type": "markdown",
   "metadata": {
    "id": "BeRM9Yu7FKVR"
   },
   "source": [
    "One great time-saving feature of NumPy is its ability to create ndarrays using built-in functions. These functions allow us to create certain kinds of ndarrays with just one line of code. Below we will see a few of the most useful built-in functions for creating ndarrays that you will come across when doing AI programming.\n",
    "\n",
    "### **np.zeros():**\n",
    "\n",
    "Let's start by creating an ndarray with a specified shape that is full of zeros. We can do this by using the np.zeros() function. The function np.zeros(shape) creates an ndarray full of zeros with the given shape. So, for example, if you wanted to create a rank 2 array with 3 rows and 4 columns, you will pass the shape to the function in the form of (rows, columns), as in the example below:"
   ]
  },
  {
   "cell_type": "code",
   "execution_count": 4,
   "metadata": {
    "colab": {
     "base_uri": "https://localhost:8080/"
    },
    "id": "w97eI9UE2_CQ",
    "outputId": "ca316a4f-5f98-4e1b-a04f-0104403b3864"
   },
   "outputs": [
    {
     "name": "stdout",
     "output_type": "stream",
     "text": [
      "\n",
      "X = \n",
      " [[0. 0. 0. 0.]\n",
      " [0. 0. 0. 0.]\n",
      " [0. 0. 0. 0.]]\n",
      "\n",
      "X has dimensions: (3, 4)\n",
      "X is an object of type: <class 'numpy.ndarray'>\n",
      "The elements in X are of type: float64\n"
     ]
    }
   ],
   "source": [
    "# We create a 3 x 4 ndarray full of zeros. \n",
    "X = np.zeros((3,4))\n",
    "\n",
    "# We print X\n",
    "print()\n",
    "print('X = \\n', X)\n",
    "print()\n",
    "\n",
    "# We print information about X\n",
    "print('X has dimensions:', X.shape)\n",
    "print('X is an object of type:', type(X))\n",
    "print('The elements in X are of type:', X.dtype)\n"
   ]
  },
  {
   "cell_type": "markdown",
   "metadata": {
    "id": "eriuCEtcFah5"
   },
   "source": [
    "> As we can see, the np.zeros() function creates by default an array with dtype float64. If desired, the data type can be changed by using the keyword dtype.\n",
    "\n",
    "### **np.ones:**\n",
    "\n",
    "Similarly, we can create an ndarray with a specified shape that is full of ones. We can do this by using the np.ones() function. Just like the np.zeros() function, the np.ones() function takes as an argument the shape of the ndarray you want to make. Let's see an example:"
   ]
  },
  {
   "cell_type": "code",
   "execution_count": 5,
   "metadata": {
    "colab": {
     "base_uri": "https://localhost:8080/",
     "height": 186
    },
    "id": "iupUtBcYFXWM",
    "outputId": "5eacb580-002e-44bd-eca3-a234b9b15c4a"
   },
   "outputs": [
    {
     "name": "stdout",
     "output_type": "stream",
     "text": [
      "\n",
      "X = \n",
      " [[1. 1.]\n",
      " [1. 1.]\n",
      " [1. 1.]]\n",
      "\n",
      "X has dimensions: (3, 2)\n",
      "X is an object of type: <class 'numpy.ndarray'>\n",
      "The elements in X are of type: float64\n"
     ]
    }
   ],
   "source": [
    "# We create a 3 x 2 ndarray full of ones. \n",
    "X = np.ones((3,2))\n",
    "\n",
    "# We print X\n",
    "print()\n",
    "print('X = \\n', X)\n",
    "print()\n",
    "\n",
    "# We print information about X\n",
    "print('X has dimensions:', X.shape)\n",
    "print('X is an object of type:', type(X))\n",
    "print('The elements in X are of type:', X.dtype) "
   ]
  },
  {
   "cell_type": "markdown",
   "metadata": {
    "id": "XVoiNeI3GJx6"
   },
   "source": [
    "### **np.full():**\n",
    "We can also create an ndarray with a specified shape that is full of any number we want. We can do this by using the np.full() function. The np.full(shape, constant value) function takes two arguments. The first argument is the shape of the ndarray you want to make and the second is the constant value you want to populate the array with. Let's see an example:"
   ]
  },
  {
   "cell_type": "code",
   "execution_count": 6,
   "metadata": {
    "colab": {
     "base_uri": "https://localhost:8080/",
     "height": 170
    },
    "id": "91DRW1O1Fy9A",
    "outputId": "0da40471-a0eb-4de4-f9bf-a60de030bae6"
   },
   "outputs": [
    {
     "name": "stdout",
     "output_type": "stream",
     "text": [
      "\n",
      "X = \n",
      " [[5 5 5]\n",
      " [5 5 5]]\n",
      "\n",
      "X has dimensions: (2, 3)\n",
      "X is an object of type: <class 'numpy.ndarray'>\n",
      "The elements in X are of type: int64\n"
     ]
    }
   ],
   "source": [
    "# We create a 2 x 3 ndarray full of fives. \n",
    "X = np.full((2,3), 5) \n",
    "\n",
    "# We print X\n",
    "print()\n",
    "print('X = \\n', X)\n",
    "print()\n",
    "\n",
    "# We print information about X\n",
    "print('X has dimensions:', X.shape)\n",
    "print('X is an object of type:', type(X))\n",
    "print('The elements in X are of type:', X.dtype)"
   ]
  },
  {
   "cell_type": "markdown",
   "metadata": {
    "id": "Iq62WNEdGcds"
   },
   "source": [
    "### **np.eye():**\n",
    "An Identity matrix is a square matrix that has only 1s in its main diagonal and zeros everywhere else. The function np.eye(N) creates a square N x N ndarray corresponding to the Identity matrix. Since all Identity Matrices are square, the np.eye() function only takes a single integer as an argument. Let's see an example:"
   ]
  },
  {
   "cell_type": "code",
   "execution_count": 7,
   "metadata": {
    "colab": {
     "base_uri": "https://localhost:8080/",
     "height": 220
    },
    "id": "MqrDmyhxGcIO",
    "outputId": "87689d57-208e-43d2-9c2a-16b663980a32"
   },
   "outputs": [
    {
     "name": "stdout",
     "output_type": "stream",
     "text": [
      "\n",
      "X = \n",
      " [[1. 0. 0. 0. 0.]\n",
      " [0. 1. 0. 0. 0.]\n",
      " [0. 0. 1. 0. 0.]\n",
      " [0. 0. 0. 1. 0.]\n",
      " [0. 0. 0. 0. 1.]]\n",
      "\n",
      "X has dimensions: (5, 5)\n",
      "X is an object of type: <class 'numpy.ndarray'>\n",
      "The elements in X are of type: float64\n"
     ]
    }
   ],
   "source": [
    "# We create a 5 x 5 Identity matrix. \n",
    "X = np.eye(5)\n",
    "\n",
    "# We print X\n",
    "print()\n",
    "print('X = \\n', X)\n",
    "print()\n",
    "\n",
    "# We print information about X\n",
    "print('X has dimensions:', X.shape)\n",
    "print('X is an object of type:', type(X))\n",
    "print('The elements in X are of type:', X.dtype)  "
   ]
  },
  {
   "cell_type": "markdown",
   "metadata": {
    "id": "28i2JuXSGtyZ"
   },
   "source": [
    "### **np.diag():**\n",
    "We can also create diagonal matrices by using the np.diag() function. A diagonal matrix is a square matrix that only has values in its main diagonal. The np.diag() function creates an ndarray corresponding to a diagonal matrix , as shown in the example below:"
   ]
  },
  {
   "cell_type": "code",
   "execution_count": null,
   "metadata": {
    "colab": {
     "base_uri": "https://localhost:8080/"
    },
    "id": "kZ8T3h4pGR29",
    "outputId": "14c149c9-8ac3-4378-da44-4943c08ff295"
   },
   "outputs": [],
   "source": [
    "# Create a 4 x 4 diagonal matrix\n",
    "# on its main diagonal\n",
    "X = np.diag([10,20,30,50,60,70,80,90])\n",
    "\n",
    "# We print X\n",
    "print()\n",
    "print('X = \\n', X)\n",
    "print()"
   ]
  },
  {
   "cell_type": "markdown",
   "metadata": {
    "id": "7mcJx5xHHY0Z"
   },
   "source": [
    "### **np.arange():**\n",
    "NumPy also allows you to create ndarrays that have evenly spaced values within a given interval. NumPy's np.arange() function is very versatile and can be used with either one, two, or three arguments. Below we will see examples of each case and how they are used to create different kinds of ndarrays.\n",
    "\n",
    "Let's start by using np.arange() with only one argument. When used with only one argument, np.arange(N) will create a rank 1 ndarray with consecutive integers between 0 and N - 1. "
   ]
  },
  {
   "cell_type": "code",
   "execution_count": 8,
   "metadata": {
    "colab": {
     "base_uri": "https://localhost:8080/",
     "height": 137
    },
    "id": "i4ZA3x60Hjpe",
    "outputId": "06d5088a-103a-40f6-a508-ec1da572041f"
   },
   "outputs": [
    {
     "name": "stdout",
     "output_type": "stream",
     "text": [
      "\n",
      "x =  [0 1 2 3 4 5 6 7 8 9]\n",
      "\n",
      "x has dimensions: (10,)\n",
      "x is an object of type: <class 'numpy.ndarray'>\n",
      "The elements in x are of type: int64\n"
     ]
    }
   ],
   "source": [
    "# We create a rank 1 ndarray that has sequential integers from 0 to 9\n",
    "x = np.arange(10)\n",
    "\n",
    "# We print the ndarray\n",
    "print()\n",
    "print('x = ', x)\n",
    "print()\n",
    "\n",
    "# We print information about the ndarray\n",
    "print('x has dimensions:', x.shape)\n",
    "print('x is an object of type:', type(x))\n",
    "print('The elements in x are of type:', x.dtype) "
   ]
  },
  {
   "cell_type": "code",
   "execution_count": 24,
   "metadata": {},
   "outputs": [
    {
     "name": "stdout",
     "output_type": "stream",
     "text": [
      "a1 =  [10 12 14 16 18 20 22 24 26 28 30 32 34 36 38 40 42 44 46 48 50 52 54 56\n",
      " 58 60 62 64 66 68 70 72 74 76 78 80 82 84 86 88 90 92 94 96 98] \n",
      "len(a1) : 45\n",
      "\n",
      "a2 = [10 12 14 16 18 20 22 24 26 28 30 32 34 36 38 40 42 44 46 48 50 52 54 56\n",
      " 58 60 62 64 66 68 70 72 74 76 78 80 82 84 86 88 90 92 94 96 98] \n",
      "len(a2) : 45\n"
     ]
    }
   ],
   "source": [
    "a1 = np.arange(10,100,2)\n",
    "a2 = np.arange(10,100,step=2)\n",
    "print('a1 = ',a1,'\\nlen(a1) :', len(a1))\n",
    "print()\n",
    "print('a2 =',a2, '\\nlen(a2) :', len(a2))"
   ]
  },
  {
   "cell_type": "markdown",
   "metadata": {
    "id": "mYqdyfZTHxqP"
   },
   "source": [
    "When used with two arguments, np.arange(start,stop) will create a rank 1 ndarray with evenly spaced values within the half-open interval [start, stop). This means the evenly spaced numbers will include start but exclude stop. Let's see an example"
   ]
  },
  {
   "cell_type": "code",
   "execution_count": 9,
   "metadata": {
    "colab": {
     "base_uri": "https://localhost:8080/",
     "height": 137
    },
    "id": "UBcnbmquHrgl",
    "outputId": "3a181743-e07d-4347-ac5d-03a49d53302e",
    "scrolled": true
   },
   "outputs": [
    {
     "name": "stdout",
     "output_type": "stream",
     "text": [
      "\n",
      "x =  [4 5 6 7 8 9]\n",
      "\n",
      "x has dimensions: (6,)\n",
      "x is an object of type: <class 'numpy.ndarray'>\n",
      "The elements in x are of type: int64\n"
     ]
    }
   ],
   "source": [
    "# We create a rank 1 ndarray that has sequential integers from 4 to 9. \n",
    "x = np.arange(4,10)\n",
    "\n",
    "# We print the ndarray\n",
    "print()\n",
    "print('x = ', x)\n",
    "print()\n",
    "\n",
    "# We print information about the ndarray\n",
    "print('x has dimensions:', x.shape)\n",
    "print('x is an object of type:', type(x))\n",
    "print('The elements in x are of type:', x.dtype) "
   ]
  },
  {
   "cell_type": "markdown",
   "metadata": {
    "id": "-k99cyrkH7EE"
   },
   "source": [
    "Finally, when used with three arguments, np.arange(start,stop,step) will create a rank 1 ndarray with evenly spaced values within the half-open interval [start, stop) with step being the distance between two adjacent values. Let's see an example:"
   ]
  },
  {
   "cell_type": "code",
   "execution_count": 10,
   "metadata": {
    "colab": {
     "base_uri": "https://localhost:8080/"
    },
    "id": "7AnrqDCQH34G",
    "outputId": "f83bba5c-73cf-49ea-9666-dd1b9a5d1d60"
   },
   "outputs": [
    {
     "name": "stdout",
     "output_type": "stream",
     "text": [
      "\n",
      "x =  [ 1  4  7 10 13]\n",
      "\n",
      "x has dimensions: (5,)\n",
      "x is an object of type: <class 'numpy.ndarray'>\n",
      "The elements in x are of type: int64\n"
     ]
    }
   ],
   "source": [
    "# We create a rank 1 ndarray that has evenly spaced \n",
    "# integers from 1 to 13 in steps of 3.\n",
    "x = np.arange(1,14,3)\n",
    "\n",
    "# We print the ndarray\n",
    "print()\n",
    "print('x = ', x)\n",
    "print()\n",
    "\n",
    "# We print information about the ndarray\n",
    "print('x has dimensions:', x.shape)\n",
    "print('x is an object of type:', type(x))\n",
    "print('The elements in x are of type:', x.dtype) "
   ]
  },
  {
   "cell_type": "markdown",
   "metadata": {
    "id": "8ViXZqneuL7i"
   },
   "source": [
    "## **np.linspace():**\n",
    "\n",
    "Even though the np.arange() function allows for non-integer steps, such as 0.3, the output is usually inconsistent, due to the finite floating point precision. For this reason, in the cases where non-integer steps are required, it is usually better to use the function np.linspace(). The np.linspace(start, stop, N) function returns N evenly spaced numbers over the closed interval [start, stop]. This means that both the start and thestop values are included. We should also note the np.linspace() function needs to be called with at least two arguments in the form np.linspace(start,stop). In this case, the default number of elements in the specified interval will be N= 50. The reason np.linspace() works better than the np.arange() function, is that np.linspace() uses the number of elements we want in a particular interval, instead of the step between values. Let's see some examples:"
   ]
  },
  {
   "cell_type": "code",
   "execution_count": null,
   "metadata": {
    "colab": {
     "base_uri": "https://localhost:8080/",
     "height": 170
    },
    "id": "rVOpuq8zIBhQ",
    "outputId": "80ccf81a-0bf7-4619-f190-5acb958abf5e"
   },
   "outputs": [],
   "source": [
    "# We create a rank 1 ndarray that has 10 integers evenly spaced between 0 and 25.\n",
    "x = np.linspace(0,25,10)\n",
    "\n",
    "# We print the ndarray\n",
    "print()\n",
    "print('x = \\n', x)\n",
    "print()\n",
    "\n",
    "# We print information about the ndarray\n",
    "print('x has dimensions:', x.shape)\n",
    "print('x is an object of type:', type(x))\n",
    "print('The elements in x are of type:', x.dtype)\n",
    "\n",
    "# As we can see from the above example, the function np.linspace(0,25,10) returns an ndarray with 10 evenly spaced numbers in the closed interval [0, 25]. We can also see that both the start and end points, 0 and 25 in this case, are included. However, you can let the endpoint of the interval be excluded (just like in the np.arange() function) by setting the keyword endpoint = False in the np.linspace() function. Lets create the same x ndarray we created above but now with the endpoint excluded:\n",
    "\n",
    "# We create a rank 1 ndarray that has 10 integers evenly spaced between 0 and 25,\n",
    "# with 25 excluded.\n",
    "x = np.linspace(0,25,10, endpoint = False)\n",
    "\n",
    "# We print the ndarray\n",
    "print()\n",
    "print('x = ', x)\n",
    "print()\n",
    "\n",
    "# We print information about the ndarray\n",
    "print('x has dimensions:', x.shape)\n",
    "print('x is an object of type:', type(x))\n",
    "print('The elements in x are of type:', x.dtype)"
   ]
  },
  {
   "cell_type": "code",
   "execution_count": 28,
   "metadata": {},
   "outputs": [
    {
     "name": "stdout",
     "output_type": "stream",
     "text": [
      "[  0.           0.1001001    0.2002002    0.3003003    0.4004004\n",
      "   0.5005005    0.6006006    0.7007007    0.8008008    0.9009009\n",
      "   1.001001     1.1011011    1.2012012    1.3013013    1.4014014\n",
      "   1.5015015    1.6016016    1.7017017    1.8018018    1.9019019\n",
      "   2.002002     2.1021021    2.2022022    2.3023023    2.4024024\n",
      "   2.5025025    2.6026026    2.7027027    2.8028028    2.9029029\n",
      "   3.003003     3.1031031    3.2032032    3.3033033    3.4034034\n",
      "   3.5035035    3.6036036    3.7037037    3.8038038    3.9039039\n",
      "   4.004004     4.1041041    4.2042042    4.3043043    4.4044044\n",
      "   4.5045045    4.6046046    4.7047047    4.8048048    4.9049049\n",
      "   5.00500501   5.10510511   5.20520521   5.30530531   5.40540541\n",
      "   5.50550551   5.60560561   5.70570571   5.80580581   5.90590591\n",
      "   6.00600601   6.10610611   6.20620621   6.30630631   6.40640641\n",
      "   6.50650651   6.60660661   6.70670671   6.80680681   6.90690691\n",
      "   7.00700701   7.10710711   7.20720721   7.30730731   7.40740741\n",
      "   7.50750751   7.60760761   7.70770771   7.80780781   7.90790791\n",
      "   8.00800801   8.10810811   8.20820821   8.30830831   8.40840841\n",
      "   8.50850851   8.60860861   8.70870871   8.80880881   8.90890891\n",
      "   9.00900901   9.10910911   9.20920921   9.30930931   9.40940941\n",
      "   9.50950951   9.60960961   9.70970971   9.80980981   9.90990991\n",
      "  10.01001001  10.11011011  10.21021021  10.31031031  10.41041041\n",
      "  10.51051051  10.61061061  10.71071071  10.81081081  10.91091091\n",
      "  11.01101101  11.11111111  11.21121121  11.31131131  11.41141141\n",
      "  11.51151151  11.61161161  11.71171171  11.81181181  11.91191191\n",
      "  12.01201201  12.11211211  12.21221221  12.31231231  12.41241241\n",
      "  12.51251251  12.61261261  12.71271271  12.81281281  12.91291291\n",
      "  13.01301301  13.11311311  13.21321321  13.31331331  13.41341341\n",
      "  13.51351351  13.61361361  13.71371371  13.81381381  13.91391391\n",
      "  14.01401401  14.11411411  14.21421421  14.31431431  14.41441441\n",
      "  14.51451451  14.61461461  14.71471471  14.81481481  14.91491491\n",
      "  15.01501502  15.11511512  15.21521522  15.31531532  15.41541542\n",
      "  15.51551552  15.61561562  15.71571572  15.81581582  15.91591592\n",
      "  16.01601602  16.11611612  16.21621622  16.31631632  16.41641642\n",
      "  16.51651652  16.61661662  16.71671672  16.81681682  16.91691692\n",
      "  17.01701702  17.11711712  17.21721722  17.31731732  17.41741742\n",
      "  17.51751752  17.61761762  17.71771772  17.81781782  17.91791792\n",
      "  18.01801802  18.11811812  18.21821822  18.31831832  18.41841842\n",
      "  18.51851852  18.61861862  18.71871872  18.81881882  18.91891892\n",
      "  19.01901902  19.11911912  19.21921922  19.31931932  19.41941942\n",
      "  19.51951952  19.61961962  19.71971972  19.81981982  19.91991992\n",
      "  20.02002002  20.12012012  20.22022022  20.32032032  20.42042042\n",
      "  20.52052052  20.62062062  20.72072072  20.82082082  20.92092092\n",
      "  21.02102102  21.12112112  21.22122122  21.32132132  21.42142142\n",
      "  21.52152152  21.62162162  21.72172172  21.82182182  21.92192192\n",
      "  22.02202202  22.12212212  22.22222222  22.32232232  22.42242242\n",
      "  22.52252252  22.62262262  22.72272272  22.82282282  22.92292292\n",
      "  23.02302302  23.12312312  23.22322322  23.32332332  23.42342342\n",
      "  23.52352352  23.62362362  23.72372372  23.82382382  23.92392392\n",
      "  24.02402402  24.12412412  24.22422422  24.32432432  24.42442442\n",
      "  24.52452452  24.62462462  24.72472472  24.82482482  24.92492492\n",
      "  25.02502503  25.12512513  25.22522523  25.32532533  25.42542543\n",
      "  25.52552553  25.62562563  25.72572573  25.82582583  25.92592593\n",
      "  26.02602603  26.12612613  26.22622623  26.32632633  26.42642643\n",
      "  26.52652653  26.62662663  26.72672673  26.82682683  26.92692693\n",
      "  27.02702703  27.12712713  27.22722723  27.32732733  27.42742743\n",
      "  27.52752753  27.62762763  27.72772773  27.82782783  27.92792793\n",
      "  28.02802803  28.12812813  28.22822823  28.32832833  28.42842843\n",
      "  28.52852853  28.62862863  28.72872873  28.82882883  28.92892893\n",
      "  29.02902903  29.12912913  29.22922923  29.32932933  29.42942943\n",
      "  29.52952953  29.62962963  29.72972973  29.82982983  29.92992993\n",
      "  30.03003003  30.13013013  30.23023023  30.33033033  30.43043043\n",
      "  30.53053053  30.63063063  30.73073073  30.83083083  30.93093093\n",
      "  31.03103103  31.13113113  31.23123123  31.33133133  31.43143143\n",
      "  31.53153153  31.63163163  31.73173173  31.83183183  31.93193193\n",
      "  32.03203203  32.13213213  32.23223223  32.33233233  32.43243243\n",
      "  32.53253253  32.63263263  32.73273273  32.83283283  32.93293293\n",
      "  33.03303303  33.13313313  33.23323323  33.33333333  33.43343343\n",
      "  33.53353353  33.63363363  33.73373373  33.83383383  33.93393393\n",
      "  34.03403403  34.13413413  34.23423423  34.33433433  34.43443443\n",
      "  34.53453453  34.63463463  34.73473473  34.83483483  34.93493493\n",
      "  35.03503504  35.13513514  35.23523524  35.33533534  35.43543544\n",
      "  35.53553554  35.63563564  35.73573574  35.83583584  35.93593594\n",
      "  36.03603604  36.13613614  36.23623624  36.33633634  36.43643644\n",
      "  36.53653654  36.63663664  36.73673674  36.83683684  36.93693694\n",
      "  37.03703704  37.13713714  37.23723724  37.33733734  37.43743744\n",
      "  37.53753754  37.63763764  37.73773774  37.83783784  37.93793794\n",
      "  38.03803804  38.13813814  38.23823824  38.33833834  38.43843844\n",
      "  38.53853854  38.63863864  38.73873874  38.83883884  38.93893894\n",
      "  39.03903904  39.13913914  39.23923924  39.33933934  39.43943944\n",
      "  39.53953954  39.63963964  39.73973974  39.83983984  39.93993994\n",
      "  40.04004004  40.14014014  40.24024024  40.34034034  40.44044044\n",
      "  40.54054054  40.64064064  40.74074074  40.84084084  40.94094094\n",
      "  41.04104104  41.14114114  41.24124124  41.34134134  41.44144144\n",
      "  41.54154154  41.64164164  41.74174174  41.84184184  41.94194194\n",
      "  42.04204204  42.14214214  42.24224224  42.34234234  42.44244244\n",
      "  42.54254254  42.64264264  42.74274274  42.84284284  42.94294294\n",
      "  43.04304304  43.14314314  43.24324324  43.34334334  43.44344344\n",
      "  43.54354354  43.64364364  43.74374374  43.84384384  43.94394394\n",
      "  44.04404404  44.14414414  44.24424424  44.34434434  44.44444444\n",
      "  44.54454454  44.64464464  44.74474474  44.84484484  44.94494494\n",
      "  45.04504505  45.14514515  45.24524525  45.34534535  45.44544545\n",
      "  45.54554555  45.64564565  45.74574575  45.84584585  45.94594595\n",
      "  46.04604605  46.14614615  46.24624625  46.34634635  46.44644645\n",
      "  46.54654655  46.64664665  46.74674675  46.84684685  46.94694695\n",
      "  47.04704705  47.14714715  47.24724725  47.34734735  47.44744745\n",
      "  47.54754755  47.64764765  47.74774775  47.84784785  47.94794795\n",
      "  48.04804805  48.14814815  48.24824825  48.34834835  48.44844845\n",
      "  48.54854855  48.64864865  48.74874875  48.84884885  48.94894895\n",
      "  49.04904905  49.14914915  49.24924925  49.34934935  49.44944945\n",
      "  49.54954955  49.64964965  49.74974975  49.84984985  49.94994995\n",
      "  50.05005005  50.15015015  50.25025025  50.35035035  50.45045045\n",
      "  50.55055055  50.65065065  50.75075075  50.85085085  50.95095095\n",
      "  51.05105105  51.15115115  51.25125125  51.35135135  51.45145145\n",
      "  51.55155155  51.65165165  51.75175175  51.85185185  51.95195195\n",
      "  52.05205205  52.15215215  52.25225225  52.35235235  52.45245245\n",
      "  52.55255255  52.65265265  52.75275275  52.85285285  52.95295295\n",
      "  53.05305305  53.15315315  53.25325325  53.35335335  53.45345345\n",
      "  53.55355355  53.65365365  53.75375375  53.85385385  53.95395395\n",
      "  54.05405405  54.15415415  54.25425425  54.35435435  54.45445445\n",
      "  54.55455455  54.65465465  54.75475475  54.85485485  54.95495495\n",
      "  55.05505506  55.15515516  55.25525526  55.35535536  55.45545546\n",
      "  55.55555556  55.65565566  55.75575576  55.85585586  55.95595596\n",
      "  56.05605606  56.15615616  56.25625626  56.35635636  56.45645646\n",
      "  56.55655656  56.65665666  56.75675676  56.85685686  56.95695696\n",
      "  57.05705706  57.15715716  57.25725726  57.35735736  57.45745746\n",
      "  57.55755756  57.65765766  57.75775776  57.85785786  57.95795796\n",
      "  58.05805806  58.15815816  58.25825826  58.35835836  58.45845846\n",
      "  58.55855856  58.65865866  58.75875876  58.85885886  58.95895896\n",
      "  59.05905906  59.15915916  59.25925926  59.35935936  59.45945946\n",
      "  59.55955956  59.65965966  59.75975976  59.85985986  59.95995996\n",
      "  60.06006006  60.16016016  60.26026026  60.36036036  60.46046046\n",
      "  60.56056056  60.66066066  60.76076076  60.86086086  60.96096096\n",
      "  61.06106106  61.16116116  61.26126126  61.36136136  61.46146146\n",
      "  61.56156156  61.66166166  61.76176176  61.86186186  61.96196196\n",
      "  62.06206206  62.16216216  62.26226226  62.36236236  62.46246246\n",
      "  62.56256256  62.66266266  62.76276276  62.86286286  62.96296296\n",
      "  63.06306306  63.16316316  63.26326326  63.36336336  63.46346346\n",
      "  63.56356356  63.66366366  63.76376376  63.86386386  63.96396396\n",
      "  64.06406406  64.16416416  64.26426426  64.36436436  64.46446446\n",
      "  64.56456456  64.66466466  64.76476476  64.86486486  64.96496496\n",
      "  65.06506507  65.16516517  65.26526527  65.36536537  65.46546547\n",
      "  65.56556557  65.66566567  65.76576577  65.86586587  65.96596597\n",
      "  66.06606607  66.16616617  66.26626627  66.36636637  66.46646647\n",
      "  66.56656657  66.66666667  66.76676677  66.86686687  66.96696697\n",
      "  67.06706707  67.16716717  67.26726727  67.36736737  67.46746747\n",
      "  67.56756757  67.66766767  67.76776777  67.86786787  67.96796797\n",
      "  68.06806807  68.16816817  68.26826827  68.36836837  68.46846847\n",
      "  68.56856857  68.66866867  68.76876877  68.86886887  68.96896897\n",
      "  69.06906907  69.16916917  69.26926927  69.36936937  69.46946947\n",
      "  69.56956957  69.66966967  69.76976977  69.86986987  69.96996997\n",
      "  70.07007007  70.17017017  70.27027027  70.37037037  70.47047047\n",
      "  70.57057057  70.67067067  70.77077077  70.87087087  70.97097097\n",
      "  71.07107107  71.17117117  71.27127127  71.37137137  71.47147147\n",
      "  71.57157157  71.67167167  71.77177177  71.87187187  71.97197197\n",
      "  72.07207207  72.17217217  72.27227227  72.37237237  72.47247247\n",
      "  72.57257257  72.67267267  72.77277277  72.87287287  72.97297297\n",
      "  73.07307307  73.17317317  73.27327327  73.37337337  73.47347347\n",
      "  73.57357357  73.67367367  73.77377377  73.87387387  73.97397397\n",
      "  74.07407407  74.17417417  74.27427427  74.37437437  74.47447447\n",
      "  74.57457457  74.67467467  74.77477477  74.87487487  74.97497497\n",
      "  75.07507508  75.17517518  75.27527528  75.37537538  75.47547548\n",
      "  75.57557558  75.67567568  75.77577578  75.87587588  75.97597598\n",
      "  76.07607608  76.17617618  76.27627628  76.37637638  76.47647648\n",
      "  76.57657658  76.67667668  76.77677678  76.87687688  76.97697698\n",
      "  77.07707708  77.17717718  77.27727728  77.37737738  77.47747748\n",
      "  77.57757758  77.67767768  77.77777778  77.87787788  77.97797798\n",
      "  78.07807808  78.17817818  78.27827828  78.37837838  78.47847848\n",
      "  78.57857858  78.67867868  78.77877878  78.87887888  78.97897898\n",
      "  79.07907908  79.17917918  79.27927928  79.37937938  79.47947948\n",
      "  79.57957958  79.67967968  79.77977978  79.87987988  79.97997998\n",
      "  80.08008008  80.18018018  80.28028028  80.38038038  80.48048048\n",
      "  80.58058058  80.68068068  80.78078078  80.88088088  80.98098098\n",
      "  81.08108108  81.18118118  81.28128128  81.38138138  81.48148148\n",
      "  81.58158158  81.68168168  81.78178178  81.88188188  81.98198198\n",
      "  82.08208208  82.18218218  82.28228228  82.38238238  82.48248248\n",
      "  82.58258258  82.68268268  82.78278278  82.88288288  82.98298298\n",
      "  83.08308308  83.18318318  83.28328328  83.38338338  83.48348348\n",
      "  83.58358358  83.68368368  83.78378378  83.88388388  83.98398398\n",
      "  84.08408408  84.18418418  84.28428428  84.38438438  84.48448448\n",
      "  84.58458458  84.68468468  84.78478478  84.88488488  84.98498498\n",
      "  85.08508509  85.18518519  85.28528529  85.38538539  85.48548549\n",
      "  85.58558559  85.68568569  85.78578579  85.88588589  85.98598599\n",
      "  86.08608609  86.18618619  86.28628629  86.38638639  86.48648649\n",
      "  86.58658659  86.68668669  86.78678679  86.88688689  86.98698699\n",
      "  87.08708709  87.18718719  87.28728729  87.38738739  87.48748749\n",
      "  87.58758759  87.68768769  87.78778779  87.88788789  87.98798799\n",
      "  88.08808809  88.18818819  88.28828829  88.38838839  88.48848849\n",
      "  88.58858859  88.68868869  88.78878879  88.88888889  88.98898899\n",
      "  89.08908909  89.18918919  89.28928929  89.38938939  89.48948949\n",
      "  89.58958959  89.68968969  89.78978979  89.88988989  89.98998999\n",
      "  90.09009009  90.19019019  90.29029029  90.39039039  90.49049049\n",
      "  90.59059059  90.69069069  90.79079079  90.89089089  90.99099099\n",
      "  91.09109109  91.19119119  91.29129129  91.39139139  91.49149149\n",
      "  91.59159159  91.69169169  91.79179179  91.89189189  91.99199199\n",
      "  92.09209209  92.19219219  92.29229229  92.39239239  92.49249249\n",
      "  92.59259259  92.69269269  92.79279279  92.89289289  92.99299299\n",
      "  93.09309309  93.19319319  93.29329329  93.39339339  93.49349349\n",
      "  93.59359359  93.69369369  93.79379379  93.89389389  93.99399399\n",
      "  94.09409409  94.19419419  94.29429429  94.39439439  94.49449449\n",
      "  94.59459459  94.69469469  94.79479479  94.89489489  94.99499499\n",
      "  95.0950951   95.1951952   95.2952953   95.3953954   95.4954955\n",
      "  95.5955956   95.6956957   95.7957958   95.8958959   95.995996\n",
      "  96.0960961   96.1961962   96.2962963   96.3963964   96.4964965\n",
      "  96.5965966   96.6966967   96.7967968   96.8968969   96.996997\n",
      "  97.0970971   97.1971972   97.2972973   97.3973974   97.4974975\n",
      "  97.5975976   97.6976977   97.7977978   97.8978979   97.997998\n",
      "  98.0980981   98.1981982   98.2982983   98.3983984   98.4984985\n",
      "  98.5985986   98.6986987   98.7987988   98.8988989   98.998999\n",
      "  99.0990991   99.1991992   99.2992993   99.3993994   99.4994995\n",
      "  99.5995996   99.6996997   99.7997998   99.8998999  100.        ]\n"
     ]
    }
   ],
   "source": [
    "a = np.linspace(0,100,1000) # divide a range into that many numbers\n",
    "print(a)"
   ]
  },
  {
   "cell_type": "markdown",
   "metadata": {
    "id": "xHA3hotizZoq"
   },
   "source": [
    "## **np.reshape():**\n",
    "So far, we have only used the built-in functions np.arange() and np.linspace() to create rank 1 ndarrays. However, we can use these functions to create rank 2 ndarrays of any shape by combining them with the np.reshape() function. The np.reshape(ndarray, new_shape) function converts the given ndarray into the specified new_shape. It is important to note that the new_shape should be compatible with the number of elements in the given ndarray."
   ]
  },
  {
   "cell_type": "code",
   "execution_count": null,
   "metadata": {
    "colab": {
     "base_uri": "https://localhost:8080/",
     "height": 253
    },
    "id": "CBGX8P2Bzaf_",
    "outputId": "da911b43-4adb-40e9-bc4d-7ab97a5863ea"
   },
   "outputs": [],
   "source": [
    "# We create a rank 1 ndarray with sequential integers from 0 to 19\n",
    "x = np.arange(20)\n",
    "\n",
    "# We print x\n",
    "print()\n",
    "print('Original x = ', x)\n",
    "print()\n",
    "\n",
    "# We reshape x into a 4 x 5 ndarray \n",
    "x = np.reshape(x, (4,5))\n",
    "\n",
    "# We print the reshaped x\n",
    "print()\n",
    "print('Reshaped x = \\n', x)\n",
    "print()\n",
    "\n",
    "# We print information about the reshaped x\n",
    "print('x has dimensions:', x.shape)\n",
    "print('x is an object of type:', type(x))\n",
    "print('The elements in x are of type:', x.dtype) "
   ]
  },
  {
   "cell_type": "markdown",
   "metadata": {
    "id": "EZHoy2duz-v6"
   },
   "source": [
    "One great feature about NumPy, is that some functions can also be applied as methods. This allows us to apply different functions in sequence in just one line of code. ndarray methods are similar to ndarray attributes in that they are both applied using dot notation (.). Let's see how we can accomplish the same result as in the above example, but in just one line of code:"
   ]
  },
  {
   "cell_type": "code",
   "execution_count": 11,
   "metadata": {
    "colab": {
     "base_uri": "https://localhost:8080/",
     "height": 203
    },
    "id": "vm5wTd5oze11",
    "outputId": "8f12e4a7-53e8-48bf-9e62-93b0487aba85"
   },
   "outputs": [
    {
     "name": "stdout",
     "output_type": "stream",
     "text": [
      "\n",
      "Y = \n",
      " [[ 0  1  2  3  4]\n",
      " [ 5  6  7  8  9]\n",
      " [10 11 12 13 14]\n",
      " [15 16 17 18 19]]\n",
      "\n",
      "Y has dimensions: (4, 5)\n",
      "Y is an object of type: <class 'numpy.ndarray'>\n",
      "The elements in Y are of type: int64\n"
     ]
    }
   ],
   "source": [
    "# We create a a rank 1 ndarray with sequential integers from 0 to 19 and\n",
    "# reshape it to a 4 x 5 array \n",
    "Y = np.arange(20).reshape(4, 5)\n",
    "\n",
    "# We print Y\n",
    "print()\n",
    "print('Y = \\n', Y)\n",
    "print()\n",
    "\n",
    "# We print information about Y\n",
    "print('Y has dimensions:', Y.shape)\n",
    "print('Y is an object of type:', type(Y))\n",
    "print('The elements in Y are of type:', Y.dtype)"
   ]
  },
  {
   "cell_type": "markdown",
   "metadata": {
    "id": "T2vboYR30a__"
   },
   "source": [
    "In the same manner, we can also combine reshape() with np.linspace() to create rank 2 arrays, as shown in the next example."
   ]
  },
  {
   "cell_type": "code",
   "execution_count": null,
   "metadata": {
    "colab": {
     "base_uri": "https://localhost:8080/",
     "height": 220
    },
    "id": "uZgWrDH10b6b",
    "outputId": "81263851-5635-42b7-84c6-15ed65de6ce4"
   },
   "outputs": [],
   "source": [
    "# We create a rank 1 ndarray with 10 integers evenly spaced between 0 and 50,\n",
    "# with 50 excluded. We then reshape it to a 5 x 2 ndarray\n",
    "X = np.linspace(0,50,10, endpoint=False).reshape(5,2)\n",
    "\n",
    "# We print X\n",
    "print()\n",
    "print('X = \\n', X)\n",
    "print()\n",
    "\n",
    "# We print information about X\n",
    "print('X has dimensions:', X.shape)\n",
    "print('X is an object of type:', type(X))\n",
    "print('The elements in X are of type:', X.dtype)"
   ]
  },
  {
   "cell_type": "markdown",
   "metadata": {
    "id": "krYChE6J0vVv"
   },
   "source": [
    "## **Random:**\n",
    "The last type of ndarrays we are going to create are random ndarrays. Random ndarrays are arrays that contain random numbers. Often in Machine Learning, you need to create random matrices, for example, when initializing the weights of a Neural Network. NumPy offers a variety of random functions to help us create random ndarrays of any shape."
   ]
  },
  {
   "cell_type": "code",
   "execution_count": 12,
   "metadata": {
    "colab": {
     "base_uri": "https://localhost:8080/",
     "height": 186
    },
    "id": "ve4OSL3J0fFq",
    "outputId": "fdc37494-1104-4b50-dec4-233aacc89929"
   },
   "outputs": [
    {
     "name": "stdout",
     "output_type": "stream",
     "text": [
      "\n",
      "X = \n",
      " [[0.58755439 0.06382181 0.25439824]\n",
      " [0.79212808 0.24738874 0.88149929]\n",
      " [0.09586379 0.10675812 0.77798178]]\n",
      "\n",
      "X has dimensions: (3, 3)\n",
      "X is an object of type: <class 'numpy.ndarray'>\n",
      "The elements in x are of type: float64\n"
     ]
    }
   ],
   "source": [
    "# We create a 3 x 3 ndarray with random floats in the half-open interval [0.0, 1.0).\n",
    "X = np.random.random((3,3))\n",
    "\n",
    "# We print X\n",
    "print()\n",
    "print('X = \\n', X)\n",
    "print()\n",
    "\n",
    "# We print information about X\n",
    "print('X has dimensions:', X.shape)\n",
    "print('X is an object of type:', type(X))\n",
    "print('The elements in x are of type:', X.dtype)"
   ]
  },
  {
   "cell_type": "markdown",
   "metadata": {
    "id": "wOgmWsMW2lMA"
   },
   "source": [
    "NumPy also allows us to create ndarrays with random integers within a particular interval. The function np.random.randint(start, stop, size = shape) creates an ndarray of the given shape with random integers in the half-open interval [start, stop). Let's see an example:"
   ]
  },
  {
   "cell_type": "code",
   "execution_count": null,
   "metadata": {
    "colab": {
     "base_uri": "https://localhost:8080/",
     "height": 186
    },
    "id": "8JluLn5s2huf",
    "outputId": "3ba3833a-2ac5-40ae-834d-995fb1e6217c"
   },
   "outputs": [],
   "source": [
    "# We create a 3 x 2 ndarray with random integers in the half-open interval [4, 15).\n",
    "X = np.random.randint(4,15,size=(3,2))\n",
    "\n",
    "# We print X\n",
    "print()\n",
    "print('X = \\n', X)\n",
    "print()\n",
    "\n",
    "# We print information about X\n",
    "print('X has dimensions:', X.shape)\n",
    "print('X is an object of type:', type(X))\n",
    "print('The elements in X are of type:', X.dtype)"
   ]
  },
  {
   "cell_type": "markdown",
   "metadata": {
    "id": "Kh37ENWG5NG2"
   },
   "source": [
    "In some cases, you may need to create ndarrays with random numbers that satisfy certain statistical properties. For example, you may want the random numbers in the ndarray to have an average of 0. NumPy allows you create random ndarrays with numbers drawn from various probability distributions. The function np.random.normal(mean, standard deviation, size=shape), for example, creates an ndarray with the given shape that contains random numbers picked from a normal (Gaussian) distribution with the given mean and standard deviation."
   ]
  },
  {
   "cell_type": "code",
   "execution_count": 13,
   "metadata": {
    "colab": {
     "base_uri": "https://localhost:8080/",
     "height": 434
    },
    "id": "XyqTesTi2pIf",
    "outputId": "d1b19885-6ae1-4f58-828d-e51a7d65f321"
   },
   "outputs": [
    {
     "name": "stdout",
     "output_type": "stream",
     "text": [
      "\n",
      "X = \n",
      " [[-0.02008995  0.03328329  0.00321461 ...  0.02083268 -0.0235259\n",
      "   0.16938776]\n",
      " [-0.00257865  0.14390981  0.11090662 ... -0.14040768 -0.06308733\n",
      "  -0.09092939]\n",
      " [ 0.0543086  -0.05855515  0.10585645 ... -0.00157778 -0.12014487\n",
      "  -0.04202684]\n",
      " ...\n",
      " [ 0.11835097  0.03392075 -0.06781101 ...  0.13949051 -0.02141333\n",
      "   0.08394134]\n",
      " [-0.12694954  0.06309664 -0.0140133  ... -0.03444705  0.17503659\n",
      "  -0.10331297]\n",
      " [ 0.02977271 -0.17165953 -0.11903886 ...  0.02063293  0.12633545\n",
      "   0.01118079]]\n",
      "\n",
      "X has dimensions: (1000, 1000)\n",
      "X is an object of type: <class 'numpy.ndarray'>\n",
      "The elements in X are of type: float64\n",
      "The elements in X have a mean of: 4.229837425936264e-05\n",
      "The maximum value in X is: 0.4798554385743119\n",
      "The minimum value in X is: -0.4644531398297308\n",
      "X has 499699 negative numbers\n",
      "X has 500301 positive numbers\n"
     ]
    }
   ],
   "source": [
    "# We create a 1000 x 1000 ndarray of random floats drawn from normal (Gaussian) distribution\n",
    "# with a mean of zero and a standard deviation of 0.1.\n",
    "X = np.random.normal(0, 0.1, size=(1000,1000))\n",
    "\n",
    "# We print X\n",
    "print()\n",
    "print('X = \\n', X)\n",
    "print()\n",
    "\n",
    "# We print information about X\n",
    "print('X has dimensions:', X.shape)\n",
    "print('X is an object of type:', type(X))\n",
    "print('The elements in X are of type:', X.dtype)\n",
    "print('The elements in X have a mean of:', X.mean())\n",
    "print('The maximum value in X is:', X.max())\n",
    "print('The minimum value in X is:', X.min())\n",
    "print('X has', (X < 0).sum(), 'negative numbers')\n",
    "print('X has', (X > 0).sum(), 'positive numbers')"
   ]
  },
  {
   "cell_type": "markdown",
   "metadata": {
    "id": "OGKlN5Ui5ZC0"
   },
   "source": [
    "## **Question:**\n",
    "Using the Built-in functions you learned about in the\n",
    "previous lesson, create a 4 x 4 ndarray that only\n",
    "contains consecutive even numbers from 2 to 32 (inclusive)\n"
   ]
  },
  {
   "cell_type": "code",
   "execution_count": 17,
   "metadata": {
    "id": "fFpdoCad5S37"
   },
   "outputs": [
    {
     "name": "stdout",
     "output_type": "stream",
     "text": [
      "[[ 2  4  6  8]\n",
      " [10 12 14 16]\n",
      " [18 20 22 24]\n",
      " [26 28 30 32]]\n"
     ]
    }
   ],
   "source": [
    "import numpy as np\n",
    "\n",
    "X = np.arange(2,33,2)\n",
    "\n",
    "print(X.reshape(4,4))"
   ]
  },
  {
   "cell_type": "markdown",
   "metadata": {
    "id": "B2q9JDTa5kuw"
   },
   "source": [
    "## **Question:**\n",
    "Try creating the same array using the np.linspace() function."
   ]
  },
  {
   "cell_type": "code",
   "execution_count": 18,
   "metadata": {
    "id": "U9LPnzMm5qJL"
   },
   "outputs": [
    {
     "name": "stdout",
     "output_type": "stream",
     "text": [
      "[ 2. 32.]\n"
     ]
    }
   ],
   "source": [
    "import numpy as np\n",
    "\n",
    "X = np.linspace(2,32,2)\n",
    "print(X)"
   ]
  },
  {
   "cell_type": "markdown",
   "metadata": {
    "id": "wIbAPL5A7V1N"
   },
   "source": [
    "## **Accessing Elements in ndarays:**\n",
    "Elements can be accessed using indices inside square brackets, [ ]. NumPy allows you to use both positive and negative indices to access elements in the ndarray. Positive indices are used to access elements from the beginning of the array, while negative indices are used to access elements from the end of the array. "
   ]
  },
  {
   "cell_type": "code",
   "execution_count": 10,
   "metadata": {
    "id": "ZfjHHvWs7vYO"
   },
   "outputs": [
    {
     "name": "stdout",
     "output_type": "stream",
     "text": [
      "\n",
      "x =  [1 2 3 4 5]\n",
      "\n",
      "This is First Element in x: 1\n",
      "This is Second Element in x: 2\n",
      "This is Fifth (Last) Element in x: 5\n",
      "\n",
      "This is First Element in x: 1\n",
      "This is Second Element in x: 2\n",
      "This is Fifth (Last) Element in x: 5\n"
     ]
    }
   ],
   "source": [
    "# We create a rank 1 ndarray that contains integers from 1 to 5\n",
    "x = np.array([1, 2, 3, 4, 5])\n",
    "\n",
    "# We print x\n",
    "print()\n",
    "print('x = ', x)\n",
    "print()\n",
    "\n",
    "# Let's access some elements with positive indices\n",
    "print('This is First Element in x:', x[0]) \n",
    "print('This is Second Element in x:', x[1])\n",
    "print('This is Fifth (Last) Element in x:', x[4])\n",
    "print()\n",
    "\n",
    "# Let's access the same elements with negative indices\n",
    "print('This is First Element in x:', x[-5])\n",
    "print('This is Second Element in x:', x[-4])\n",
    "print('This is Fifth (Last) Element in x:', x[-1])"
   ]
  },
  {
   "cell_type": "markdown",
   "metadata": {
    "id": "bbYr59qc8arb"
   },
   "source": [
    "## Modifying ndarrays:\n",
    "Now let's see how we can change the elements in rank 1 ndarrays. We do this by accessing the element we want to change and then using the = sign to assign the new value:"
   ]
  },
  {
   "cell_type": "code",
   "execution_count": 11,
   "metadata": {
    "colab": {
     "base_uri": "https://localhost:8080/",
     "height": 137
    },
    "id": "yQwCZwSD85Q5",
    "outputId": "c7855e58-b67e-46cc-b966-f39ca0180d0a"
   },
   "outputs": [
    {
     "name": "stdout",
     "output_type": "stream",
     "text": [
      "\n",
      "Original:\n",
      " x =  [1 2 3 4 5]\n",
      "\n",
      "Modified:\n",
      " x =  [ 1  2  3 20  5]\n"
     ]
    }
   ],
   "source": [
    "# We create a rank 1 ndarray that contains integers from 1 to 5\n",
    "x = np.array([1, 2, 3, 4, 5])\n",
    "\n",
    "# We print the original x\n",
    "print()\n",
    "print('Original:\\n x = ', x)\n",
    "print()\n",
    "\n",
    "# We change the fourth element in x from 4 to 20\n",
    "x[3] = 20\n",
    "\n",
    "# We print x after it was modified \n",
    "print('Modified:\\n x = ', x)\n"
   ]
  },
  {
   "cell_type": "markdown",
   "metadata": {
    "id": "W-G-2CNy8-Kn"
   },
   "source": [
    "Similarly, we can also access and modify specific elements of rank 2 ndarrays. To access elements in rank 2 ndarrays we need to provide 2 indices in the form [row, column]. Let's see some examples"
   ]
  },
  {
   "cell_type": "code",
   "execution_count": 12,
   "metadata": {
    "colab": {
     "base_uri": "https://localhost:8080/",
     "height": 186
    },
    "id": "fHV8Q1Ik863v",
    "outputId": "e580a229-0b25-40ff-f7a8-20749eb84ea3"
   },
   "outputs": [
    {
     "name": "stdout",
     "output_type": "stream",
     "text": [
      "\n",
      "X = \n",
      " [[1 2 3]\n",
      " [4 5 6]\n",
      " [7 8 9]]\n",
      "\n",
      "This is (0,0) Element in X: 1\n",
      "This is (0,1) Element in X: 2\n",
      "This is (2,2) Element in X: 9\n"
     ]
    }
   ],
   "source": [
    "# We create a 3 x 3 rank 2 ndarray that contains integers from 1 to 9\n",
    "X = np.array([[1,2,3],[4,5,6],[7,8,9]])\n",
    "\n",
    "# We print X\n",
    "print()\n",
    "print('X = \\n', X)\n",
    "print()\n",
    "\n",
    "# Let's access some elements in X\n",
    "print('This is (0,0) Element in X:', X[0,0])\n",
    "print('This is (0,1) Element in X:', X[0,1])\n",
    "print('This is (2,2) Element in X:', X[2,2])"
   ]
  },
  {
   "cell_type": "markdown",
   "metadata": {
    "id": "kgQ4DUxZ9FPK"
   },
   "source": [
    "Elements in rank 2 ndarrays can be modified in the same way as with rank 1 ndarrays. Let's see an example:"
   ]
  },
  {
   "cell_type": "code",
   "execution_count": null,
   "metadata": {
    "colab": {
     "base_uri": "https://localhost:8080/",
     "height": 236
    },
    "id": "uMP5cJ-P9A1P",
    "outputId": "b0faf293-8a41-49b6-fe30-6f498201538e"
   },
   "outputs": [],
   "source": [
    "# We create a 3 x 3 rank 2 ndarray that contains integers from 1 to 9\n",
    "X = np.array([[1,2,3],[4,5,6],[7,8,9]])\n",
    "\n",
    "# We print the original x\n",
    "print()\n",
    "print('Original:\\n X = \\n', X)\n",
    "print()\n",
    "\n",
    "# We change the (0,0) element in X from 1 to 20\n",
    "X[0,0] = 20\n",
    "\n",
    "# We print X after it was modified \n",
    "print('Modified:\\n X = \\n', X)\n"
   ]
  },
  {
   "cell_type": "markdown",
   "metadata": {
    "id": "ZWSEPc159LEG"
   },
   "source": [
    "## **Adding and Deleting elements:**\n",
    "Now, let's take a look at how we can add and delete elements from ndarrays. We can delete elements using the np.delete(ndarray, elements, axis) function. This function deletes the given list of elements from the given ndarray along the specified axis. For rank 1 ndarrays the axis keyword is not required. For rank 2 ndarrays, axis = 0 is used to select rows, and axis = 1 is used to select columns. Let's see some examples:"
   ]
  },
  {
   "cell_type": "code",
   "execution_count": 13,
   "metadata": {
    "colab": {
     "base_uri": "https://localhost:8080/",
     "height": 335
    },
    "id": "DRB_V6dd9HlM",
    "outputId": "b266340c-159d-42ee-d627-a109d0ccb75b"
   },
   "outputs": [
    {
     "name": "stdout",
     "output_type": "stream",
     "text": [
      "\n",
      "Original x =  [1 2 3 4 5]\n",
      "\n",
      "Modified x =  [2 3 4]\n",
      "\n",
      "Original Y = \n",
      " [[1 2 3]\n",
      " [4 5 6]\n",
      " [7 8 9]]\n",
      "\n",
      "w = \n",
      " [[4 5 6]\n",
      " [7 8 9]]\n",
      "\n",
      "v = \n",
      " [[2]\n",
      " [5]\n",
      " [8]]\n"
     ]
    }
   ],
   "source": [
    "# We create a rank 1 ndarray \n",
    "x = np.array([1, 2, 3, 4, 5])\n",
    "\n",
    "# We create a rank 2 ndarray\n",
    "Y = np.array([[1,2,3],[4,5,6],[7,8,9]])\n",
    "\n",
    "# We print x\n",
    "print()\n",
    "print('Original x = ', x)\n",
    "\n",
    "# We delete the first and last element of x\n",
    "x = np.delete(x, [0,4])\n",
    "\n",
    "# We print x with the first and last element deleted\n",
    "print()\n",
    "print('Modified x = ', x)\n",
    "\n",
    "# We print Y\n",
    "print()\n",
    "print('Original Y = \\n', Y)\n",
    "\n",
    "# We delete the first row of y\n",
    "w = np.delete(Y, 0, axis=0)\n",
    "\n",
    "# We delete the first and last column of y\n",
    "v = np.delete(Y, [0,2], axis=1)\n",
    "\n",
    "# We print w\n",
    "print()\n",
    "print('w = \\n', w)\n",
    "\n",
    "# We print v\n",
    "print()\n",
    "print('v = \\n', v)"
   ]
  },
  {
   "cell_type": "markdown",
   "metadata": {
    "id": "Nqqwxir99XFI"
   },
   "source": [
    "We can append values to ndarrays using the np.append(ndarray, elements, axis) function. This function appends the given list of elements to ndarray along the specified axis. Let's see some examples:"
   ]
  },
  {
   "cell_type": "code",
   "execution_count": 14,
   "metadata": {
    "colab": {
     "base_uri": "https://localhost:8080/",
     "height": 352
    },
    "id": "Jv73CPgz9UYw",
    "outputId": "06adb68e-fe58-42eb-ee4e-56c8b2958ca8"
   },
   "outputs": [
    {
     "name": "stdout",
     "output_type": "stream",
     "text": [
      "\n",
      "Original x =  [1 2 3 4 5]\n",
      "\n",
      "x =  [1 2 3 4 5 6]\n",
      "\n",
      "x =  [1 2 3 4 5 6 7 8]\n",
      "\n",
      "Original Y = \n",
      " [[1 2 3]\n",
      " [4 5 6]]\n",
      "\n",
      "v = \n",
      " [[1 2 3]\n",
      " [4 5 6]\n",
      " [7 8 9]]\n",
      "\n",
      "q = \n",
      " [[ 1  2  3  9]\n",
      " [ 4  5  6 10]]\n"
     ]
    }
   ],
   "source": [
    "# We create a rank 1 ndarray \n",
    "x = np.array([1, 2, 3, 4, 5])\n",
    "\n",
    "# We create a rank 2 ndarray \n",
    "Y = np.array([[1,2,3],[4,5,6]])\n",
    "\n",
    "# We print x\n",
    "print()\n",
    "print('Original x = ', x)\n",
    "\n",
    "# We append the integer 6 to x\n",
    "x = np.append(x, 6)\n",
    "\n",
    "# We print x\n",
    "print()\n",
    "print('x = ', x)\n",
    "\n",
    "# We append the integer 7 and 8 to x\n",
    "x = np.append(x, [7,8])\n",
    "\n",
    "# We print x\n",
    "print()\n",
    "print('x = ', x)\n",
    "\n",
    "# We print Y\n",
    "print()\n",
    "print('Original Y = \\n', Y)\n",
    "\n",
    "# We append a new row containing 7,8,9 to y\n",
    "v = np.append(Y, [[7,8,9]], axis=0)\n",
    "\n",
    "# We append a new column containing 9 and 10 to y\n",
    "q = np.append(Y,[[9],[10]], axis=1)\n",
    "\n",
    "# We print v\n",
    "print()\n",
    "print('v = \\n', v)\n",
    "\n",
    "# We print q\n",
    "print()\n",
    "print('q = \\n', q)"
   ]
  },
  {
   "cell_type": "markdown",
   "metadata": {
    "id": "WsIxKWUN9gRr"
   },
   "source": [
    "Now let's see now how we can insert values to ndarrays. We can insert values to ndarrays using the np.insert(ndarray, index, elements, axis) function. This function inserts the given list of elements to ndarray right before the given index along the specified axis. Let's see some examples:"
   ]
  },
  {
   "cell_type": "code",
   "execution_count": 15,
   "metadata": {
    "id": "7oFcymIm9bTR"
   },
   "outputs": [
    {
     "name": "stdout",
     "output_type": "stream",
     "text": [
      "\n",
      "Original x =  [1 2 5 6 7]\n",
      "\n",
      "x =  [1 2 3 4 5 6 7]\n",
      "\n",
      "Original Y = \n",
      " [[1 2 3]\n",
      " [7 8 9]]\n",
      "\n",
      "w = \n",
      " [[1 2 3]\n",
      " [4 5 6]\n",
      " [7 8 9]]\n",
      "\n",
      "v = \n",
      " [[1 5 2 3]\n",
      " [7 5 8 9]]\n"
     ]
    }
   ],
   "source": [
    "# We create a rank 1 ndarray \n",
    "x = np.array([1, 2, 5, 6, 7])\n",
    "\n",
    "# We create a rank 2 ndarray \n",
    "Y = np.array([[1,2,3],[7,8,9]])\n",
    "\n",
    "# We print x\n",
    "print()\n",
    "print('Original x = ', x)\n",
    "\n",
    "# We insert the integer 3 and 4 between 2 and 5 in x. \n",
    "x = np.insert(x,2,[3,4])\n",
    "\n",
    "# We print x with the inserted elements\n",
    "print()\n",
    "print('x = ', x)\n",
    "\n",
    "# We print Y\n",
    "print()\n",
    "print('Original Y = \\n', Y)\n",
    "\n",
    "# We insert a row between the first and last row of y\n",
    "w = np.insert(Y,1,[4,5,6],axis=0)\n",
    "\n",
    "# We insert a column full of 5s between the first and second column of y\n",
    "v = np.insert(Y,1,5, axis=1)\n",
    "\n",
    "# We print w\n",
    "print()\n",
    "print('w = \\n', w)\n",
    "\n",
    "# We print v\n",
    "print()\n",
    "print('v = \\n', v)"
   ]
  },
  {
   "cell_type": "markdown",
   "metadata": {
    "id": "S0z5oy379mKd"
   },
   "source": [
    "NumPy also allows us to stack ndarrays on top of each other, or to stack them side by side. The stacking is done using either the np.vstack() function for vertical stacking, or the np.hstack() function for horizontal stacking. It is important to note that in order to stack ndarrays, the shape of the ndarrays must match. Let's see some examples:"
   ]
  },
  {
   "cell_type": "code",
   "execution_count": 19,
   "metadata": {
    "colab": {
     "base_uri": "https://localhost:8080/",
     "height": 286
    },
    "id": "J4iQxGR_9n9A",
    "outputId": "ae6d63e0-d787-4128-b42d-850bb8cfe617"
   },
   "outputs": [
    {
     "name": "stdout",
     "output_type": "stream",
     "text": [
      "\n",
      "x =  [1 2]\n",
      "\n",
      "Y = \n",
      " [[3 4]\n",
      " [5 6]]\n",
      "\n",
      "z = \n",
      " [[1 2]\n",
      " [3 4]\n",
      " [5 6]]\n",
      "\n",
      "w = \n",
      " [[3 4 1]\n",
      " [5 6 2]]\n"
     ]
    }
   ],
   "source": [
    "# We create a rank 1 ndarray \n",
    "x = np.array([1,2])\n",
    "\n",
    "# We create a rank 2 ndarray \n",
    "Y = np.array([[3,4],[5,6]])\n",
    "\n",
    "# We print x\n",
    "print()\n",
    "print('x = ', x)\n",
    "\n",
    "# We print Y\n",
    "print()\n",
    "print('Y = \\n', Y)\n",
    "\n",
    "# We stack x on top of Y\n",
    "z = np.vstack((x,Y))\n",
    "\n",
    "# We stack x on the right of Y. We need to reshape x in order to stack it on the right of Y. \n",
    "w = np.hstack((Y,x.reshape(2,1)))\n",
    "\n",
    "# We print z\n",
    "print()\n",
    "print('z = \\n', z)\n",
    "\n",
    "# We print w\n",
    "print()\n",
    "print('w = \\n', w)"
   ]
  },
  {
   "cell_type": "markdown",
   "metadata": {},
   "source": [
    "## **Slicing**\n",
    "slicing is the process of geting elements without doing any changes to the original array"
   ]
  },
  {
   "cell_type": "code",
   "execution_count": 38,
   "metadata": {},
   "outputs": [
    {
     "name": "stdout",
     "output_type": "stream",
     "text": [
      "[[1 2 3]\n",
      " [4 5 6]\n",
      " [7 8 9]] \n",
      "\n",
      "[[5 6]\n",
      " [8 9]]\n"
     ]
    }
   ],
   "source": [
    "a = np.array([[1,2,3],[4,5,6],[7,8,9]])\n",
    "print(a,'\\n')\n",
    "print(a[1:, 1:])"
   ]
  },
  {
   "cell_type": "markdown",
   "metadata": {},
   "source": [
    "## Array Operations"
   ]
  },
  {
   "cell_type": "code",
   "execution_count": 57,
   "metadata": {},
   "outputs": [
    {
     "name": "stdout",
     "output_type": "stream",
     "text": [
      "arr.shape : (100,)\n",
      "arr.ndim : 1\n",
      "arr.itemsize : 8\n",
      "arr.dtype : int64\n",
      "arr.size : 100\n",
      "arr.min() : 0\n",
      "arr.max() : 99\n",
      "arr.sum() : 4950\n",
      "np.sqrt(arr) : [0.         1.         1.41421356 1.73205081 2.         2.23606798\n",
      " 2.44948974 2.64575131 2.82842712 3.         3.16227766 3.31662479\n",
      " 3.46410162 3.60555128 3.74165739 3.87298335 4.         4.12310563\n",
      " 4.24264069 4.35889894 4.47213595 4.58257569 4.69041576 4.79583152\n",
      " 4.89897949 5.         5.09901951 5.19615242 5.29150262 5.38516481\n",
      " 5.47722558 5.56776436 5.65685425 5.74456265 5.83095189 5.91607978\n",
      " 6.         6.08276253 6.164414   6.244998   6.32455532 6.40312424\n",
      " 6.4807407  6.55743852 6.63324958 6.70820393 6.78232998 6.8556546\n",
      " 6.92820323 7.         7.07106781 7.14142843 7.21110255 7.28010989\n",
      " 7.34846923 7.41619849 7.48331477 7.54983444 7.61577311 7.68114575\n",
      " 7.74596669 7.81024968 7.87400787 7.93725393 8.         8.06225775\n",
      " 8.1240384  8.18535277 8.24621125 8.30662386 8.36660027 8.42614977\n",
      " 8.48528137 8.54400375 8.60232527 8.66025404 8.71779789 8.77496439\n",
      " 8.83176087 8.88819442 8.94427191 9.         9.05538514 9.11043358\n",
      " 9.16515139 9.21954446 9.2736185  9.32737905 9.38083152 9.43398113\n",
      " 9.48683298 9.53939201 9.59166305 9.64365076 9.69535971 9.74679434\n",
      " 9.79795897 9.8488578  9.89949494 9.94987437]\n",
      "np.std() : 28.86607004772212\n",
      "np.sort(arr) : [ 0  1  2  3  4  5  6  7  8  9 10 11 12 13 14 15 16 17 18 19 20 21 22 23\n",
      " 24 25 26 27 28 29 30 31 32 33 34 35 36 37 38 39 40 41 42 43 44 45 46 47\n",
      " 48 49 50 51 52 53 54 55 56 57 58 59 60 61 62 63 64 65 66 67 68 69 70 71\n",
      " 72 73 74 75 76 77 78 79 80 81 82 83 84 85 86 87 88 89 90 91 92 93 94 95\n",
      " 96 97 98 99]\n"
     ]
    }
   ],
   "source": [
    "arr = np.arange(100)\n",
    "\n",
    "# arr.shape gives the shape of the array\n",
    "print('arr.shape :',arr.shape)\n",
    "\n",
    "#arr.ndim gives the dimsions of the array\n",
    "print('arr.ndim :',arr.ndim)\n",
    "\n",
    "#arr.itemsize \n",
    "print('arr.itemsize :',arr.itemsize)\n",
    "\n",
    "#arr.dtpye gives the data type that array have\n",
    "print('arr.dtype :',arr.dtype)\n",
    "\n",
    "#arr.size gives the size of the array\n",
    "print('arr.size :',arr.size)\n",
    "\n",
    "#arr.min() fun gives the min value in the array\n",
    "print('arr.min() :',arr.min())\n",
    "\n",
    "#arr.max() fun gives the max value in the array\n",
    "print('arr.max() :',arr.max())\n",
    "\n",
    "#arr.sum() fun gives the sum value of the array\n",
    "print('arr.sum() :',arr.sum())\n",
    "\n",
    "#np.sqrt(arr) fun gives the sqrt value in the array\n",
    "print('np.sqrt(arr) :',np.sqrt(arr))\n",
    "\n",
    "#np.std(arr) fun gives the std value in the array\n",
    "print('np.std() :',np.std(arr))\n",
    "\n",
    "#np.sort(arr) fun sorts the array\n",
    "#note sorting takes place row order\n",
    "print('np.sort(arr) :',np.sort(arr))"
   ]
  },
  {
   "cell_type": "markdown",
   "metadata": {},
   "source": [
    "## All numpy commands"
   ]
  },
  {
   "cell_type": "code",
   "execution_count": 46,
   "metadata": {
    "scrolled": true
   },
   "outputs": [
    {
     "name": "stdout",
     "output_type": "stream",
     "text": [
      "ALLOW_THREADS\tAxisError\tBUFSIZE\tCLIP\tComplexWarning\tDataSource\tERR_CALL\tERR_DEFAULT\tERR_IGNORE\tERR_LOG\tERR_PRINT\tERR_RAISE\tERR_WARN\tFLOATING_POINT_SUPPORT\tFPE_DIVIDEBYZERO\tFPE_INVALID\tFPE_OVERFLOW\tFPE_UNDERFLOW\tFalse_\tInf\tInfinity\tMAXDIMS\tMAY_SHARE_BOUNDS\tMAY_SHARE_EXACT\tModuleDeprecationWarning\tNAN\tNINF\tNZERO\tNaN\tPINF\tPZERO\tRAISE\tRankWarning\tSHIFT_DIVIDEBYZERO\tSHIFT_INVALID\tSHIFT_OVERFLOW\tSHIFT_UNDERFLOW\tScalarType\tTester\tTooHardError\tTrue_\tUFUNC_BUFSIZE_DEFAULT\tUFUNC_PYVALS_NAME\tVisibleDeprecationWarning\tWRAP\t_CopyMode\t_NoValue\t_UFUNC_API\t__NUMPY_SETUP__\t__all__\t__builtins__\t__cached__\t__config__\t__deprecated_attrs__\t__dir__\t__doc__\t__expired_functions__\t__file__\t__getattr__\t__git_version__\t__loader__\t__name__\t__package__\t__path__\t__spec__\t__version__\t_add_newdoc_ufunc\t_distributor_init\t_financial_names\t_globals\t_mat\t_pyinstaller_hooks_dir\t_pytesttester\t_version\tabs\tabsolute\tadd\tadd_docstring\tadd_newdoc\tadd_newdoc_ufunc\tall\tallclose\talltrue\tamax\tamin\tangle\tany\tappend\tapply_along_axis\tapply_over_axes\tarange\tarccos\tarccosh\tarcsin\tarcsinh\tarctan\tarctan2\tarctanh\targmax\targmin\targpartition\targsort\targwhere\taround\tarray\tarray2string\tarray_equal\tarray_equiv\tarray_repr\tarray_split\tarray_str\tasanyarray\tasarray\tasarray_chkfinite\tascontiguousarray\tasfarray\tasfortranarray\tasmatrix\tatleast_1d\tatleast_2d\tatleast_3d\taverage\tbartlett\tbase_repr\tbinary_repr\tbincount\tbitwise_and\tbitwise_not\tbitwise_or\tbitwise_xor\tblackman\tblock\tbmat\tbool8\tbool_\tbroadcast\tbroadcast_arrays\tbroadcast_shapes\tbroadcast_to\tbusday_count\tbusday_offset\tbusdaycalendar\tbyte\tbyte_bounds\tbytes0\tbytes_\tc_\tcan_cast\tcast\tcbrt\tcdouble\tceil\tcfloat\tchar\tcharacter\tchararray\tchoose\tclip\tclongdouble\tclongfloat\tcolumn_stack\tcommon_type\tcompare_chararrays\tcompat\tcomplex128\tcomplex64\tcomplex_\tcomplexfloating\tcompress\tconcatenate\tconj\tconjugate\tconvolve\tcopy\tcopysign\tcopyto\tcore\tcorrcoef\tcorrelate\tcos\tcosh\tcount_nonzero\tcov\tcross\tcsingle\tctypeslib\tcumprod\tcumproduct\tcumsum\tdatetime64\tdatetime_as_string\tdatetime_data\tdeg2rad\tdegrees\tdelete\tdeprecate\tdeprecate_with_doc\tdiag\tdiag_indices\tdiag_indices_from\tdiagflat\tdiagonal\tdiff\tdigitize\tdisp\tdivide\tdivmod\tdot\tdouble\tdsplit\tdstack\tdtype\te\tediff1d\teinsum\teinsum_path\temath\tempty\tempty_like\tequal\terror_message\terrstate\teuler_gamma\texp\texp2\texpand_dims\texpm1\textract\teye\tfabs\tfastCopyAndTranspose\tfft\tfill_diagonal\tfind_common_type\tfinfo\tfix\tflatiter\tflatnonzero\tflexible\tflip\tfliplr\tflipud\tfloat16\tfloat32\tfloat64\tfloat_\tfloat_power\tfloating\tfloor\tfloor_divide\tfmax\tfmin\tfmod\tformat_float_positional\tformat_float_scientific\tformat_parser\tfrexp\tfrom_dlpack\tfrombuffer\tfromfile\tfromfunction\tfromiter\tfrompyfunc\tfromregex\tfromstring\tfull\tfull_like\tgcd\tgeneric\tgenfromtxt\tgeomspace\tget_array_wrap\tget_include\tget_printoptions\tgetbufsize\tgeterr\tgeterrcall\tgeterrobj\tgradient\tgreater\tgreater_equal\thalf\thamming\thanning\theaviside\thistogram\thistogram2d\thistogram_bin_edges\thistogramdd\thsplit\thstack\thypot\ti0\tidentity\tiinfo\timag\tin1d\tindex_exp\tindices\tinexact\tinf\tinfo\tinfty\tinner\tinsert\tint0\tint16\tint32\tint64\tint8\tint_\tintc\tinteger\tinterp\tintersect1d\tintp\tinvert\tis_busday\tisclose\tiscomplex\tiscomplexobj\tisfinite\tisfortran\tisin\tisinf\tisnan\tisnat\tisneginf\tisposinf\tisreal\tisrealobj\tisscalar\tissctype\tissubclass_\tissubdtype\tissubsctype\titerable\tix_\tkaiser\tkron\tlcm\tldexp\tleft_shift\tless\tless_equal\tlexsort\tlib\tlinalg\tlinspace\tlittle_endian\tload\tloadtxt\tlog\tlog10\tlog1p\tlog2\tlogaddexp\tlogaddexp2\tlogical_and\tlogical_not\tlogical_or\tlogical_xor\tlogspace\tlongcomplex\tlongdouble\tlongfloat\tlonglong\tlookfor\tma\tmask_indices\tmat\tmath\tmatmul\tmatrix\tmatrixlib\tmax\tmaximum\tmaximum_sctype\tmay_share_memory\tmean\tmedian\tmemmap\tmeshgrid\tmgrid\tmin\tmin_scalar_type\tminimum\tmintypecode\tmod\tmodf\tmoveaxis\tmsort\tmultiply\tnan\tnan_to_num\tnanargmax\tnanargmin\tnancumprod\tnancumsum\tnanmax\tnanmean\tnanmedian\tnanmin\tnanpercentile\tnanprod\tnanquantile\tnanstd\tnansum\tnanvar\tnbytes\tndarray\tndenumerate\tndim\tndindex\tnditer\tnegative\tnested_iters\tnewaxis\tnextafter\tnonzero\tnot_equal\tnumarray\tnumber\tobj2sctype\tobject0\tobject_\togrid\toldnumeric\tones\tones_like\tos\touter\tpackbits\tpad\tpartition\tpercentile\tpi\tpiecewise\tplace\tpoly\tpoly1d\tpolyadd\tpolyder\tpolydiv\tpolyfit\tpolyint\tpolymul\tpolynomial\tpolysub\tpolyval\tpositive\tpower\tprintoptions\tprod\tproduct\tpromote_types\tptp\tput\tput_along_axis\tputmask\tquantile\tr_\trad2deg\tradians\trandom\travel\travel_multi_index\treal\treal_if_close\trec\trecarray\trecfromcsv\trecfromtxt\treciprocal\trecord\tremainder\trepeat\trequire\treshape\tresize\tresult_type\tright_shift\trint\troll\trollaxis\troots\trot90\tround\tround_\trow_stack\ts_\tsafe_eval\tsave\tsavetxt\tsavez\tsavez_compressed\tsctype2char\tsctypeDict\tsctypes\tsearchsorted\tselect\tset_numeric_ops\tset_printoptions\tset_string_function\tsetbufsize\tsetdiff1d\tseterr\tseterrcall\tseterrobj\tsetxor1d\tshape\tshares_memory\tshort\tshow_config\tsign\tsignbit\tsignedinteger\tsin\tsinc\tsingle\tsinglecomplex\tsinh\tsize\tsometrue\tsort\tsort_complex\tsource\tspacing\tsplit\tsqrt\tsquare\tsqueeze\tstack\tstd\tstr0\tstr_\tstring_\tsubtract\tsum\tswapaxes\tsys\ttake\ttake_along_axis\ttan\ttanh\ttensordot\ttest\ttesting\ttile\ttimedelta64\ttrace\ttracemalloc_domain\ttranspose\ttrapz\ttri\ttril\ttril_indices\ttril_indices_from\ttrim_zeros\ttriu\ttriu_indices\ttriu_indices_from\ttrue_divide\ttrunc\ttypecodes\ttypename\tubyte\tufunc\tuint\tuint0\tuint16\tuint32\tuint64\tuint8\tuintc\tuintp\tulonglong\tunicode_\tunion1d\tunique\tunpackbits\tunravel_index\tunsignedinteger\tunwrap\tuse_hugepage\tushort\tvander\tvar\tvdot\tvectorize\tversion\tvoid\tvoid0\tvsplit\tvstack\tw\twarnings\twhere\twho\tzeros\tzeros_like\t"
     ]
    }
   ],
   "source": [
    "import numpy as np\n",
    "\n",
    "for i in dir(np):\n",
    "    print(i,end='\\t')"
   ]
  },
  {
   "cell_type": "code",
   "execution_count": 19,
   "metadata": {
    "scrolled": true
   },
   "outputs": [
    {
     "name": "stdout",
     "output_type": "stream",
     "text": [
      "['ALLOW_THREADS', 'AxisError', 'BUFSIZE', 'Bytes0', 'CLIP', 'ComplexWarning', 'DataSource', 'Datetime64', 'ERR_CALL', 'ERR_DEFAULT', 'ERR_IGNORE', 'ERR_LOG', 'ERR_PRINT', 'ERR_RAISE', 'ERR_WARN', 'FLOATING_POINT_SUPPORT', 'FPE_DIVIDEBYZERO', 'FPE_INVALID', 'FPE_OVERFLOW', 'FPE_UNDERFLOW', 'False_', 'Inf', 'Infinity', 'MAXDIMS', 'MAY_SHARE_BOUNDS', 'MAY_SHARE_EXACT', 'MachAr', 'ModuleDeprecationWarning', 'NAN', 'NINF', 'NZERO', 'NaN', 'PINF', 'PZERO', 'RAISE', 'RankWarning', 'SHIFT_DIVIDEBYZERO', 'SHIFT_INVALID', 'SHIFT_OVERFLOW', 'SHIFT_UNDERFLOW', 'ScalarType', 'Str0', 'Tester', 'TooHardError', 'True_', 'UFUNC_BUFSIZE_DEFAULT', 'UFUNC_PYVALS_NAME', 'Uint64', 'VisibleDeprecationWarning', 'WRAP', '_NoValue', '_UFUNC_API', '__NUMPY_SETUP__', '__all__', '__builtins__', '__cached__', '__config__', '__deprecated_attrs__', '__dir__', '__doc__', '__expired_functions__', '__file__', '__getattr__', '__git_version__', '__loader__', '__mkl_version__', '__name__', '__package__', '__path__', '__spec__', '__version__', '_add_newdoc_ufunc', '_distributor_init', '_financial_names', '_globals', '_mat', '_pytesttester', '_version', 'abs', 'absolute', 'add', 'add_docstring', 'add_newdoc', 'add_newdoc_ufunc', 'alen', 'all', 'allclose', 'alltrue', 'amax', 'amin', 'angle', 'any', 'append', 'apply_along_axis', 'apply_over_axes', 'arange', 'arccos', 'arccosh', 'arcsin', 'arcsinh', 'arctan', 'arctan2', 'arctanh', 'argmax', 'argmin', 'argpartition', 'argsort', 'argwhere', 'around', 'array', 'array2string', 'array_equal', 'array_equiv', 'array_repr', 'array_split', 'array_str', 'asanyarray', 'asarray', 'asarray_chkfinite', 'ascontiguousarray', 'asfarray', 'asfortranarray', 'asmatrix', 'asscalar', 'atleast_1d', 'atleast_2d', 'atleast_3d', 'average', 'bartlett', 'base_repr', 'binary_repr', 'bincount', 'bitwise_and', 'bitwise_not', 'bitwise_or', 'bitwise_xor', 'blackman', 'block', 'bmat', 'bool8', 'bool_', 'broadcast', 'broadcast_arrays', 'broadcast_shapes', 'broadcast_to', 'busday_count', 'busday_offset', 'busdaycalendar', 'byte', 'byte_bounds', 'bytes0', 'bytes_', 'c_', 'can_cast', 'cast', 'cbrt', 'cdouble', 'ceil', 'cfloat', 'char', 'character', 'chararray', 'choose', 'clip', 'clongdouble', 'clongfloat', 'column_stack', 'common_type', 'compare_chararrays', 'compat', 'complex128', 'complex256', 'complex64', 'complex_', 'complexfloating', 'compress', 'concatenate', 'conj', 'conjugate', 'convolve', 'copy', 'copysign', 'copyto', 'core', 'corrcoef', 'correlate', 'cos', 'cosh', 'count_nonzero', 'cov', 'cross', 'csingle', 'ctypeslib', 'cumprod', 'cumproduct', 'cumsum', 'datetime64', 'datetime_as_string', 'datetime_data', 'deg2rad', 'degrees', 'delete', 'deprecate', 'deprecate_with_doc', 'diag', 'diag_indices', 'diag_indices_from', 'diagflat', 'diagonal', 'diff', 'digitize', 'disp', 'divide', 'divmod', 'dot', 'double', 'dsplit', 'dstack', 'dtype', 'e', 'ediff1d', 'einsum', 'einsum_path', 'emath', 'empty', 'empty_like', 'equal', 'error_message', 'errstate', 'euler_gamma', 'exp', 'exp2', 'expand_dims', 'expm1', 'extract', 'eye', 'fabs', 'fastCopyAndTranspose', 'fft', 'fill_diagonal', 'find_common_type', 'finfo', 'fix', 'flatiter', 'flatnonzero', 'flexible', 'flip', 'fliplr', 'flipud', 'float128', 'float16', 'float32', 'float64', 'float_', 'float_power', 'floating', 'floor', 'floor_divide', 'fmax', 'fmin', 'fmod', 'format_float_positional', 'format_float_scientific', 'format_parser', 'frexp', 'frombuffer', 'fromfile', 'fromfunction', 'fromiter', 'frompyfunc', 'fromregex', 'fromstring', 'full', 'full_like', 'gcd', 'generic', 'genfromtxt', 'geomspace', 'get_array_wrap', 'get_include', 'get_printoptions', 'getbufsize', 'geterr', 'geterrcall', 'geterrobj', 'gradient', 'greater', 'greater_equal', 'half', 'hamming', 'hanning', 'heaviside', 'histogram', 'histogram2d', 'histogram_bin_edges', 'histogramdd', 'hsplit', 'hstack', 'hypot', 'i0', 'identity', 'iinfo', 'imag', 'in1d', 'index_exp', 'indices', 'inexact', 'inf', 'info', 'infty', 'inner', 'insert', 'int0', 'int16', 'int32', 'int64', 'int8', 'int_', 'intc', 'integer', 'interp', 'intersect1d', 'intp', 'invert', 'is_busday', 'isclose', 'iscomplex', 'iscomplexobj', 'isfinite', 'isfortran', 'isin', 'isinf', 'isnan', 'isnat', 'isneginf', 'isposinf', 'isreal', 'isrealobj', 'isscalar', 'issctype', 'issubclass_', 'issubdtype', 'issubsctype', 'iterable', 'ix_', 'kaiser', 'kron', 'lcm', 'ldexp', 'left_shift', 'less', 'less_equal', 'lexsort', 'lib', 'linalg', 'linspace', 'little_endian', 'load', 'loads', 'loadtxt', 'log', 'log10', 'log1p', 'log2', 'logaddexp', 'logaddexp2', 'logical_and', 'logical_not', 'logical_or', 'logical_xor', 'logspace', 'longcomplex', 'longdouble', 'longfloat', 'longlong', 'lookfor', 'ma', 'mafromtxt', 'mask_indices', 'mat', 'math', 'matmul', 'matrix', 'matrixlib', 'max', 'maximum', 'maximum_sctype', 'may_share_memory', 'mean', 'median', 'memmap', 'meshgrid', 'mgrid', 'min', 'min_scalar_type', 'minimum', 'mintypecode', 'mkl', 'mod', 'modf', 'moveaxis', 'msort', 'multiply', 'nan', 'nan_to_num', 'nanargmax', 'nanargmin', 'nancumprod', 'nancumsum', 'nanmax', 'nanmean', 'nanmedian', 'nanmin', 'nanpercentile', 'nanprod', 'nanquantile', 'nanstd', 'nansum', 'nanvar', 'nbytes', 'ndarray', 'ndenumerate', 'ndfromtxt', 'ndim', 'ndindex', 'nditer', 'negative', 'nested_iters', 'newaxis', 'nextafter', 'nonzero', 'not_equal', 'numarray', 'number', 'obj2sctype', 'object0', 'object_', 'ogrid', 'oldnumeric', 'ones', 'ones_like', 'os', 'outer', 'packbits', 'pad', 'partition', 'percentile', 'pi', 'piecewise', 'place', 'poly', 'poly1d', 'polyadd', 'polyder', 'polydiv', 'polyfit', 'polyint', 'polymul', 'polynomial', 'polysub', 'polyval', 'positive', 'power', 'printoptions', 'prod', 'product', 'promote_types', 'ptp', 'put', 'put_along_axis', 'putmask', 'quantile', 'r_', 'rad2deg', 'radians', 'random', 'ravel', 'ravel_multi_index', 'real', 'real_if_close', 'rec', 'recarray', 'recfromcsv', 'recfromtxt', 'reciprocal', 'record', 'remainder', 'repeat', 'require', 'reshape', 'resize', 'result_type', 'right_shift', 'rint', 'roll', 'rollaxis', 'roots', 'rot90', 'round', 'round_', 'row_stack', 's_', 'safe_eval', 'save', 'savetxt', 'savez', 'savez_compressed', 'sctype2char', 'sctypeDict', 'sctypes', 'searchsorted', 'select', 'set_numeric_ops', 'set_printoptions', 'set_string_function', 'setbufsize', 'setdiff1d', 'seterr', 'seterrcall', 'seterrobj', 'setxor1d', 'shape', 'shares_memory', 'short', 'show_config', 'sign', 'signbit', 'signedinteger', 'sin', 'sinc', 'single', 'singlecomplex', 'sinh', 'size', 'sometrue', 'sort', 'sort_complex', 'source', 'spacing', 'split', 'sqrt', 'square', 'squeeze', 'stack', 'std', 'str0', 'str_', 'string_', 'subtract', 'sum', 'swapaxes', 'sys', 'take', 'take_along_axis', 'tan', 'tanh', 'tensordot', 'test', 'testing', 'tile', 'timedelta64', 'trace', 'tracemalloc_domain', 'transpose', 'trapz', 'tri', 'tril', 'tril_indices', 'tril_indices_from', 'trim_zeros', 'triu', 'triu_indices', 'triu_indices_from', 'true_divide', 'trunc', 'typecodes', 'typename', 'ubyte', 'ufunc', 'uint', 'uint0', 'uint16', 'uint32', 'uint64', 'uint8', 'uintc', 'uintp', 'ulonglong', 'unicode_', 'union1d', 'unique', 'unpackbits', 'unravel_index', 'unsignedinteger', 'unwrap', 'use_hugepage', 'ushort', 'vander', 'var', 'vdot', 'vectorize', 'version', 'void', 'void0', 'vsplit', 'vstack', 'w', 'warnings', 'where', 'who', 'zeros', 'zeros_like']\n"
     ]
    }
   ],
   "source": [
    "print(dir(np))"
   ]
  },
  {
   "cell_type": "markdown",
   "metadata": {},
   "source": [
    "## Type casting"
   ]
  },
  {
   "cell_type": "code",
   "execution_count": 52,
   "metadata": {},
   "outputs": [
    {
     "name": "stdout",
     "output_type": "stream",
     "text": [
      "int64\n",
      "[0. 1. 2. 3. 4. 5. 6. 7. 8. 9.]\n",
      "['0' '1' '2' '3' '4' '5' '6' '7' '8' '9']\n",
      "[False  True  True  True  True  True  True  True  True  True]\n"
     ]
    }
   ],
   "source": [
    "arr = np.arange(10)\n",
    "print(arr.dtype)\n",
    "print(arr.astype(float))\n",
    "print(arr.astype(str))\n",
    "print(arr.astype(bool))"
   ]
  },
  {
   "cell_type": "markdown",
   "metadata": {},
   "source": [
    "## Using multiple operations on one line"
   ]
  },
  {
   "cell_type": "code",
   "execution_count": 56,
   "metadata": {},
   "outputs": [
    {
     "name": "stdout",
     "output_type": "stream",
     "text": [
      "[[0. 1. 2. 3.]\n",
      " [4. 5. 6. 7.]]\n"
     ]
    }
   ],
   "source": [
    "arr = np.arange(8).astype(float).reshape(2,4)\n",
    "print(arr)"
   ]
  },
  {
   "cell_type": "markdown",
   "metadata": {},
   "source": [
    "## sorting"
   ]
  },
  {
   "cell_type": "code",
   "execution_count": 69,
   "metadata": {},
   "outputs": [
    {
     "name": "stdout",
     "output_type": "stream",
     "text": [
      "before sorting the array \n",
      " [[3 2 4]\n",
      " [5 0 1]] \n",
      "\n",
      "after sorting (np.sort(arr)) :\n",
      " [[2 3 4]\n",
      " [0 1 5]]\n",
      "after sorting in row : \n",
      " [[2 3 4]\n",
      " [0 1 5]]\n",
      "after sorting in coloumn : \n",
      " [[3 0 1]\n",
      " [5 2 4]]\n"
     ]
    }
   ],
   "source": [
    "arr = np.array([[3,2,4],[5,0,1]])\n",
    "print('before sorting the array \\n',arr,'\\n')\n",
    "\n",
    "#np.sort(arr) fun sorts the array\n",
    "#note sorting takes place row order\n",
    "print('after sorting (np.sort(arr)) :\\n',np.sort(arr))\n",
    "\n",
    "#sorting row wise\n",
    "print('after sorting in row : \\n', np.sort(arr, axis = 1))\n",
    "\n",
    "#sorting coloumn wise\n",
    "print('after sorting in coloumn : \\n', np.sort(arr, axis = 0))"
   ]
  },
  {
   "cell_type": "code",
   "execution_count": null,
   "metadata": {},
   "outputs": [],
   "source": []
  }
 ],
 "metadata": {
  "colab": {
   "provenance": []
  },
  "kernelspec": {
   "display_name": "Python 3 (ipykernel)",
   "language": "python",
   "name": "python3"
  },
  "language_info": {
   "codemirror_mode": {
    "name": "ipython",
    "version": 3
   },
   "file_extension": ".py",
   "mimetype": "text/x-python",
   "name": "python",
   "nbconvert_exporter": "python",
   "pygments_lexer": "ipython3",
   "version": "3.9.13"
  },
  "toc": {
   "base_numbering": 1,
   "nav_menu": {},
   "number_sections": true,
   "sideBar": true,
   "skip_h1_title": false,
   "title_cell": "Table of Contents",
   "title_sidebar": "Contents",
   "toc_cell": false,
   "toc_position": {},
   "toc_section_display": true,
   "toc_window_display": true
  }
 },
 "nbformat": 4,
 "nbformat_minor": 1
}
