{
 "cells": [
  {
   "cell_type": "code",
   "execution_count": 1,
   "metadata": {},
   "outputs": [],
   "source": [
    "import numpy as np "
   ]
  },
  {
   "cell_type": "code",
   "execution_count": 3,
   "metadata": {},
   "outputs": [],
   "source": [
    "# no_of features\n",
    "input_size = 3\n",
    "\n",
    "# no of neurons in 1st and 2nd layer\n",
    "layers = [3,2]\n",
    "\n",
    "output_size = 2"
   ]
  },
  {
   "cell_type": "code",
   "execution_count": 4,
   "metadata": {},
   "outputs": [],
   "source": [
    "class NeuralNetwork:\n",
    "    def __init__(self, input_size, layers, output_size) -> None:\n",
    "        np.random.seed(0)\n",
    "\n",
    "        # dictionary\n",
    "        model = {}\n",
    "        model['w1'] = np.random.randn(input_size, layers[0])\n",
    "        model['b1'] = np.zeros(1, layers[0])\n",
    "\n",
    "        model['w2'] = np.random.randn(layers[0], layers[1])\n",
    "        model['b2'] = np.zeros(1, layers[1])\n",
    "\n",
    "        model['w3'] = np.random.randn(layers[1], output_size)\n",
    "        model['b3'] = np.zeros(1, output_size)\n",
    "\n",
    "        self.model = model"
   ]
  },
  {
   "cell_type": "code",
   "execution_count": null,
   "metadata": {},
   "outputs": [],
   "source": []
  }
 ],
 "metadata": {
  "kernelspec": {
   "display_name": "Python 3",
   "language": "python",
   "name": "python3"
  },
  "language_info": {
   "codemirror_mode": {
    "name": "ipython",
    "version": 3
   },
   "file_extension": ".py",
   "mimetype": "text/x-python",
   "name": "python",
   "nbconvert_exporter": "python",
   "pygments_lexer": "ipython3",
   "version": "3.undefined.undefined"
  }
 },
 "nbformat": 4,
 "nbformat_minor": 2
}
