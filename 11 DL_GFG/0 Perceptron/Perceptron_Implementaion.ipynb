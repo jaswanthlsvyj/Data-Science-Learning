{
 "cells": [
  {
   "cell_type": "code",
   "execution_count": null,
   "metadata": {},
   "outputs": [],
   "source": [
    "import numpy as np \n",
    "import matplotlib.pyplot as plt \n",
    "from sklearn.datasets import make_blobs\n",
    "# plt.style.use(\"seaborn\")"
   ]
  },
  {
   "cell_type": "code",
   "execution_count": null,
   "metadata": {},
   "outputs": [],
   "source": [
    "x, y = make_blobs(n_samples=500, centers=2, n_features=2, random_state=10 )\n",
    "print(x.shape, y.shape)"
   ]
  },
  {
   "cell_type": "code",
   "execution_count": null,
   "metadata": {},
   "outputs": [],
   "source": [
    "x"
   ]
  },
  {
   "cell_type": "code",
   "execution_count": null,
   "metadata": {},
   "outputs": [],
   "source": [
    "plt.scatter(x[:,0], x[:,1], c=y, cmap=plt.cm.Accent )\n",
    "plt.show()"
   ]
  },
  {
   "cell_type": "markdown",
   "metadata": {},
   "source": [
    "## Model and Helper Function"
   ]
  },
  {
   "cell_type": "code",
   "execution_count": null,
   "metadata": {},
   "outputs": [],
   "source": [
    "def sigmoid(z):\n",
    "    return (1.0)/(1+np.exp(-z))"
   ]
  },
  {
   "cell_type": "code",
   "execution_count": null,
   "metadata": {},
   "outputs": [],
   "source": [
    "# broad casting: without any for loop we are sending all the elements and getting array output. \n",
    "# Only done on np.arrays\n",
    "z = np.array([1,2,3,4,5,])\n",
    "sigmoid(z)"
   ]
  },
  {
   "cell_type": "code",
   "execution_count": null,
   "metadata": {},
   "outputs": [],
   "source": [
    "def predict(x, weights):\n",
    "    # x -> m x n+1 matrix\n",
    "    # w -> nx1 vector\n",
    "    z = np.dot(x, weights)\n",
    "    predictions = sigmoid(z)\n",
    "    return predictions"
   ]
  },
  {
   "cell_type": "code",
   "execution_count": null,
   "metadata": {},
   "outputs": [],
   "source": [
    "def loss(x,y, weights):\n",
    "    # binary cross entropy / log likelihood \n",
    "    y_ = predict(x, weights)\n",
    "    cost = np.mean(-y * np.log(y_) - (1-y)* np.log(1-y_))\n",
    "    return cost "
   ]
  },
  {
   "cell_type": "code",
   "execution_count": null,
   "metadata": {},
   "outputs": [],
   "source": [
    "def update(x,y, weights, learning_rate):\n",
    "    # define the update rule one particular epach\n",
    "    y_ = predict(x, weights)\n",
    "    dw = np.dot(x.T, y_ - y)\n",
    "\n",
    "    m= x.shape[0]\n",
    "    weights = weights - learning_rate* dw/ (float(m))\n",
    "    return weights"
   ]
  },
  {
   "cell_type": "code",
   "execution_count": null,
   "metadata": {},
   "outputs": [],
   "source": [
    "def train(x, y, learning_rate, maxEpochs=100):\n",
    "    ones = np.ones((x.shape[0],1))\n",
    "    x = np.hstack((ones,x))\n",
    "\n",
    "    # Initialise the weights\n",
    "    weights = np.zeros(x.shape[1]) # n+1 entries\n",
    "\n",
    "    # iterate and use the update function\n",
    "    for epoch in range(maxEpochs):\n",
    "        weights = update(x,y,weights, learning_rate)\n",
    "\n",
    "        if(epoch%10 == 0):\n",
    "            l = loss (x,y,weights)\n",
    "            print(\"Epoch Number %d Loss %.4f\"%(epoch,l))\n",
    "\n",
    "    return weights"
   ]
  },
  {
   "cell_type": "code",
   "execution_count": null,
   "metadata": {},
   "outputs": [],
   "source": [
    "train(x,y,learning_rate=0.01, maxEpochs=500)"
   ]
  },
  {
   "cell_type": "markdown",
   "metadata": {},
   "source": [
    "## Visualisation and Predictions"
   ]
  },
  {
   "cell_type": "code",
   "execution_count": null,
   "metadata": {},
   "outputs": [],
   "source": [
    "def get_preds(x_test, weights, labels=True):\n",
    "    if x_test.shape[1] != weights.shape[0]:\n",
    "        ones = np.one(x_test.shape[0],1)\n",
    "        x_test = np.hstack(ones, x_test)\n",
    "\n",
    "    probs = predict(x_test, weights)\n",
    "\n",
    "    if not labels:\n",
    "        return probs\n",
    "    else:\n",
    "        labels = np.zeros(probs.shape)\n",
    "        labels[probs>=0.5] = 1\n",
    "        return labels"
   ]
  },
  {
   "cell_type": "markdown",
   "metadata": {},
   "source": [
    "### Plot"
   ]
  },
  {
   "cell_type": "code",
   "execution_count": null,
   "metadata": {},
   "outputs": [],
   "source": [
    "x1 = np.linspace(-2, 10,10)\n",
    "print(x1)\n",
    "\n",
    "x2 = -(weights[0] + weights[1]*x1)/ weights[2]\n",
    "\n",
    "print(x2)\n"
   ]
  },
  {
   "cell_type": "code",
   "execution_count": null,
   "metadata": {},
   "outputs": [],
   "source": [
    "plt.scatter(x[:,0], x[:,1], c=y, cmap = plt.cm.Accent)\n",
    "plt.plot(x1, x2, c='red')\n",
    "plt.show()"
   ]
  }
 ],
 "metadata": {
  "kernelspec": {
   "display_name": "Python 3",
   "language": "python",
   "name": "python3"
  },
  "language_info": {
   "codemirror_mode": {
    "name": "ipython",
    "version": 3
   },
   "file_extension": ".py",
   "mimetype": "text/x-python",
   "name": "python",
   "nbconvert_exporter": "python",
   "pygments_lexer": "ipython3",
   "version": "3.12.1"
  }
 },
 "nbformat": 4,
 "nbformat_minor": 2
}
