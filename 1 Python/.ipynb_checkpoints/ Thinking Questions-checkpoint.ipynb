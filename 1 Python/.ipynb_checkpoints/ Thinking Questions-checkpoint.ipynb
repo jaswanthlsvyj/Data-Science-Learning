{
 "cells": [
  {
   "cell_type": "markdown",
   "id": "1ddc8569",
   "metadata": {
    "heading_collapsed": true
   },
   "source": [
    "#  Write a Function to calculate length of a list and sort in in reverse order."
   ]
  },
  {
   "cell_type": "code",
   "execution_count": 12,
   "id": "2bfee243",
   "metadata": {
    "hidden": true,
    "scrolled": true
   },
   "outputs": [
    {
     "name": "stdout",
     "output_type": "stream",
     "text": [
      "Length of the List :4 \n",
      "Sorted reverse order of the list : [9, 6, 4, 1]\n"
     ]
    }
   ],
   "source": [
    "def fun(l):\n",
    "    length = len(l)\n",
    "    l.sort()\n",
    "    print(f'Length of the List :{length} \\nSorted reverse order of the list : {l[::-1]}')\n",
    "\n",
    "\n",
    "ex_list = [1, 9, 6, 4]\n",
    "fun(ex_list)"
   ]
  },
  {
   "cell_type": "markdown",
   "id": "b88df1c8",
   "metadata": {},
   "source": [
    "# Implement QuickSort on List (using fewer lines of code)."
   ]
  },
  {
   "cell_type": "code",
   "execution_count": 43,
   "id": "94496426",
   "metadata": {},
   "outputs": [
    {
     "name": "stdout",
     "output_type": "stream",
     "text": [
      "[1, 1, 2, 3, 6, 8, 10]\n"
     ]
    }
   ],
   "source": [
    "def quicksort(arr):\n",
    "    if len(arr) <= 1:\n",
    "        return arr\n",
    "    pivot = arr[len(arr) // 2]\n",
    "    left = [x for x in arr if x < pivot]\n",
    "    middle = [x for x in arr if x == pivot]\n",
    "    right = [x for x in arr if x > pivot]\n",
    "    return quicksort(left) + middle + quicksort(right)\n",
    "\n",
    "\n",
    "print(quicksort([3, 6, 8, 10, 1, 2, 1]))"
   ]
  },
  {
   "cell_type": "code",
   "execution_count": null,
   "id": "e3e187da",
   "metadata": {},
   "outputs": [],
   "source": []
  },
  {
   "cell_type": "markdown",
   "id": "8cc0f566",
   "metadata": {},
   "source": [
    "#  use import random and call random.shuffle(some_list) to shuffle the contents of the list some_list .\n"
   ]
  },
  {
   "cell_type": "code",
   "execution_count": 36,
   "id": "ebcaab7e",
   "metadata": {},
   "outputs": [
    {
     "name": "stdout",
     "output_type": "stream",
     "text": [
      "[2, 6, 9, 12, 1, 3, 4, 3, 8, 5]\n"
     ]
    }
   ],
   "source": [
    "import random\n",
    "some_list = [1, 2, 3,4,9,5,3,8,12,6]\n",
    "random.shuffle(some_list)\n",
    "print(some_list)"
   ]
  },
  {
   "cell_type": "markdown",
   "id": "a1d1b9a3",
   "metadata": {},
   "source": [
    "# print the last 3 elements of a list without using for loops"
   ]
  },
  {
   "cell_type": "code",
   "execution_count": 39,
   "id": "8d0d8677",
   "metadata": {},
   "outputs": [
    {
     "name": "stdout",
     "output_type": "stream",
     "text": [
      "[8, 12, 6]\n"
     ]
    }
   ],
   "source": [
    "some_list = [1, 2, 3,4,9,5,3,8,12,6]\n",
    "print(some_list[-3:])"
   ]
  },
  {
   "cell_type": "markdown",
   "id": "4c4e960f",
   "metadata": {},
   "source": [
    "# Obtain each word of the string in a input list."
   ]
  },
  {
   "cell_type": "code",
   "execution_count": 41,
   "id": "ebd516dd",
   "metadata": {},
   "outputs": [
    {
     "name": "stdout",
     "output_type": "stream",
     "text": [
      "Enter the string :This is an example\n",
      "['This', 'is', 'an', 'example']\n"
     ]
    }
   ],
   "source": [
    "string = input('Enter the string :')\n",
    "string = string.split()\n",
    "print(string)"
   ]
  },
  {
   "cell_type": "markdown",
   "id": "e0dd5806",
   "metadata": {},
   "source": [
    "# "
   ]
  },
  {
   "cell_type": "code",
   "execution_count": null,
   "id": "1ce490ea",
   "metadata": {},
   "outputs": [],
   "source": []
  },
  {
   "cell_type": "markdown",
   "id": "8d5bcfa4",
   "metadata": {},
   "source": [
    "# "
   ]
  },
  {
   "cell_type": "code",
   "execution_count": null,
   "id": "abd04998",
   "metadata": {},
   "outputs": [],
   "source": []
  },
  {
   "cell_type": "markdown",
   "id": "50d6d05c",
   "metadata": {},
   "source": [
    "# "
   ]
  },
  {
   "cell_type": "code",
   "execution_count": null,
   "id": "9948686f",
   "metadata": {},
   "outputs": [],
   "source": []
  },
  {
   "cell_type": "code",
   "execution_count": null,
   "id": "3d837d31",
   "metadata": {},
   "outputs": [],
   "source": []
  },
  {
   "cell_type": "code",
   "execution_count": null,
   "id": "7f7dc5ad",
   "metadata": {},
   "outputs": [],
   "source": []
  },
  {
   "cell_type": "code",
   "execution_count": null,
   "id": "eea92116",
   "metadata": {},
   "outputs": [],
   "source": []
  },
  {
   "cell_type": "code",
   "execution_count": null,
   "id": "7aed31ce",
   "metadata": {},
   "outputs": [],
   "source": []
  }
 ],
 "metadata": {
  "kernelspec": {
   "display_name": "Python 3 (ipykernel)",
   "language": "python",
   "name": "python3"
  },
  "language_info": {
   "codemirror_mode": {
    "name": "ipython",
    "version": 3
   },
   "file_extension": ".py",
   "mimetype": "text/x-python",
   "name": "python",
   "nbconvert_exporter": "python",
   "pygments_lexer": "ipython3",
   "version": "3.9.13"
  },
  "toc": {
   "base_numbering": 1,
   "nav_menu": {},
   "number_sections": true,
   "sideBar": true,
   "skip_h1_title": false,
   "title_cell": "Table of Contents",
   "title_sidebar": "Contents",
   "toc_cell": false,
   "toc_position": {},
   "toc_section_display": true,
   "toc_window_display": false
  }
 },
 "nbformat": 4,
 "nbformat_minor": 5
}
