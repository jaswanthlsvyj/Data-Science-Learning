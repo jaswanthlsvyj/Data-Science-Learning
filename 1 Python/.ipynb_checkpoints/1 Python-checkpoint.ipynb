{
 "cells": [
  {
   "cell_type": "markdown",
   "metadata": {},
   "source": [
    "\n",
    "-  The blue color outside the cell represents command mode.\n",
    "-  And the green color indicates edit mode.\n",
    "-  Press 'Esc' to get into command mode.\n",
    "-  Press 'Enter' to go back into edit mode.\n",
    "-  Press 'P' to view the list of all available commands."
   ]
  },
  {
   "cell_type": "code",
   "execution_count": null,
   "metadata": {},
   "outputs": [],
   "source": [
    "# This is a coding cell.\n",
    "# Let's write your first Python program here.\n",
    "\n",
    "Name = input(\"Enter your name: \")\n",
    "print(\"Hello,\", Name)\n",
    "\n",
    "# Press 'Shift + Enter' to execute the cell."
   ]
  },
  {
   "cell_type": "markdown",
   "metadata": {
    "heading_collapsed": true
   },
   "source": [
    "# Basic Commands"
   ]
  },
  {
   "cell_type": "markdown",
   "metadata": {
    "hidden": true
   },
   "source": [
    "Some of the useful commands that you require everyday while coding in the Jupyter notebook.\n",
    "\n",
    " #### Command Mode Shortcuts\n",
    "-  `Esc`: To go into command mode\n",
    "-  `Enter`: To go back to edit mode\n",
    "-  `M`: To convert a cell to a markdown cell\n",
    "-  `Y`: To convert a cell back to a code cell\n",
    "-  `A`: To insert new cell above\n",
    "-  `B`: To insert new cell below\n",
    "-  `D + D`: To delete cell\n",
    "-  `Z`: Undo last operation\n",
    "-  `F`: To find and replace on your code\n",
    "-  `Shift + Up/Down`: To select multiple cells\n",
    "-  `Space`: Scroll notebook downwards\n",
    "-  `Shift + Space`: Scroll notebook upwards\n",
    "\n",
    "#### Edit Mode Shortcuts\n",
    "-  `Shift + Enter`: To execute the code in the current cell and go to the next cell\n",
    "-  `Alt + Enter`: To execute the code in the current cell and insert new cell below\n",
    "-  `Shift + Tab`: To get a brief documentation of the object that you have just typed in the coding cell\n",
    "-  `Ctrl + Shift + -`: To split the cell at cursor\n",
    "-  `Shift + M`: To merge selected cells\n",
    "\n",
    "Apart from this, you can also use `H` to open the list of keyboard shortcuts and even add new shortcuts or customize the existing shorcuts according to your personal requirements."
   ]
  },
  {
   "cell_type": "code",
   "execution_count": null,
   "metadata": {
    "hidden": true
   },
   "outputs": [],
   "source": [
    "# Writing comments in a code cell can sometimes creates confusion. Jupyter notebook works both as a notebook and a coding console. \n",
    "# To write explanatory texts, you can use a markdown cell which enables you to format your comments well to create a more readable code.\n",
    "\n",
    "# Let's now learn about markdown cells.\n",
    "# Press 'M' in command mode to convert a code cell to a Markdown cell."
   ]
  },
  {
   "cell_type": "markdown",
   "metadata": {
    "hidden": true
   },
   "source": [
    "This is a Markdown Cell. Double click on a markdown cell or press 'Enter' to see how it's written. And again, press 'Shift + Enter' to execute the cell.\n",
    "\n",
    "Let's further learn about the various customizations in a markdown cell to create a more readable and understandable code."
   ]
  },
  {
   "cell_type": "markdown",
   "metadata": {
    "heading_collapsed": true
   },
   "source": [
    "# Single # makes a title\n",
    "## Double ## makes a heading\n",
    "### Triple # makes a subheading\n",
    "#### 4 #'s makes a heading even smaller\n",
    "##### 5 #'s makes text to Italic."
   ]
  },
  {
   "cell_type": "markdown",
   "metadata": {
    "hidden": true
   },
   "source": [
    "## Formatting in Markdown cells\n",
    "\n",
    "### Emphasis\n",
    "\n",
    "__\"This will appear bold.\"__\n",
    "\n",
    "**\"So will this.\"**\n",
    "\n",
    "_\"Just one dash makes it italic.\"_\n",
    "\n",
    "*\"And one star on either side as well.\"*\n",
    "\n",
    "***\"This one's both bold and italic.\"***"
   ]
  },
  {
   "cell_type": "markdown",
   "metadata": {
    "hidden": true
   },
   "source": [
    "### Monospace Fonts\n",
    "\n",
    "Use a back single quotation mark (\\`) to get monospace fonts.\n",
    "\n",
    "`This text will appear in monospace font.`\n",
    "`Python is a beautiful language.`\n"
   ]
  },
  {
   "cell_type": "markdown",
   "metadata": {
    "hidden": true
   },
   "source": [
    "### Line Breaks\n",
    "\n",
    "Sometimes in the markdown cells, you don't get a line break where you want simply by pressing enter. In such cases use `<br>` to get a manual line break.\n",
    "\n",
    "I want a line break here.\n",
    "But I don't get it. :/\n",
    "<br>\n",
    "So I used a manual line break <br>\n",
    "There we go! :)"
   ]
  },
  {
   "cell_type": "markdown",
   "metadata": {
    "hidden": true
   },
   "source": [
    "### Indenting\n",
    "\n",
    "Use `>` to indent your text.\n",
    "\n",
    "This is the first line\n",
    "> This indents the second line.\n",
    ">> This further indents it.\n",
    ">>> And this goes on and on."
   ]
  },
  {
   "cell_type": "markdown",
   "metadata": {
    "hidden": true
   },
   "source": [
    "### Bullets and Numbering\n",
    "\n",
    "-  A dash followed by two spaces, i.e. `'-  '` creates a bullet.\n",
    "    -  Pressing a tab before doing the above creates a sub-bullet."
   ]
  },
  {
   "cell_type": "markdown",
   "metadata": {
    "hidden": true
   },
   "source": [
    "1. Start with a simple `1. ` (1 followed by a dot and a space) to get a numbered list.\n",
    "2. And keep doing it for further numbers.\n",
    "    1. Again, just a tab for the sub-bullet."
   ]
  },
  {
   "cell_type": "markdown",
   "metadata": {
    "hidden": true
   },
   "source": [
    "### Coloring\n",
    " \n",
    "-  <font color = blue> This text will be blue. </font>\n",
    "-  <font color = yellow> I hate this color! </font>"
   ]
  },
  {
   "cell_type": "markdown",
   "metadata": {
    "hidden": true
   },
   "source": [
    "### Adding an Image\n",
    "\n",
    "You can add an image from the web by using `<img src = \"image_path\">`\n",
    "\n",
    "Example:\n",
    "<img src = \"https://blog.upgrad.com/wp-content/uploads/2016/06/logo.png\">"
   ]
  },
  {
   "cell_type": "markdown",
   "metadata": {
    "hidden": true
   },
   "source": [
    "### LaTeX Equations\n",
    "\n",
    "Jupyter notebook also supports LaTeX equations. Use a `$` on either side to write a LaTeX equation.\n",
    "\n",
    "The below example is just a hypothetical equation to explain how you can write LaTeX equations in Jupyter notebook. \n",
    "<br>\n",
    "\n",
    "$(\\frac{a_1}{a_2} + \\frac{a_3}{a_4})^2 = a_5^3$\n",
    "\n",
    "Go through this [link](https://en.wikibooks.org/wiki/LaTeX/Mathematics) if you want to learn the LaTeX syntax. "
   ]
  },
  {
   "cell_type": "code",
   "execution_count": null,
   "metadata": {
    "hidden": true
   },
   "outputs": [],
   "source": []
  },
  {
   "cell_type": "markdown",
   "metadata": {
    "hidden": true
   },
   "source": [
    "## Variables"
   ]
  },
  {
   "cell_type": "code",
   "execution_count": null,
   "metadata": {
    "hidden": true
   },
   "outputs": [],
   "source": [
    "name = \"mike\"\n",
    "print(name)"
   ]
  },
  {
   "cell_type": "code",
   "execution_count": 3,
   "metadata": {
    "hidden": true
   },
   "outputs": [
    {
     "name": "stdout",
     "output_type": "stream",
     "text": [
      "Enter your name : Jane\n",
      "Welcome Jane\n"
     ]
    }
   ],
   "source": [
    "name = input(\"Enter your name : \")\n",
    "print(\"Welcome\", name)"
   ]
  },
  {
   "cell_type": "markdown",
   "metadata": {
    "hidden": true
   },
   "source": [
    "## Data Types in Python"
   ]
  },
  {
   "cell_type": "markdown",
   "metadata": {
    "hidden": true
   },
   "source": [
    "- Here in the below piece of code you can see that we have assigned each variable with a particular value and use the type method we can check the datatype of the variable"
   ]
  },
  {
   "cell_type": "code",
   "execution_count": null,
   "metadata": {
    "hidden": true
   },
   "outputs": [],
   "source": [
    "integer_num = 1\n",
    "floating_num = 1.3\n",
    "string = 'Mike'\n",
    "boolean = True\n",
    "\n",
    "print (type(integer_num))\n",
    "print (type(floating_num))\n",
    "print (type(string))\n",
    "print (type(boolean))"
   ]
  },
  {
   "cell_type": "markdown",
   "metadata": {
    "hidden": true
   },
   "source": [
    "- Type Casting in Python"
   ]
  },
  {
   "cell_type": "code",
   "execution_count": 4,
   "metadata": {
    "hidden": true
   },
   "outputs": [
    {
     "name": "stdout",
     "output_type": "stream",
     "text": [
      "True\n",
      "1.0\n",
      "1\n"
     ]
    }
   ],
   "source": [
    "a = 1\n",
    "print ( bool(a))\n",
    "print ( float(a))\n",
    "print ( str(a))"
   ]
  },
  {
   "cell_type": "markdown",
   "metadata": {
    "hidden": true
   },
   "source": [
    "## Input( ) Function\n",
    "\n",
    "<h4>input ():</h4> This function first takes the input from the user and converts it into a string. The type of the returned object always will be <type ‘str’>. It does not evaluate the expression it just returns the complete statement as String. For example, Python provides a built-in function called input which takes the input from the user. When the input function is called it stops the program and waits for the user’s input. When the user presses enter, the program resumes and returns what the user typed. \n",
    "\n",
    "\n",
    "    "
   ]
  },
  {
   "cell_type": "code",
   "execution_count": 1,
   "metadata": {
    "hidden": true
   },
   "outputs": [
    {
     "name": "stdout",
     "output_type": "stream",
     "text": [
      "Enter your value: pava\n",
      "pava\n"
     ]
    }
   ],
   "source": [
    "# Python program showing \n",
    "# a use of input()\n",
    "  \n",
    "val = input(\"Enter your value: \")\n",
    "print(val)"
   ]
  },
  {
   "cell_type": "markdown",
   "metadata": {
    "hidden": true
   },
   "source": [
    "<h4>raw_input():</h4> This function works in older version (like Python 2.x). This function takes exactly what is typed from the keyboard, converts it to string, and then returns it to the variable in which we want to store it."
   ]
  },
  {
   "cell_type": "code",
   "execution_count": 3,
   "metadata": {
    "collapsed": true,
    "hidden": true
   },
   "outputs": [
    {
     "ename": "NameError",
     "evalue": "name 'raw_input' is not defined",
     "output_type": "error",
     "traceback": [
      "\u001b[0;31m---------------------------------------------------------------------------\u001b[0m",
      "\u001b[0;31mNameError\u001b[0m                                 Traceback (most recent call last)",
      "\u001b[0;32m/var/folders/99/bpjbh7v565j2_dj9h91d6tmr0000gn/T/ipykernel_1024/3189753890.py\u001b[0m in \u001b[0;36m<module>\u001b[0;34m\u001b[0m\n\u001b[1;32m      2\u001b[0m \u001b[0;31m# a use of raw_input()\u001b[0m\u001b[0;34m\u001b[0m\u001b[0;34m\u001b[0m\u001b[0m\n\u001b[1;32m      3\u001b[0m \u001b[0;34m\u001b[0m\u001b[0m\n\u001b[0;32m----> 4\u001b[0;31m \u001b[0mg\u001b[0m \u001b[0;34m=\u001b[0m \u001b[0mraw_input\u001b[0m\u001b[0;34m(\u001b[0m\u001b[0;34m\"Enter your name : \"\u001b[0m\u001b[0;34m)\u001b[0m\u001b[0;34m\u001b[0m\u001b[0;34m\u001b[0m\u001b[0m\n\u001b[0m\u001b[1;32m      5\u001b[0m \u001b[0mprint\u001b[0m\u001b[0;34m(\u001b[0m\u001b[0mg\u001b[0m\u001b[0;34m)\u001b[0m\u001b[0;34m\u001b[0m\u001b[0;34m\u001b[0m\u001b[0m\n",
      "\u001b[0;31mNameError\u001b[0m: name 'raw_input' is not defined"
     ]
    }
   ],
   "source": [
    "# Python program showing\n",
    "# a use of raw_input()\n",
    "  \n",
    "g = raw_input(\"Enter your name : \")\n",
    "print(g)"
   ]
  },
  {
   "cell_type": "markdown",
   "metadata": {
    "hidden": true
   },
   "source": [
    "## Arithmatic Operations"
   ]
  },
  {
   "cell_type": "code",
   "execution_count": 5,
   "metadata": {
    "hidden": true,
    "scrolled": true
   },
   "outputs": [
    {
     "name": "stdout",
     "output_type": "stream",
     "text": [
      "Addition  =  13\n",
      "Substraction =  -1\n",
      "Multiplication =  42\n",
      "Division =  0.8571428571428571\n"
     ]
    }
   ],
   "source": [
    "a = 6\n",
    "b = 7\n",
    "print(\"Addition  = \", a + b)  \n",
    "print(\"Substraction = \", a - b) \n",
    "print(\"Multiplication = \", a * b) \n",
    "print(\"Division = \", a / b)"
   ]
  },
  {
   "cell_type": "code",
   "execution_count": 6,
   "metadata": {
    "hidden": true
   },
   "outputs": [
    {
     "name": "stdout",
     "output_type": "stream",
     "text": [
      "Floor Division =  0\n"
     ]
    }
   ],
   "source": [
    "#Floor Division\n",
    "print(\"Floor Division = \", a // b)"
   ]
  },
  {
   "cell_type": "code",
   "execution_count": 7,
   "metadata": {
    "hidden": true
   },
   "outputs": [
    {
     "name": "stdout",
     "output_type": "stream",
     "text": [
      "Modulus or remainder 6\n"
     ]
    }
   ],
   "source": [
    "#Remainder\n",
    "print(\"Modulus or remainder\",a % b)"
   ]
  },
  {
   "cell_type": "code",
   "execution_count": 8,
   "metadata": {
    "hidden": true
   },
   "outputs": [
    {
     "name": "stdout",
     "output_type": "stream",
     "text": [
      "Exponential =  279936\n"
     ]
    }
   ],
   "source": [
    "#Exponential\n",
    "print(\"Exponential = \", a ** b)"
   ]
  },
  {
   "cell_type": "markdown",
   "metadata": {
    "hidden": true
   },
   "source": [
    "- Expression executes following the operator precedence rule\n",
    "- https://docs.python.org/3.7/reference/expressions.html?#operator-precedence"
   ]
  },
  {
   "cell_type": "code",
   "execution_count": null,
   "metadata": {
    "hidden": true
   },
   "outputs": [],
   "source": [
    "print((4 * 5) - 9 + 6 / 7)"
   ]
  },
  {
   "cell_type": "markdown",
   "metadata": {
    "hidden": true
   },
   "source": [
    "## String Operations"
   ]
  },
  {
   "cell_type": "code",
   "execution_count": 9,
   "metadata": {
    "hidden": true
   },
   "outputs": [],
   "source": [
    "#Whenever we are assigning a char or string we use '' which represents a character\n",
    "c = 'z'\n",
    "d = 'Mike'\n",
    "#You can also use \" \" double quotes instead of single quotes for strings\n",
    "e = \"John\""
   ]
  },
  {
   "cell_type": "markdown",
   "metadata": {
    "hidden": true
   },
   "source": [
    "#### Indexing In Strings <br>\n",
    "- Forward indexing starts with 0\n",
    "- Reverse indexing start with last character as -1 in a python string\n",
    "- Strings are immutable which means they cannot be changed once created.\n",
    "- Strings can be modified by slicing a part of it and concatenating with another\n"
   ]
  },
  {
   "cell_type": "code",
   "execution_count": 11,
   "metadata": {
    "hidden": true,
    "scrolled": true
   },
   "outputs": [
    {
     "data": {
      "text/plain": [
       "8"
      ]
     },
     "execution_count": 11,
     "metadata": {},
     "output_type": "execute_result"
    }
   ],
   "source": [
    "# Len() function\n",
    "string = \"ABCDEFGH\"\n",
    "len(string)"
   ]
  },
  {
   "cell_type": "code",
   "execution_count": 12,
   "metadata": {
    "hidden": true
   },
   "outputs": [
    {
     "data": {
      "text/plain": [
       "'A'"
      ]
     },
     "execution_count": 12,
     "metadata": {},
     "output_type": "execute_result"
    }
   ],
   "source": [
    "#Accessing first character\n",
    "string[0]"
   ]
  },
  {
   "cell_type": "code",
   "execution_count": 13,
   "metadata": {
    "hidden": true
   },
   "outputs": [
    {
     "data": {
      "text/plain": [
       "'H'"
      ]
     },
     "execution_count": 13,
     "metadata": {},
     "output_type": "execute_result"
    }
   ],
   "source": [
    "#Accessing last character using negative indexing\n",
    "string[-1] "
   ]
  },
  {
   "cell_type": "code",
   "execution_count": 14,
   "metadata": {
    "hidden": true
   },
   "outputs": [
    {
     "ename": "TypeError",
     "evalue": "'str' object does not support item assignment",
     "output_type": "error",
     "traceback": [
      "\u001b[1;31m---------------------------------------------------------------------------\u001b[0m",
      "\u001b[1;31mTypeError\u001b[0m                                 Traceback (most recent call last)",
      "\u001b[1;32m<ipython-input-14-a4ff1a9fe63e>\u001b[0m in \u001b[0;36m<module>\u001b[1;34m()\u001b[0m\n\u001b[0;32m      1\u001b[0m \u001b[1;31m# Trying to change the character at index 2\u001b[0m\u001b[1;33m\u001b[0m\u001b[1;33m\u001b[0m\u001b[0m\n\u001b[1;32m----> 2\u001b[1;33m \u001b[0mstring\u001b[0m\u001b[1;33m[\u001b[0m\u001b[1;36m2\u001b[0m\u001b[1;33m]\u001b[0m \u001b[1;33m=\u001b[0m \u001b[1;34m't'\u001b[0m\u001b[1;33m\u001b[0m\u001b[0m\n\u001b[0m",
      "\u001b[1;31mTypeError\u001b[0m: 'str' object does not support item assignment"
     ]
    }
   ],
   "source": [
    "# Trying to change the character at index 2\n",
    "string[2] = 't'\n"
   ]
  },
  {
   "cell_type": "code",
   "execution_count": null,
   "metadata": {
    "hidden": true
   },
   "outputs": [],
   "source": [
    "# Changing the entire string\n",
    "string = 'ghijkl'\n",
    "print (string)"
   ]
  },
  {
   "cell_type": "code",
   "execution_count": 15,
   "metadata": {
    "hidden": true
   },
   "outputs": [
    {
     "name": "stdout",
     "output_type": "stream",
     "text": [
      "Monty Python\n"
     ]
    }
   ],
   "source": [
    "#string concatenation\n",
    "\n",
    "first_name = \"Monty\"\n",
    "last_name = 'Python'\n",
    "\n",
    "name = first_name + \" \" + last_name\n",
    "print(name)"
   ]
  },
  {
   "cell_type": "code",
   "execution_count": 18,
   "metadata": {
    "hidden": true
   },
   "outputs": [
    {
     "name": "stdout",
     "output_type": "stream",
     "text": [
      "I am 30 years old\n"
     ]
    }
   ],
   "source": [
    "# type casting using str() function \n",
    "age = 30\n",
    "print(\"I am \"+ str(age) + \" years old\")"
   ]
  },
  {
   "cell_type": "markdown",
   "metadata": {
    "hidden": true
   },
   "source": [
    "#### Slicing In Strings\n",
    "- string[start:end:step]"
   ]
  },
  {
   "cell_type": "code",
   "execution_count": 12,
   "metadata": {
    "hidden": true
   },
   "outputs": [
    {
     "name": "stdout",
     "output_type": "stream",
     "text": [
      "Python \n"
     ]
    }
   ],
   "source": [
    "#slicing by specifying start and end index\n",
    "statement = \"Python programming is fun\"\n",
    "sliced_statement = statement[0:7]\n",
    "print(sliced_statement)"
   ]
  },
  {
   "cell_type": "code",
   "execution_count": 16,
   "metadata": {
    "hidden": true
   },
   "outputs": [
    {
     "name": "stdout",
     "output_type": "stream",
     "text": [
      "5 girls \n",
      "3 boys in a class\n"
     ]
    }
   ],
   "source": [
    "batch = \"5 girls 3 boys in a class\"\n",
    "girls = batch[ :8]\n",
    "print(girls)\n",
    "\n",
    "print(batch[ 8: ])"
   ]
  },
  {
   "cell_type": "code",
   "execution_count": 30,
   "metadata": {
    "hidden": true
   },
   "outputs": [
    {
     "name": "stdout",
     "output_type": "stream",
     "text": [
      "2468\n"
     ]
    }
   ],
   "source": [
    "# Slicing by specifing range\n",
    "\n",
    "nums = '123456789'\n",
    "even_nums = nums[1::2]\n",
    "print(even_nums)"
   ]
  },
  {
   "cell_type": "code",
   "execution_count": 31,
   "metadata": {
    "hidden": true
   },
   "outputs": [
    {
     "name": "stdout",
     "output_type": "stream",
     "text": [
      "13579\n"
     ]
    }
   ],
   "source": [
    "# printing odd_nums\n",
    "odd_nums = nums[0::2]\n",
    "print(odd_nums)\n"
   ]
  },
  {
   "cell_type": "code",
   "execution_count": 52,
   "metadata": {
    "hidden": true
   },
   "outputs": [
    {
     "name": "stdout",
     "output_type": "stream",
     "text": [
      "True\n",
      "True\n"
     ]
    }
   ],
   "source": [
    "# Membership \n",
    "String = \"John! Did you attend the conference on advanced machine learning\"\n",
    "print( 'John' in String)\n",
    "print ( 'David' not in String)"
   ]
  },
  {
   "cell_type": "code",
   "execution_count": 54,
   "metadata": {
    "hidden": true
   },
   "outputs": [
    {
     "name": "stdout",
     "output_type": "stream",
     "text": [
      "abcdabcdabcdabcd\n"
     ]
    }
   ],
   "source": [
    "# Repeatition\n",
    "\n",
    "String = \"abcd\"\n",
    "print (String*4)"
   ]
  },
  {
   "cell_type": "markdown",
   "metadata": {
    "hidden": true
   },
   "source": [
    "#### String methods\n",
    "- upper()\n",
    "- lower()\n",
    "- strip()\n",
    "- count(substring,begin,end)\n",
    "- https://docs.python.org/3.7/library/stdtypes.html#string-methods"
   ]
  },
  {
   "cell_type": "code",
   "execution_count": null,
   "metadata": {
    "hidden": true
   },
   "outputs": [],
   "source": [
    "# upper() \n",
    "small = \"i am upper cased\"\n",
    "print(small.upper())"
   ]
  },
  {
   "cell_type": "code",
   "execution_count": 39,
   "metadata": {
    "hidden": true
   },
   "outputs": [
    {
     "name": "stdout",
     "output_type": "stream",
     "text": [
      "i am lower cased\n"
     ]
    }
   ],
   "source": [
    "# lower() \n",
    "large = \"I AM LOWER CASED\"\n",
    "print(large.lower())"
   ]
  },
  {
   "cell_type": "code",
   "execution_count": 40,
   "metadata": {
    "hidden": true
   },
   "outputs": [
    {
     "name": "stdout",
     "output_type": "stream",
     "text": [
      "There is a space at the end    \n",
      "There is a space at the end\n"
     ]
    }
   ],
   "source": [
    "# rstrip () function\n",
    "some_sentence = \"There is a space at the end    \"\n",
    "print(some_sentence)\n",
    "print(some_sentence.rstrip())"
   ]
  },
  {
   "cell_type": "code",
   "execution_count": null,
   "metadata": {
    "hidden": true
   },
   "outputs": [],
   "source": [
    "increment = '4%'\n",
    "print(increment.rstrip('%')) "
   ]
  },
  {
   "cell_type": "code",
   "execution_count": 41,
   "metadata": {
    "hidden": true
   },
   "outputs": [
    {
     "name": "stdout",
     "output_type": "stream",
     "text": [
      "   There is space at the start\n",
      "There is space at the start\n"
     ]
    }
   ],
   "source": [
    "# lstrip() function\n",
    "start = \"   There is space at the start\"\n",
    "print(start)\n",
    "print(start.lstrip())"
   ]
  },
  {
   "cell_type": "code",
   "execution_count": 42,
   "metadata": {
    "hidden": true
   },
   "outputs": [
    {
     "name": "stdout",
     "output_type": "stream",
     "text": [
      "   Trim whitespaces  \n",
      "Trim whitespaces\n"
     ]
    }
   ],
   "source": [
    "# strip() function \n",
    "spaces = \"   Trim whitespaces  \"\n",
    "print(spaces)\n",
    "print(spaces.strip())"
   ]
  },
  {
   "cell_type": "code",
   "execution_count": 57,
   "metadata": {
    "hidden": true,
    "scrolled": true
   },
   "outputs": [
    {
     "name": "stdout",
     "output_type": "stream",
     "text": [
      "444\n"
     ]
    }
   ],
   "source": [
    "num_with_chars = '******444#######'\n",
    "print(num_with_chars.rstrip('#').lstrip('*'))"
   ]
  },
  {
   "cell_type": "code",
   "execution_count": 63,
   "metadata": {
    "hidden": true
   },
   "outputs": [],
   "source": [
    "#count() Method\n",
    "string = \"This is a sample sentence\"\n",
    "print(string.count('i'))\n",
    "print(string.count('i',5))"
   ]
  },
  {
   "cell_type": "code",
   "execution_count": null,
   "metadata": {
    "hidden": true
   },
   "outputs": [],
   "source": [
    "My_age = \"I am {} years old\".format(age) "
   ]
  },
  {
   "cell_type": "code",
   "execution_count": 2,
   "metadata": {
    "hidden": true
   },
   "outputs": [],
   "source": [
    "#r/R It is used to specify the raw string.% It is used to perform string formatting.\n",
    "\n",
    "A = \"Data\"\n",
    "B = \"Analysis\"\n",
    "C = \"Pandas\"\n",
    "\n",
    "print(\"{} {} using {}\".format(A,B,C))\n"
   ]
  },
  {
   "cell_type": "markdown",
   "metadata": {
    "heading_collapsed": true
   },
   "source": [
    "# Tuples\n",
    "\n",
    "- Tuples are an ordered sequnce of mixed data types.\n",
    "- Tuples are written as comma-separated  elements within parenthesis\n"
   ]
  },
  {
   "cell_type": "code",
   "execution_count": null,
   "metadata": {
    "hidden": true
   },
   "outputs": [],
   "source": [
    "t = (\"disco\", 12, 4.5)\n",
    "t"
   ]
  },
  {
   "cell_type": "code",
   "execution_count": null,
   "metadata": {
    "hidden": true
   },
   "outputs": [],
   "source": [
    "type(t)"
   ]
  },
  {
   "cell_type": "code",
   "execution_count": null,
   "metadata": {
    "hidden": true
   },
   "outputs": [],
   "source": [
    "t[0][3]= 't'"
   ]
  },
  {
   "cell_type": "markdown",
   "metadata": {
    "hidden": true
   },
   "source": [
    "<h3> <span class=\"mark\">Tuples</span> can be defined is various ways </h3>"
   ]
  },
  {
   "cell_type": "markdown",
   "metadata": {
    "hidden": true
   },
   "source": [
    "#### A tuple can be defined without using parenthesis "
   ]
  },
  {
   "cell_type": "code",
   "execution_count": null,
   "metadata": {
    "hidden": true
   },
   "outputs": [],
   "source": [
    "sample_tuple = 1,2,3,4\n",
    "\n",
    "print(sample_tuple)"
   ]
  },
  {
   "cell_type": "markdown",
   "metadata": {
    "hidden": true
   },
   "source": [
    "#### single value tuple"
   ]
  },
  {
   "cell_type": "code",
   "execution_count": null,
   "metadata": {
    "hidden": true
   },
   "outputs": [],
   "source": [
    "sample_tuple = 1,  \n",
    "print(sample_tuple)"
   ]
  },
  {
   "cell_type": "code",
   "execution_count": null,
   "metadata": {
    "hidden": true
   },
   "outputs": [],
   "source": [
    "sample_tuple = (1,)  \n",
    "print(sample_tuple)"
   ]
  },
  {
   "cell_type": "code",
   "execution_count": null,
   "metadata": {
    "hidden": true
   },
   "outputs": [],
   "source": [
    "sample_tuple1 = 1   #This is not a tuple"
   ]
  },
  {
   "cell_type": "code",
   "execution_count": null,
   "metadata": {
    "hidden": true
   },
   "outputs": [],
   "source": [
    "sample_tuple2 = (1) # This is not a tuple"
   ]
  },
  {
   "cell_type": "markdown",
   "metadata": {
    "hidden": true
   },
   "source": [
    "### Indexing in tuples"
   ]
  },
  {
   "cell_type": "code",
   "execution_count": null,
   "metadata": {
    "hidden": true
   },
   "outputs": [],
   "source": [
    "t = (\"Mumbai\", 84, \"Python\",)"
   ]
  },
  {
   "cell_type": "code",
   "execution_count": null,
   "metadata": {
    "hidden": true
   },
   "outputs": [],
   "source": [
    "# gives the element at index location 1\n",
    "t[1]"
   ]
  },
  {
   "cell_type": "code",
   "execution_count": null,
   "metadata": {
    "hidden": true
   },
   "outputs": [],
   "source": [
    "# gives the last element from tuple\n",
    "t[-1]"
   ]
  },
  {
   "cell_type": "markdown",
   "metadata": {
    "hidden": true
   },
   "source": [
    "### Slicing"
   ]
  },
  {
   "cell_type": "code",
   "execution_count": null,
   "metadata": {
    "hidden": true
   },
   "outputs": [],
   "source": [
    "# Slicing first 3 elements from t\n",
    "\n",
    "t = (\"Mumbai\", 84, \"Python\", 5, 2, 1)\n",
    "\n",
    "t[0:3]"
   ]
  },
  {
   "cell_type": "code",
   "execution_count": null,
   "metadata": {
    "hidden": true
   },
   "outputs": [],
   "source": [
    "# Slicing last 2 elements from t\n",
    "\n",
    "t = (\"Mumbai\", 84, \"Python\", 5, 2, 1)\n",
    "\n",
    "t[-2:]"
   ]
  },
  {
   "cell_type": "code",
   "execution_count": null,
   "metadata": {
    "hidden": true
   },
   "outputs": [],
   "source": [
    "# no. of elements in tuple t\n",
    "t = (\"Mumbai\", 84, \"Python\", 5, 2, 1)\n",
    "len(t)"
   ]
  },
  {
   "cell_type": "markdown",
   "metadata": {
    "hidden": true
   },
   "source": [
    "#### Cancatenating tuples"
   ]
  },
  {
   "cell_type": "code",
   "execution_count": null,
   "metadata": {
    "hidden": true
   },
   "outputs": [],
   "source": [
    "tup1 = (\"This\", \"is\", \"Session\", 2)\n",
    "tup2 = (\"on\", \"Tuples\")\n",
    "\n",
    "# Adding contents of tup2 to tup1 and storing in tup3\n",
    "\n",
    "tup3 = tup1 + tup2\n",
    "\n",
    "tup3"
   ]
  },
  {
   "cell_type": "markdown",
   "metadata": {
    "hidden": true
   },
   "source": [
    "#### sum() - min() - max()"
   ]
  },
  {
   "cell_type": "code",
   "execution_count": null,
   "metadata": {
    "hidden": true
   },
   "outputs": [],
   "source": [
    "t = (2, 4, 3, 5, 7)\n",
    "sum(t)"
   ]
  },
  {
   "cell_type": "code",
   "execution_count": null,
   "metadata": {
    "hidden": true
   },
   "outputs": [],
   "source": [
    "t = (2, 4, 3, 5, 7)\n",
    "min(t)"
   ]
  },
  {
   "cell_type": "code",
   "execution_count": null,
   "metadata": {
    "hidden": true
   },
   "outputs": [],
   "source": [
    "t = (2, 4, 3, 5, 7)\n",
    "max(t)"
   ]
  },
  {
   "cell_type": "markdown",
   "metadata": {
    "hidden": true
   },
   "source": [
    "### Immutability of tuples"
   ]
  },
  {
   "cell_type": "code",
   "execution_count": null,
   "metadata": {
    "hidden": true
   },
   "outputs": [],
   "source": [
    "t = (\"USA\", 4, 3, \"Disco\", 7.5)\n",
    "\n",
    "t[3] = \"Hard Rock\""
   ]
  },
  {
   "cell_type": "code",
   "execution_count": null,
   "metadata": {
    "hidden": true
   },
   "outputs": [],
   "source": [
    "new_t = t[0:3] + (\"Hard Rock\",) + t[4:]\n",
    "new_t"
   ]
  },
  {
   "cell_type": "markdown",
   "metadata": {
    "hidden": true
   },
   "source": [
    "### Sorting a tuple"
   ]
  },
  {
   "cell_type": "code",
   "execution_count": null,
   "metadata": {
    "hidden": true
   },
   "outputs": [],
   "source": [
    "t = (2,3,6,4,8,5)\n",
    "\n",
    "sorted(t)"
   ]
  },
  {
   "cell_type": "code",
   "execution_count": null,
   "metadata": {
    "hidden": true
   },
   "outputs": [],
   "source": [
    "# Nested Tuples\n",
    "\n",
    "t = (1,5,\"Disco\", (\"Python\", \"Java\"))\n",
    "\n",
    "# Access \"Java\" from the nested tuple\n",
    "t[3][1]"
   ]
  },
  {
   "cell_type": "code",
   "execution_count": null,
   "metadata": {
    "hidden": true
   },
   "outputs": [],
   "source": [
    "d = {\"India\" : \"INR\", \"USA\" : \"Dollars\", \"France\" : \"Euros\", \"USA\" : \"USD\"}\n",
    "d"
   ]
  },
  {
   "cell_type": "markdown",
   "metadata": {
    "hidden": true
   },
   "source": [
    "### Packing and Unpacking In Tuples"
   ]
  },
  {
   "cell_type": "code",
   "execution_count": null,
   "metadata": {
    "hidden": true
   },
   "outputs": [],
   "source": [
    "t = (1,2,3,4)     # Packing \n",
    "(a,b,c,d) = t     # Unpacking \n",
    "print (a)\n"
   ]
  },
  {
   "cell_type": "markdown",
   "metadata": {
    "hidden": true
   },
   "source": [
    "#### dir() - to view the attributes or methods of an object"
   ]
  },
  {
   "cell_type": "code",
   "execution_count": null,
   "metadata": {
    "hidden": true
   },
   "outputs": [],
   "source": [
    "t = ()\n",
    "print(dir(t))"
   ]
  },
  {
   "cell_type": "markdown",
   "metadata": {
    "heading_collapsed": true
   },
   "source": [
    "# Lists \n",
    "\n",
    "- Lists are an ordered sequnce of mixed data types.\n",
    "- Lists are written as comma-separated  elements within square brackets"
   ]
  },
  {
   "cell_type": "code",
   "execution_count": null,
   "metadata": {
    "hidden": true
   },
   "outputs": [],
   "source": [
    "L = [\"India\", 23, 6, \"Mumbai\"]\n",
    "\n",
    "L"
   ]
  },
  {
   "cell_type": "code",
   "execution_count": null,
   "metadata": {
    "hidden": true
   },
   "outputs": [],
   "source": [
    "# Nested List\n",
    "\n",
    "L = [\"Chemistry\", \"Biology\", [1989, 2004], (\"Oreily\", \"Pearson\")]\n",
    "\n",
    "L"
   ]
  },
  {
   "cell_type": "code",
   "execution_count": null,
   "metadata": {
    "hidden": true
   },
   "outputs": [],
   "source": [
    "# Indexing\n",
    "\n",
    "L = [\"Chemistry\", \"Biology\", [1989, 2004], (\"Oreily\", \"Pearson\")]\n",
    "\n",
    "L[0]"
   ]
  },
  {
   "cell_type": "code",
   "execution_count": null,
   "metadata": {
    "hidden": true
   },
   "outputs": [],
   "source": [
    "L[-3]"
   ]
  },
  {
   "cell_type": "code",
   "execution_count": null,
   "metadata": {
    "hidden": true
   },
   "outputs": [],
   "source": [
    "# Slicing\n",
    "\n",
    "L[0:3]"
   ]
  },
  {
   "cell_type": "code",
   "execution_count": null,
   "metadata": {
    "hidden": true
   },
   "outputs": [],
   "source": [
    "# List Concatanetion\n",
    "\n",
    "L = [\"Chemistry\", \"Biology\", [1989, 2004], (\"Oreily\", \"Pearson\")]\n",
    "new_L = L + [5, 8]\n",
    "new_L"
   ]
  },
  {
   "cell_type": "code",
   "execution_count": null,
   "metadata": {
    "hidden": true
   },
   "outputs": [],
   "source": [
    "# Replace \"Biology\" with \"Physics\"\n",
    "\n",
    "L = [\"Chemistry\", \"Biology\", [1989, 2004], (\"Oreily\", \"Pearson\")]\n",
    "\n",
    "L[1] = \"Physics\"\n",
    "\n",
    "L"
   ]
  },
  {
   "cell_type": "code",
   "execution_count": null,
   "metadata": {
    "hidden": true
   },
   "outputs": [],
   "source": [
    "# extend()\n",
    "\n",
    "L = [\"Chemistry\", \"Biology\", [1989, 2004], (\"Oreily\", \"Pearson\")]\n",
    "L.extend([5, 8])\n",
    "L"
   ]
  },
  {
   "cell_type": "code",
   "execution_count": null,
   "metadata": {
    "hidden": true
   },
   "outputs": [],
   "source": [
    "# append()\n",
    "\n",
    "L = [\"Chemistry\", \"Biology\", [1989, 2004], (\"Oreily\", \"Pearson\")]\n",
    "L.append([5, 8])\n",
    "L"
   ]
  },
  {
   "cell_type": "code",
   "execution_count": null,
   "metadata": {
    "hidden": true
   },
   "outputs": [],
   "source": [
    "# del Command\n",
    "\n",
    "L = [\"Chemistry\", \"Biology\", [1989, 2004], (\"Oreily\", \"Pearson\")]\n",
    "del L[0]\n",
    "L"
   ]
  },
  {
   "cell_type": "code",
   "execution_count": null,
   "metadata": {
    "hidden": true
   },
   "outputs": [],
   "source": [
    "# pop() \n",
    "\n",
    "L = [\"Chemistry\", \"Biology\", [1989, 2004], (\"Oreily\", \"Pearson\")]\n",
    "\n",
    "L.pop()\n",
    "\n",
    "L"
   ]
  },
  {
   "cell_type": "code",
   "execution_count": null,
   "metadata": {
    "hidden": true
   },
   "outputs": [],
   "source": [
    "# remove()\n",
    "\n",
    "L = [\"Chemistry\", \"Biology\", [1989, 2004], (\"Oreily\", \"Pearson\")]\n",
    "\n",
    "L.remove(\"Chemistry\")\n",
    "\n",
    "L"
   ]
  },
  {
   "cell_type": "code",
   "execution_count": null,
   "metadata": {
    "hidden": true
   },
   "outputs": [],
   "source": [
    "# Sorting Lists\n",
    "\n",
    "l = [32, 24, 65, 9]\n",
    "l.sort()\n",
    "l"
   ]
  },
  {
   "cell_type": "code",
   "execution_count": null,
   "metadata": {
    "hidden": true
   },
   "outputs": [],
   "source": [
    "l.sort(reverse= True)\n",
    "l"
   ]
  },
  {
   "cell_type": "markdown",
   "metadata": {
    "hidden": true
   },
   "source": [
    "#### Difference between sort and sorted"
   ]
  },
  {
   "cell_type": "code",
   "execution_count": null,
   "metadata": {
    "hidden": true
   },
   "outputs": [],
   "source": [
    "A = [\"Orange\", \"Strawberry\", \"Mango\"]\n",
    "B = A.sort()\n",
    "\n",
    "print(A)\n",
    "print(B)"
   ]
  },
  {
   "cell_type": "code",
   "execution_count": null,
   "metadata": {
    "hidden": true
   },
   "outputs": [],
   "source": [
    "A = [\"Orange\", \"Strawberry\", \"Mango\"]\n",
    "C = sorted(A)\n",
    "\n",
    "print(A)\n",
    "print(C)"
   ]
  },
  {
   "cell_type": "markdown",
   "metadata": {
    "hidden": true
   },
   "source": [
    "#### Shallow Copying"
   ]
  },
  {
   "cell_type": "code",
   "execution_count": null,
   "metadata": {
    "hidden": true
   },
   "outputs": [],
   "source": [
    "A = [\"Orange\", \"Strawberry\", \"Mango\"]\n",
    "B = A\n",
    "\n",
    "A[0] = \"Apple\""
   ]
  },
  {
   "cell_type": "code",
   "execution_count": null,
   "metadata": {
    "hidden": true
   },
   "outputs": [],
   "source": [
    "A"
   ]
  },
  {
   "cell_type": "code",
   "execution_count": null,
   "metadata": {
    "hidden": true
   },
   "outputs": [],
   "source": [
    "B"
   ]
  },
  {
   "cell_type": "code",
   "execution_count": null,
   "metadata": {
    "hidden": true
   },
   "outputs": [],
   "source": [
    "A = [\"Orange\", \"Strawberry\", \"Mango\"]\n",
    "B = A[:]\n",
    "\n",
    "A[0] = \"Apple\""
   ]
  },
  {
   "cell_type": "code",
   "execution_count": null,
   "metadata": {
    "hidden": true
   },
   "outputs": [],
   "source": [
    "A"
   ]
  },
  {
   "cell_type": "code",
   "execution_count": null,
   "metadata": {
    "hidden": true
   },
   "outputs": [],
   "source": [
    "B"
   ]
  },
  {
   "cell_type": "markdown",
   "metadata": {
    "heading_collapsed": true
   },
   "source": [
    "# Sets \n",
    "\n",
    "- Sets are a type of collection like lists and tuples, storing mixed data.\n",
    "- Sets are enclosed within curly brackets and elements are written as comma-separated.\n",
    "- Sets are unordered\n",
    "- Sets does not allow duplicates"
   ]
  },
  {
   "cell_type": "code",
   "execution_count": null,
   "metadata": {
    "hidden": true
   },
   "outputs": [],
   "source": [
    "l = [1,3,2,4,5,5]\n",
    "\n",
    "set_l = set(l)\n",
    "\n",
    "set_l"
   ]
  },
  {
   "cell_type": "code",
   "execution_count": null,
   "metadata": {
    "hidden": true
   },
   "outputs": [],
   "source": [
    "len(set_l)"
   ]
  },
  {
   "cell_type": "code",
   "execution_count": null,
   "metadata": {
    "hidden": true
   },
   "outputs": [],
   "source": [
    "a = {1, 2, 3, 4, 5}\n",
    "\n",
    "a.add(\"India\")\n",
    "\n",
    "a"
   ]
  },
  {
   "cell_type": "code",
   "execution_count": null,
   "metadata": {
    "hidden": true
   },
   "outputs": [],
   "source": [
    "a.add(\"India\")\n",
    "a"
   ]
  },
  {
   "cell_type": "code",
   "execution_count": null,
   "metadata": {
    "hidden": true
   },
   "outputs": [],
   "source": [
    "a = {1, 2, 3, 4, 5, \"India\"}\n",
    "a.remove(\"India\")\n",
    "a"
   ]
  },
  {
   "cell_type": "code",
   "execution_count": null,
   "metadata": {
    "hidden": true
   },
   "outputs": [],
   "source": [
    "# Set Operations\n",
    "\n",
    "A = {0, 2, 4, 6, 8}\n",
    "B = {1, 2, 3, 4, 5}"
   ]
  },
  {
   "cell_type": "code",
   "execution_count": null,
   "metadata": {
    "hidden": true
   },
   "outputs": [],
   "source": [
    "print(A | B) # Union"
   ]
  },
  {
   "cell_type": "code",
   "execution_count": null,
   "metadata": {
    "hidden": true
   },
   "outputs": [],
   "source": [
    "print(A & B) # Intersection"
   ]
  },
  {
   "cell_type": "code",
   "execution_count": null,
   "metadata": {
    "hidden": true
   },
   "outputs": [],
   "source": [
    "print(A - B) # Difference"
   ]
  },
  {
   "cell_type": "code",
   "execution_count": null,
   "metadata": {
    "hidden": true
   },
   "outputs": [],
   "source": [
    "print(A ^ B) # Symmetric Difference"
   ]
  },
  {
   "cell_type": "markdown",
   "metadata": {
    "heading_collapsed": true
   },
   "source": [
    "# Dictionaries \n",
    "\n",
    "- A dictionary stores element as keys and values pairs.\n",
    "- The key is like an index, its is always unique and immutable. \n",
    "- The values are the objects that contain information.\n",
    "- Values are accessed using their keys.\n",
    "- Each key is followed by a value separated by a colon. \n",
    "- The values can be immutable, mutable, and duplicates. \n",
    "- Each key and value pair is separated by a comma enclosed inside curly brackets."
   ]
  },
  {
   "cell_type": "code",
   "execution_count": null,
   "metadata": {
    "hidden": true
   },
   "outputs": [],
   "source": [
    "# Creating a dictionary\n",
    "\n",
    "d = {\"India\" : \"INR\", \"USA\" : \"USD\", \"France\" : \"Euros\"}\n",
    "\n",
    "# Access value using keys\n",
    "\n",
    "d[\"India\"]"
   ]
  },
  {
   "cell_type": "code",
   "execution_count": null,
   "metadata": {
    "hidden": true
   },
   "outputs": [],
   "source": [
    "# Replace the value for a key in a dictionary\n",
    "\n",
    "d[\"India\"] = \"Rs\"\n",
    "\n",
    "d"
   ]
  },
  {
   "cell_type": "code",
   "execution_count": null,
   "metadata": {
    "hidden": true
   },
   "outputs": [],
   "source": [
    "# Insert new key value pair into a dictionary\n",
    "\n",
    "d[\"Japan\"] = \"Yen\"\n",
    "\n",
    "d"
   ]
  },
  {
   "cell_type": "code",
   "execution_count": null,
   "metadata": {
    "hidden": true
   },
   "outputs": [],
   "source": [
    "# Deleting a key value pair\n",
    "\n",
    "del d[\"France\"]\n",
    "\n",
    "d"
   ]
  },
  {
   "cell_type": "code",
   "execution_count": null,
   "metadata": {
    "hidden": true
   },
   "outputs": [],
   "source": [
    "# Sorting a dictionary\n",
    "\n",
    "sorted(d)"
   ]
  },
  {
   "cell_type": "code",
   "execution_count": 1,
   "metadata": {
    "hidden": true
   },
   "outputs": [
    {
     "data": {
      "text/plain": [
       "dict_values(['INR', 'USD', 'Euros'])"
      ]
     },
     "execution_count": 1,
     "metadata": {},
     "output_type": "execute_result"
    }
   ],
   "source": [
    "# Values() method\n",
    "\n",
    "d = {\"India\" : \"INR\", \"USA\" : \"USD\", \"France\" : \"Euros\"}\n",
    "d.values()"
   ]
  },
  {
   "cell_type": "code",
   "execution_count": 2,
   "metadata": {
    "hidden": true
   },
   "outputs": [
    {
     "data": {
      "text/plain": [
       "dict_keys(['India', 'USA', 'France'])"
      ]
     },
     "execution_count": 2,
     "metadata": {},
     "output_type": "execute_result"
    }
   ],
   "source": [
    "# Keys() method\n",
    "\n",
    "d.keys()"
   ]
  },
  {
   "cell_type": "code",
   "execution_count": 3,
   "metadata": {
    "hidden": true
   },
   "outputs": [
    {
     "data": {
      "text/plain": [
       "{'India': 'Rupee', 'USA': 'USD', 'France': 'Euros'}"
      ]
     },
     "execution_count": 3,
     "metadata": {},
     "output_type": "execute_result"
    }
   ],
   "source": [
    "# Updat() method\n",
    "\n",
    "d.update({'India':'Rupee'})\n",
    "d"
   ]
  },
  {
   "cell_type": "code",
   "execution_count": null,
   "metadata": {
    "hidden": true
   },
   "outputs": [],
   "source": []
  },
  {
   "cell_type": "markdown",
   "metadata": {
    "heading_collapsed": true
   },
   "source": [
    "# Relational Operators</h2>\n",
    "\n",
    "- compares the values on either side of the opeartor and returns and boolean value as True or False."
   ]
  },
  {
   "cell_type": "markdown",
   "metadata": {
    "hidden": true
   },
   "source": [
    "#### equal to operator"
   ]
  },
  {
   "cell_type": "code",
   "execution_count": 1,
   "metadata": {
    "hidden": true
   },
   "outputs": [
    {
     "data": {
      "text/plain": [
       "True"
      ]
     },
     "execution_count": 1,
     "metadata": {},
     "output_type": "execute_result"
    }
   ],
   "source": [
    "10 == 10"
   ]
  },
  {
   "cell_type": "markdown",
   "metadata": {
    "hidden": true
   },
   "source": [
    "<h3 style = \"color:Red\">Alert!!!</h3>\n",
    "\n",
    "##### = is an assignment operator, to assign value of an expression on right to a variable on left."
   ]
  },
  {
   "cell_type": "code",
   "execution_count": 2,
   "metadata": {
    "hidden": true
   },
   "outputs": [
    {
     "data": {
      "text/plain": [
       "False"
      ]
     },
     "execution_count": 2,
     "metadata": {},
     "output_type": "execute_result"
    }
   ],
   "source": [
    "10 == 5"
   ]
  },
  {
   "cell_type": "markdown",
   "metadata": {
    "hidden": true
   },
   "source": [
    "#### not equal to operator"
   ]
  },
  {
   "cell_type": "code",
   "execution_count": 3,
   "metadata": {
    "hidden": true
   },
   "outputs": [
    {
     "data": {
      "text/plain": [
       "True"
      ]
     },
     "execution_count": 3,
     "metadata": {},
     "output_type": "execute_result"
    }
   ],
   "source": [
    "10 != 5"
   ]
  },
  {
   "cell_type": "markdown",
   "metadata": {
    "hidden": true
   },
   "source": [
    "#### greater than operator"
   ]
  },
  {
   "cell_type": "code",
   "execution_count": 4,
   "metadata": {
    "hidden": true
   },
   "outputs": [
    {
     "data": {
      "text/plain": [
       "True"
      ]
     },
     "execution_count": 4,
     "metadata": {},
     "output_type": "execute_result"
    }
   ],
   "source": [
    "10 > 5"
   ]
  },
  {
   "cell_type": "markdown",
   "metadata": {
    "hidden": true
   },
   "source": [
    "#### less than operator"
   ]
  },
  {
   "cell_type": "code",
   "execution_count": 5,
   "metadata": {
    "hidden": true
   },
   "outputs": [
    {
     "data": {
      "text/plain": [
       "False"
      ]
     },
     "execution_count": 5,
     "metadata": {},
     "output_type": "execute_result"
    }
   ],
   "source": [
    "10 < 5"
   ]
  },
  {
   "cell_type": "markdown",
   "metadata": {
    "hidden": true
   },
   "source": [
    "#### greater than equal to operator"
   ]
  },
  {
   "cell_type": "code",
   "execution_count": 6,
   "metadata": {
    "hidden": true
   },
   "outputs": [
    {
     "data": {
      "text/plain": [
       "False"
      ]
     },
     "execution_count": 6,
     "metadata": {},
     "output_type": "execute_result"
    }
   ],
   "source": [
    "10 <= 5"
   ]
  },
  {
   "cell_type": "markdown",
   "metadata": {
    "hidden": true
   },
   "source": [
    "#### less than equal to operator"
   ]
  },
  {
   "cell_type": "code",
   "execution_count": 7,
   "metadata": {
    "hidden": true
   },
   "outputs": [
    {
     "data": {
      "text/plain": [
       "True"
      ]
     },
     "execution_count": 7,
     "metadata": {},
     "output_type": "execute_result"
    }
   ],
   "source": [
    "10 >= 5"
   ]
  },
  {
   "cell_type": "markdown",
   "metadata": {
    "hidden": true
   },
   "source": [
    "## Decision Making"
   ]
  },
  {
   "cell_type": "markdown",
   "metadata": {
    "hidden": true
   },
   "source": [
    "#### Write a program to check value in variable x is even or odd"
   ]
  },
  {
   "cell_type": "code",
   "execution_count": 10,
   "metadata": {
    "hidden": true
   },
   "outputs": [
    {
     "name": "stdout",
     "output_type": "stream",
     "text": [
      "10 is even number\n"
     ]
    }
   ],
   "source": [
    "x = 10\n",
    "\n",
    "if x % 2 == 0:\n",
    "    print(x, \"is even number\")\n",
    "else:\n",
    "    print(x, \"is odd number\")"
   ]
  },
  {
   "cell_type": "markdown",
   "metadata": {
    "hidden": true
   },
   "source": [
    "#### Write a program to accept age of visitor and allows him to PM's party only if he is above 60 years or below 18 years of age"
   ]
  },
  {
   "cell_type": "code",
   "execution_count": null,
   "metadata": {
    "hidden": true
   },
   "outputs": [],
   "source": [
    "x = int(input(\"Enter your age : \"))\n",
    "\n",
    "if x <= 18 or x >= 60 :\n",
    "    print(\"Welcome to party\")\n",
    "else:\n",
    "    print(\"Sorry!! you do not fit in PM's age criteria\")"
   ]
  },
  {
   "cell_type": "markdown",
   "metadata": {
    "hidden": true
   },
   "source": [
    "#### Write a program which offers various discounts on purchase bills"
   ]
  },
  {
   "cell_type": "code",
   "execution_count": null,
   "metadata": {
    "hidden": true
   },
   "outputs": [],
   "source": [
    "shoppinng_total = 5500\n",
    "\n",
    "if shoppinng_total >= 5000:\n",
    "    print(\"You won a discount voucher of flat 1000 on next purchase\")\n",
    "elif shoppinng_total >= 2500:\n",
    "    print(\"You won a discount voucher of flat 500 on next purchase\")\n",
    "elif shoppinng_total >= 1000:\n",
    "    print(\"You won a discount voucher of flat 100 on next purchase\")    \n",
    "else:\n",
    "    print(\"OOPS!! no discount for you!!!\")"
   ]
  },
  {
   "cell_type": "markdown",
   "metadata": {
    "hidden": true
   },
   "source": [
    "#### Write a program to accepts three numbers from user and print the largest of three numbers"
   ]
  },
  {
   "cell_type": "code",
   "execution_count": 17,
   "metadata": {
    "hidden": true
   },
   "outputs": [
    {
     "name": "stdout",
     "output_type": "stream",
     "text": [
      "Enter year to check India made it to Finals: 2003\n",
      "India made it to Finals\n"
     ]
    }
   ],
   "source": [
    "world_cups = {2019 : ['England', 'New-Zeland'], 2015:[\"Australia\", \"New Zeland\"], 2011 : [\"India\", \"Sri Lanka\"], 2007: [\"Australia\", \"Sri Lanka\"], 2003: [\"Australia\", \"India\"]}\n",
    "\n",
    "year = int(input(\"Enter year to check India made it to Finals in 20th century : \"))\n",
    "\n",
    "if year in world_cups :\n",
    "    if \"India\" in world_cups[year] :\n",
    "        print(\"India made it to Finals\")\n",
    "    else:\n",
    "        print(\"India could not make it to Finals\")\n",
    "        \n",
    "else:\n",
    "    print(\"World cup wasnt played in\", year)\n"
   ]
  },
  {
   "cell_type": "markdown",
   "metadata": {
    "hidden": true
   },
   "source": [
    "## Iteration"
   ]
  },
  {
   "cell_type": "code",
   "execution_count": null,
   "metadata": {
    "hidden": true
   },
   "outputs": [],
   "source": [
    "# iterate over list of integers\n",
    "\n",
    "l = [1,3,4,2,5,6]\n",
    "for i in l : \n",
    "    print(i)"
   ]
  },
  {
   "cell_type": "code",
   "execution_count": null,
   "metadata": {
    "hidden": true
   },
   "outputs": [],
   "source": [
    "# iterate over a string\n",
    "\n",
    "string = \"Himachal Pradesh\"\n",
    "for ch in string:\n",
    "    print(ch)"
   ]
  },
  {
   "cell_type": "code",
   "execution_count": null,
   "metadata": {
    "hidden": true
   },
   "outputs": [],
   "source": [
    "# iterate over a string - modify print using end\n",
    "\n",
    "string = \"Himachal Pradesh\"\n",
    "for ch in string:\n",
    "    print(ch, end = \":\") # default value of end = \"\\n\""
   ]
  },
  {
   "cell_type": "code",
   "execution_count": 19,
   "metadata": {
    "hidden": true
   },
   "outputs": [
    {
     "name": "stdout",
     "output_type": "stream",
     "text": [
      "1 ['Sam', 24]\n",
      "2 ['Sharma', 25]\n",
      "3 ['Saina', 26]\n",
      "4 ['Saif', 24]\n",
      "5 ['Varun', 27]\n"
     ]
    }
   ],
   "source": [
    "# iterating over a dictionary\n",
    "\n",
    "students_data = {1:['Sam', 24] , 2:['Sharma',25], 3:['Saina', 26], 4:['Saif',24], 5:['Varun',27]}\n",
    "for key, val in students_data.items():\n",
    "    print(key, val)"
   ]
  },
  {
   "cell_type": "code",
   "execution_count": 21,
   "metadata": {
    "hidden": true
   },
   "outputs": [
    {
     "name": "stdout",
     "output_type": "stream",
     "text": [
      "1\n",
      "2\n",
      "3\n",
      "4\n",
      "5\n"
     ]
    }
   ],
   "source": [
    "# iterate over keys of a dictionary\n",
    "for key in students_data.keys():\n",
    "    print(key)"
   ]
  },
  {
   "cell_type": "code",
   "execution_count": null,
   "metadata": {
    "hidden": true
   },
   "outputs": [],
   "source": [
    "# Generate range of values.\n",
    "range(1, 101)"
   ]
  },
  {
   "cell_type": "code",
   "execution_count": null,
   "metadata": {
    "hidden": true
   },
   "outputs": [],
   "source": [
    "# Iterate over range of values\n",
    "\n",
    "for i in range(1, 101):\n",
    "    print(i, end = \" \")"
   ]
  },
  {
   "cell_type": "code",
   "execution_count": 4,
   "metadata": {
    "hidden": true
   },
   "outputs": [
    {
     "name": "stdout",
     "output_type": "stream",
     "text": [
      "J : 0 0\n",
      "I : 0 1\n",
      "J : 1 0\n",
      "I : 1 1\n",
      "J : 2 0\n",
      "I : 2 1\n"
     ]
    }
   ],
   "source": [
    "# break in loop\n",
    "\n",
    "for i in range(3):\n",
    "    for j in range(2):\n",
    "        if (j == 1):\n",
    "            break\n",
    "        print('J :',i,j)\n",
    "    print('I :',i,j)"
   ]
  },
  {
   "cell_type": "code",
   "execution_count": 22,
   "metadata": {
    "hidden": true
   },
   "outputs": [
    {
     "data": {
      "text/plain": [
       "range(100, 0, -1)"
      ]
     },
     "execution_count": 22,
     "metadata": {},
     "output_type": "execute_result"
    }
   ],
   "source": [
    "# different variations in range\n",
    "\n",
    "range(1, 100, 2) # gives numbers from 1 to 100 with a step count of 2\n",
    "range(100, 0, -1) # gives a reversed sequence of numbers from 100 to 1"
   ]
  },
  {
   "cell_type": "code",
   "execution_count": 23,
   "metadata": {
    "hidden": true
   },
   "outputs": [
    {
     "name": "stdout",
     "output_type": "stream",
     "text": [
      "x\n",
      "x\n",
      "abc\n",
      "abc\n",
      "quit\n",
      "quit\n"
     ]
    }
   ],
   "source": [
    "ch = \"\"\n",
    "while ch != \"quit\":\n",
    "    ch = input()\n",
    "    print(ch)"
   ]
  },
  {
   "cell_type": "code",
   "execution_count": 24,
   "metadata": {
    "hidden": true
   },
   "outputs": [
    {
     "name": "stdout",
     "output_type": "stream",
     "text": [
      "x\n",
      "x\n",
      "c\n",
      "c\n",
      "quit\n"
     ]
    }
   ],
   "source": [
    "while True:\n",
    "    ch = input()\n",
    "    if ch == \"quit\":\n",
    "        break\n",
    "    print(ch)"
   ]
  },
  {
   "cell_type": "markdown",
   "metadata": {
    "hidden": true
   },
   "source": [
    "Python Continue Statement skips the execution of the program block from after the continue statement and forces the control to start the next iteration."
   ]
  },
  {
   "cell_type": "code",
   "execution_count": 3,
   "metadata": {
    "hidden": true
   },
   "outputs": [
    {
     "name": "stdout",
     "output_type": "stream",
     "text": [
      "3 6 9 12 18 21 24 27 33 36 39 42 48 51 "
     ]
    }
   ],
   "source": [
    "x = 0\n",
    "while x <=50 :\n",
    "    x += 3\n",
    "    if x % 5 == 0 :\n",
    "        continue   \n",
    "    print(x, end = \" \")\n",
    "           "
   ]
  },
  {
   "cell_type": "code",
   "execution_count": 1,
   "metadata": {
    "hidden": true
   },
   "outputs": [
    {
     "name": "stdout",
     "output_type": "stream",
     "text": [
      "Hi  1\n",
      "Hi  2\n",
      "Hi  3\n",
      "Hi  4\n",
      "Hi  5\n"
     ]
    }
   ],
   "source": [
    "# Single statement while block \n",
    "count = 0\n",
    "while (count < 5): count +=1 ; print('Hi ',count)"
   ]
  },
  {
   "cell_type": "markdown",
   "metadata": {
    "hidden": true
   },
   "source": [
    "## Comprehensions"
   ]
  },
  {
   "cell_type": "code",
   "execution_count": 22,
   "metadata": {
    "hidden": true
   },
   "outputs": [
    {
     "data": {
      "text/plain": [
       "[11, 5, 4, 6, 14]"
      ]
     },
     "execution_count": 22,
     "metadata": {},
     "output_type": "execute_result"
    }
   ],
   "source": [
    "l1 = [\"automobiles\", \"Honda\", \"Benz\", \"Suzuki\", \"Morris Garages\" ]\n",
    "\n",
    "l2 = []\n",
    "\n",
    "for i in l1 :\n",
    "    l2.append(len(i))\n",
    "    \n",
    "l2 "
   ]
  },
  {
   "cell_type": "markdown",
   "metadata": {
    "hidden": true
   },
   "source": [
    "#### The Functional Approach"
   ]
  },
  {
   "cell_type": "code",
   "execution_count": 6,
   "metadata": {
    "hidden": true
   },
   "outputs": [
    {
     "name": "stdout",
     "output_type": "stream",
     "text": [
      "[11, 5, 4, 6, 14]\n"
     ]
    }
   ],
   "source": [
    "# Example on list comprehension\n",
    "\n",
    "l1 = [\"automobiles\", \"Honda\", \"Benz\", \"Suzuki\", \"Morris Garages\" ]\n",
    "\n",
    "# Create a list consisting of length of each element from the above list\n",
    "\n",
    "l2 = [len(i) for i in l1]\n",
    "\n",
    "print(l2)"
   ]
  },
  {
   "cell_type": "code",
   "execution_count": 7,
   "metadata": {
    "hidden": true
   },
   "outputs": [
    {
     "name": "stdout",
     "output_type": "stream",
     "text": [
      "automobiles  -  11\n",
      "Honda  -  5\n",
      "Benz  -  4\n",
      "Suzuki  -  6\n",
      "Morris Garages  -  14\n"
     ]
    }
   ],
   "source": [
    "# iterating over l1 and l2 simultaneaously\n",
    "\n",
    "for i,j in zip(l1,l2):\n",
    "    print(i, \" - \", j)"
   ]
  },
  {
   "cell_type": "markdown",
   "metadata": {
    "hidden": true
   },
   "source": [
    "#### Dictionary comprehension"
   ]
  },
  {
   "cell_type": "code",
   "execution_count": 9,
   "metadata": {
    "hidden": true
   },
   "outputs": [
    {
     "name": "stdout",
     "output_type": "stream",
     "text": [
      "{'automobiles': 11, 'Honda': 5, 'Benz': 4, 'Suzuki': 6, 'Morris Garages': 14}\n"
     ]
    }
   ],
   "source": [
    "# Example on dictionary comprehension\n",
    "\n",
    "l1 = [\"automobiles\", \"Honda\", \"Benz\", \"Suzuki\", \"Morris Garages\" ]\n",
    "\n",
    "# Create a dictionary consisting of element and length of each element from the above list\n",
    "\n",
    "d = {i : len(i) for i in l1}\n",
    "\n",
    "print(d)"
   ]
  },
  {
   "cell_type": "markdown",
   "metadata": {
    "hidden": true
   },
   "source": [
    "#### Set Comprehensions\n",
    "\n",
    "#### Ex . Write a program which takes a word as input from user and returns vowels from the word"
   ]
  },
  {
   "cell_type": "code",
   "execution_count": 10,
   "metadata": {
    "hidden": true
   },
   "outputs": [
    {
     "name": "stdout",
     "output_type": "stream",
     "text": [
      "Enter a word : aeroplane\n"
     ]
    },
    {
     "data": {
      "text/plain": [
       "{'a', 'e', 'o'}"
      ]
     },
     "execution_count": 10,
     "metadata": {},
     "output_type": "execute_result"
    }
   ],
   "source": [
    "word = input(\"Enter a word : \")\n",
    "vowels = {i for i in word if i in \"aeiou\"}\n",
    "vowels"
   ]
  },
  {
   "cell_type": "markdown",
   "metadata": {
    "heading_collapsed": true
   },
   "source": [
    "# Comprehension\n",
    "- We can create list,set,Dictionaries in single line"
   ]
  },
  {
   "cell_type": "code",
   "execution_count": 1,
   "metadata": {
    "hidden": true
   },
   "outputs": [
    {
     "data": {
      "text/plain": [
       "[0, 1, 4, 9, 16, 25, 36, 49, 64, 81]"
      ]
     },
     "execution_count": 1,
     "metadata": {},
     "output_type": "execute_result"
    }
   ],
   "source": [
    "a = []\n",
    "for i in range(10):\n",
    "    a.append(i**2)\n",
    "    \n",
    "a"
   ]
  },
  {
   "cell_type": "markdown",
   "metadata": {
    "hidden": true
   },
   "source": [
    "## List comprehension"
   ]
  },
  {
   "cell_type": "code",
   "execution_count": 4,
   "metadata": {
    "hidden": true
   },
   "outputs": [
    {
     "data": {
      "text/plain": [
       "[0, 1, 4, 9, 16, 25, 36, 49, 64, 81]"
      ]
     },
     "execution_count": 4,
     "metadata": {},
     "output_type": "execute_result"
    }
   ],
   "source": [
    "a = [i**2 for i in range(10)]\n",
    "a"
   ]
  },
  {
   "cell_type": "markdown",
   "metadata": {
    "hidden": true
   },
   "source": [
    "## Set Comprehension"
   ]
  },
  {
   "cell_type": "code",
   "execution_count": 7,
   "metadata": {
    "hidden": true
   },
   "outputs": [
    {
     "data": {
      "text/plain": [
       "{0, 4, 16, 36, 64}"
      ]
     },
     "execution_count": 7,
     "metadata": {},
     "output_type": "execute_result"
    }
   ],
   "source": [
    "# getting i^2 of even numbers\n",
    "a = {i**2 for i in range(10) if i%2==0}\n",
    "a"
   ]
  },
  {
   "cell_type": "markdown",
   "metadata": {
    "hidden": true
   },
   "source": [
    "## Dict comprehension"
   ]
  },
  {
   "cell_type": "code",
   "execution_count": 9,
   "metadata": {
    "hidden": true,
    "scrolled": true
   },
   "outputs": [
    {
     "data": {
      "text/plain": [
       "{'0': 0,\n",
       " '1': 1,\n",
       " '2': 4,\n",
       " '3': 9,\n",
       " '4': 16,\n",
       " '5': 25,\n",
       " '6': 36,\n",
       " '7': 49,\n",
       " '8': 64,\n",
       " '9': 81}"
      ]
     },
     "execution_count": 9,
     "metadata": {},
     "output_type": "execute_result"
    }
   ],
   "source": [
    "a = {str(i):i**2 for i in range(10)}\n",
    "a"
   ]
  },
  {
   "cell_type": "code",
   "execution_count": null,
   "metadata": {
    "hidden": true
   },
   "outputs": [],
   "source": []
  },
  {
   "cell_type": "markdown",
   "metadata": {
    "heading_collapsed": true
   },
   "source": [
    "# Functions\n",
    "\n",
    "#### Ex. Write a function which takes a value as a parameter and returns its factorial"
   ]
  },
  {
   "cell_type": "code",
   "execution_count": 23,
   "metadata": {
    "hidden": true
   },
   "outputs": [
    {
     "data": {
      "text/plain": [
       "120"
      ]
     },
     "execution_count": 23,
     "metadata": {},
     "output_type": "execute_result"
    }
   ],
   "source": [
    "def factorial(n):\n",
    "    \n",
    "    fact = 1\n",
    "    \n",
    "    for i in range(1, n+1):\n",
    "        fact *= i\n",
    "    \n",
    "    return fact\n",
    "\n",
    "factorial(5)"
   ]
  },
  {
   "cell_type": "markdown",
   "metadata": {
    "hidden": true
   },
   "source": [
    "#### Default Argument"
   ]
  },
  {
   "cell_type": "code",
   "execution_count": 1,
   "metadata": {
    "hidden": true
   },
   "outputs": [],
   "source": [
    "def func(name, age = 35):\n",
    "    print(\"name : \", name)\n",
    "    print(\"age : \", age)"
   ]
  },
  {
   "cell_type": "code",
   "execution_count": 2,
   "metadata": {
    "hidden": true
   },
   "outputs": [
    {
     "name": "stdout",
     "output_type": "stream",
     "text": [
      "name :  Jane\n",
      "age :  25\n"
     ]
    }
   ],
   "source": [
    "func(\"Jane\", 25)"
   ]
  },
  {
   "cell_type": "code",
   "execution_count": 3,
   "metadata": {
    "hidden": true
   },
   "outputs": [
    {
     "name": "stdout",
     "output_type": "stream",
     "text": [
      "name :  Jane\n",
      "age :  35\n"
     ]
    }
   ],
   "source": [
    "func(\"Jane\")"
   ]
  },
  {
   "cell_type": "code",
   "execution_count": 16,
   "metadata": {
    "hidden": true
   },
   "outputs": [
    {
     "name": "stdout",
     "output_type": "stream",
     "text": [
      "name :  Jane\n",
      "age :  35\n",
      "city :  Banglore\n"
     ]
    }
   ],
   "source": [
    "def func(name, age = 35, city = \"Mumbai\"):\n",
    "    print(\"name : \", name)\n",
    "    print(\"age : \", age)\n",
    "    print(\"city : \", city)\n",
    "    \n",
    "func(\"Jane\", city = \"Banglore\")"
   ]
  },
  {
   "cell_type": "code",
   "execution_count": null,
   "metadata": {
    "hidden": true
   },
   "outputs": [],
   "source": [
    "def var_func(*args):\n",
    "    print(args)\n",
    "    \n",
    "var_func(1,3,\"abc\")"
   ]
  },
  {
   "cell_type": "markdown",
   "metadata": {
    "hidden": true
   },
   "source": [
    "#### Function in Function"
   ]
  },
  {
   "cell_type": "code",
   "execution_count": 18,
   "metadata": {
    "hidden": true
   },
   "outputs": [
    {
     "name": "stdout",
     "output_type": "stream",
     "text": [
      "df%hist\n",
      "loacal\n"
     ]
    }
   ],
   "source": [
    "\n",
    "def outter():\n",
    "    x = 'loacal'\n",
    "    \n",
    "    def inner():\n",
    "        print(x)\n",
    "        \n",
    "    inner() # calling inner function in outter function\n",
    "    print(x)\n",
    "    \n",
    "outter()"
   ]
  },
  {
   "cell_type": "code",
   "execution_count": null,
   "metadata": {
    "hidden": true
   },
   "outputs": [],
   "source": []
  },
  {
   "cell_type": "markdown",
   "metadata": {
    "heading_collapsed": true,
    "hidden": true
   },
   "source": [
    "## Local and Global Variables"
   ]
  },
  {
   "cell_type": "code",
   "execution_count": 7,
   "metadata": {
    "hidden": true
   },
   "outputs": [
    {
     "name": "stdout",
     "output_type": "stream",
     "text": [
      "5\n"
     ]
    }
   ],
   "source": [
    "x = 10 # Global variable\n",
    "def show():\n",
    "    x = 5 # local variable\n",
    "    print(x) # prints local variable\n",
    "    \n",
    "show() "
   ]
  },
  {
   "cell_type": "code",
   "execution_count": 15,
   "metadata": {
    "hidden": true
   },
   "outputs": [
    {
     "name": "stdout",
     "output_type": "stream",
     "text": [
      "10 local variable\n"
     ]
    }
   ],
   "source": [
    "x = 10 # Global variable\n",
    "def show():\n",
    "    global x # declared global in fun variable\n",
    "    y = 'local variable'\n",
    "    print(x,y)\n",
    "    \n",
    "show() "
   ]
  },
  {
   "cell_type": "code",
   "execution_count": 23,
   "metadata": {
    "hidden": true
   },
   "outputs": [
    {
     "name": "stdout",
     "output_type": "stream",
     "text": [
      "10\n",
      "y\n",
      "10\n"
     ]
    }
   ],
   "source": [
    "x = 'x'\n",
    "y = 'y'\n",
    "def outter():\n",
    "    x = 10\n",
    "    \n",
    "    def inner():\n",
    "        nonlocal x # checks the nonlocal which is not global variable\n",
    "        global y # checks the global variable which is out of the function\n",
    "        print(x)\n",
    "        print(y)\n",
    "        \n",
    "    inner() # calling inner function in outter function\n",
    "    print(x)\n",
    "    \n",
    "outter()"
   ]
  },
  {
   "cell_type": "markdown",
   "metadata": {
    "heading_collapsed": true,
    "hidden": true
   },
   "source": [
    "## Argument values\n",
    "- 1 Default arguments\n",
    "- 2 Keyword arguments"
   ]
  },
  {
   "cell_type": "markdown",
   "metadata": {
    "hidden": true
   },
   "source": [
    "### Default Arguments"
   ]
  },
  {
   "cell_type": "code",
   "execution_count": 2,
   "metadata": {
    "hidden": true
   },
   "outputs": [
    {
     "name": "stdout",
     "output_type": "stream",
     "text": [
      "1 8\n"
     ]
    }
   ],
   "source": [
    "def show(a,b):\n",
    "    print(a,b)\n",
    "    \n",
    "show(1,8)"
   ]
  },
  {
   "cell_type": "code",
   "execution_count": null,
   "metadata": {
    "hidden": true
   },
   "outputs": [],
   "source": []
  },
  {
   "cell_type": "markdown",
   "metadata": {
    "hidden": true
   },
   "source": [
    "### Keyword arguments\n",
    "- If you have some finctions with many parameters and you want to specify only some of them, then you can give values for such parameters by naming them - this is called keyword arguments\n",
    "- We use the name(keyword) instead of the postion (which we have been using all along) to specify the arguments to the function."
   ]
  },
  {
   "cell_type": "code",
   "execution_count": 4,
   "metadata": {
    "hidden": true
   },
   "outputs": [
    {
     "name": "stdout",
     "output_type": "stream",
     "text": [
      "1 8 4 99\n"
     ]
    }
   ],
   "source": [
    "# in this arguments there are already predefined arguments in functions\n",
    "def show(a,b,c=4,d=99):\n",
    "    print(a,b,c,d)\n",
    "    \n",
    "show(1,8)"
   ]
  },
  {
   "cell_type": "code",
   "execution_count": 6,
   "metadata": {
    "code_folding": [],
    "hidden": true
   },
   "outputs": [
    {
     "name": "stdout",
     "output_type": "stream",
     "text": [
      "hi ,how are you doing jaswanth and Yaswanth\n"
     ]
    }
   ],
   "source": [
    "# we can explicetly give a value to the keyword arguments like this eg.\n",
    "def show(a,b,c,d='jaswanth',e='Yas'):\n",
    "    print(a,b,c,d,e)\n",
    "    \n",
    "show('hi',',how are you','doing',e='and Yaswanth')"
   ]
  },
  {
   "cell_type": "code",
   "execution_count": 11,
   "metadata": {
    "code_folding": [],
    "hidden": true
   },
   "outputs": [
    {
     "name": "stdout",
     "output_type": "stream",
     "text": [
      "('Hi', 146, 234, True)\n"
     ]
    }
   ],
   "source": [
    "# to give n no.of arguments to the function use '*' in variable in function\n",
    "# note : '*' is not any pointers in python like C\n",
    "def show(*agrs):\n",
    "    print(agrs)\n",
    "    \n",
    "show('Hi',146,234,True)"
   ]
  },
  {
   "cell_type": "code",
   "execution_count": 13,
   "metadata": {
    "hidden": true
   },
   "outputs": [
    {
     "name": "stdout",
     "output_type": "stream",
     "text": [
      "HI hello 234\n",
      "('This', 'comes', 'under', '*args functions')\n",
      "100 Jaswanth\n"
     ]
    }
   ],
   "source": [
    "# combine of defult and keyword arguments\n",
    "def show(a,b,c, *args, d=10,e='Jaswanth'):\n",
    "    print(a,b,c)\n",
    "    print(args)\n",
    "    print(d,e)\n",
    "    \n",
    "show('HI','hello',234,'This','comes','under','*args functions',d=100)"
   ]
  },
  {
   "cell_type": "code",
   "execution_count": 14,
   "metadata": {
    "hidden": true
   },
   "outputs": [
    {
     "name": "stdout",
     "output_type": "stream",
     "text": [
      "hi Bye\n",
      "('How are you', 'Jash')\n",
      "10 100\n",
      "{'name': 'Yaswanth', 'age': 20, 'male': True}\n"
     ]
    }
   ],
   "source": [
    "# we can also add key:val pair like Dictionaries by using '**<kwargs>' in functions\n",
    "def show(a,b,*args,d=10,e=20, **dargs):\n",
    "    print(a,b)\n",
    "    print(args)\n",
    "    print(d,e)\n",
    "    print(dargs)\n",
    "    \n",
    "show('hi','Bye','How are you','Jash',e=100, name='Yaswanth',age=20,male=True)"
   ]
  },
  {
   "cell_type": "code",
   "execution_count": null,
   "metadata": {
    "hidden": true
   },
   "outputs": [],
   "source": []
  },
  {
   "cell_type": "code",
   "execution_count": null,
   "metadata": {
    "hidden": true
   },
   "outputs": [],
   "source": []
  },
  {
   "cell_type": "markdown",
   "metadata": {
    "heading_collapsed": true
   },
   "source": [
    "# Lambda Function"
   ]
  },
  {
   "cell_type": "code",
   "execution_count": 18,
   "metadata": {
    "hidden": true
   },
   "outputs": [
    {
     "data": {
      "text/plain": [
       "'even'"
      ]
     },
     "execution_count": 18,
     "metadata": {},
     "output_type": "execute_result"
    }
   ],
   "source": [
    "# Write a lambda funtion to check a number is even or odd\n",
    "\n",
    "f = lambda x: \"even\" if x % 2 == 0 else \"odd\"\n",
    "\n",
    "f(10)"
   ]
  },
  {
   "cell_type": "code",
   "execution_count": 15,
   "metadata": {
    "hidden": true
   },
   "outputs": [
    {
     "data": {
      "text/plain": [
       "24"
      ]
     },
     "execution_count": 15,
     "metadata": {},
     "output_type": "execute_result"
    }
   ],
   "source": [
    "# other eg for lambda functions\n",
    "add = lambda a,b: a+b\n",
    "add(1,23)"
   ]
  },
  {
   "cell_type": "markdown",
   "metadata": {
    "hidden": true
   },
   "source": [
    "#### Ex. Write a lambda function to perform addition of two numbers"
   ]
  },
  {
   "cell_type": "code",
   "execution_count": 24,
   "metadata": {
    "hidden": true
   },
   "outputs": [
    {
     "data": {
      "text/plain": [
       "7"
      ]
     },
     "execution_count": 24,
     "metadata": {},
     "output_type": "execute_result"
    }
   ],
   "source": [
    "f = lambda x, y : x + y\n",
    "\n",
    "f(2,5)"
   ]
  },
  {
   "cell_type": "markdown",
   "metadata": {
    "hidden": true
   },
   "source": [
    "## map - filter - reduce"
   ]
  },
  {
   "cell_type": "code",
   "execution_count": 20,
   "metadata": {
    "hidden": true
   },
   "outputs": [],
   "source": [
    "countries = [\"India\", \"Japan\", \"Italy\", \"France\"]"
   ]
  },
  {
   "cell_type": "markdown",
   "metadata": {
    "hidden": true
   },
   "source": [
    "#### map the list to obtained the names of countries in upper case"
   ]
  },
  {
   "cell_type": "code",
   "execution_count": 24,
   "metadata": {
    "hidden": true
   },
   "outputs": [
    {
     "data": {
      "text/plain": [
       "['INDIA', 'JAPAN', 'ITALY', 'FRANCE']"
      ]
     },
     "execution_count": 24,
     "metadata": {},
     "output_type": "execute_result"
    }
   ],
   "source": [
    "list(map(lambda x : x.upper(), countries))"
   ]
  },
  {
   "cell_type": "markdown",
   "metadata": {
    "hidden": true
   },
   "source": [
    "#### filter the countries names starting with \"I\""
   ]
  },
  {
   "cell_type": "code",
   "execution_count": 25,
   "metadata": {
    "hidden": true
   },
   "outputs": [
    {
     "data": {
      "text/plain": [
       "['India', 'Italy']"
      ]
     },
     "execution_count": 25,
     "metadata": {},
     "output_type": "execute_result"
    }
   ],
   "source": [
    "list(filter(lambda x : x.startswith(\"I\"), countries))"
   ]
  },
  {
   "cell_type": "markdown",
   "metadata": {
    "hidden": true
   },
   "source": [
    "#### reduce the list to concatante the countries names into a single string variable seperated by \" \""
   ]
  },
  {
   "cell_type": "code",
   "execution_count": 27,
   "metadata": {
    "hidden": true
   },
   "outputs": [
    {
     "data": {
      "text/plain": [
       "'India Japan Italy France'"
      ]
     },
     "execution_count": 27,
     "metadata": {},
     "output_type": "execute_result"
    }
   ],
   "source": [
    "from functools import reduce\n",
    "\n",
    "reduce(lambda x, y : x + \" \" + y, countries)"
   ]
  },
  {
   "cell_type": "markdown",
   "metadata": {
    "hidden": true
   },
   "source": [
    "#### Some more examples on map - filter - reduce"
   ]
  },
  {
   "cell_type": "code",
   "execution_count": 34,
   "metadata": {
    "hidden": true
   },
   "outputs": [
    {
     "name": "stdout",
     "output_type": "stream",
     "text": [
      "<map object at 0x000002200C31F5C0>\n",
      "[4, 16, 25]\n"
     ]
    }
   ],
   "source": [
    "L1 = [2,4,5]\n",
    "print(map(lambda x: x**2, L1))\n",
    "print(list(map(lambda x: x**2, L1)))"
   ]
  },
  {
   "cell_type": "markdown",
   "metadata": {
    "hidden": true
   },
   "source": [
    "#### Defining a function and using it in map"
   ]
  },
  {
   "cell_type": "code",
   "execution_count": 33,
   "metadata": {
    "hidden": true
   },
   "outputs": [
    {
     "name": "stdout",
     "output_type": "stream",
     "text": [
      "[4, 16, 25]\n"
     ]
    }
   ],
   "source": [
    "L1 = [2,4,5]\n",
    "def squareit(n):\n",
    "    return n**2\n",
    "\n",
    "print(list(map(squareit, L1)))"
   ]
  },
  {
   "cell_type": "markdown",
   "metadata": {
    "hidden": true
   },
   "source": [
    "#### Filter function to return the multiples of 3 "
   ]
  },
  {
   "cell_type": "code",
   "execution_count": 35,
   "metadata": {
    "hidden": true
   },
   "outputs": [
    {
     "name": "stdout",
     "output_type": "stream",
     "text": [
      "[3, 6, 9]\n"
     ]
    }
   ],
   "source": [
    "my_list = [3,4,5,6,7,8,9]\n",
    "\n",
    "divby3 = lambda x:  x % 3 == 0\n",
    "\n",
    "div = filter(divby3, my_list)\n",
    "print(list(div))\n"
   ]
  },
  {
   "cell_type": "markdown",
   "metadata": {
    "hidden": true
   },
   "source": [
    "#### Ex. Write a python program to count the students above age 18"
   ]
  },
  {
   "cell_type": "code",
   "execution_count": 41,
   "metadata": {
    "hidden": true
   },
   "outputs": [
    {
     "data": {
      "text/plain": [
       "2"
      ]
     },
     "execution_count": 41,
     "metadata": {},
     "output_type": "execute_result"
    }
   ],
   "source": [
    "students_data = {1:['Sam', 15] , 2:['Sharma',18], 3:['Saina', 16], 4:['Saif',19], 5:['Varun',20]}\n",
    "\n",
    "len(list(filter(lambda x : x[1] > 18, students_data.values())))"
   ]
  },
  {
   "cell_type": "markdown",
   "metadata": {
    "hidden": true
   },
   "source": [
    "#### Reduce to return product of elements"
   ]
  },
  {
   "cell_type": "code",
   "execution_count": 31,
   "metadata": {
    "hidden": true
   },
   "outputs": [
    {
     "name": "stdout",
     "output_type": "stream",
     "text": [
      "6\n"
     ]
    }
   ],
   "source": [
    "from functools import reduce\n",
    "\n",
    "q  = reduce(lambda x, y: x*y, range(1,4))\n",
    "\n",
    "print(q)"
   ]
  },
  {
   "cell_type": "markdown",
   "metadata": {},
   "source": [
    "# i. Creating Classes and Objects "
   ]
  },
  {
   "cell_type": "markdown",
   "metadata": {},
   "source": [
    "## Defining a class</h2>\n",
    "\n",
    "- length and breadth as attributes\n",
    "- __init__() - constructor of class\n",
    "- self parameter - refers to the newly created instance of the class.  \n",
    "- attributes length and breadth are associated with self-keyword to identify them as instance variables"
   ]
  },
  {
   "cell_type": "code",
   "execution_count": 10,
   "metadata": {},
   "outputs": [],
   "source": [
    "class Rectangle :\n",
    "    def __init__(self):\n",
    "        self.length = 10\n",
    "        self.breadth = 5"
   ]
  },
  {
   "cell_type": "markdown",
   "metadata": {},
   "source": [
    "- create the object by calling name of the class followed by parenthesis. \n",
    "- print the values using dot operator"
   ]
  },
  {
   "cell_type": "code",
   "execution_count": 3,
   "metadata": {},
   "outputs": [
    {
     "name": "stdout",
     "output_type": "stream",
     "text": [
      "Length =  10 \n",
      "Breadth =  5\n"
     ]
    }
   ],
   "source": [
    "rect = Rectangle()\n",
    "print(\"Length = \",rect.length, \"\\nBreadth = \" ,rect.breadth)"
   ]
  },
  {
   "cell_type": "markdown",
   "metadata": {},
   "source": [
    "## Parametrised Constructor</h2>\n",
    "\n",
    "- parametrised constructor - dynamically assign the attribute values during object creation"
   ]
  },
  {
   "cell_type": "code",
   "execution_count": null,
   "metadata": {},
   "outputs": [],
   "source": [
    "class Rectangle :\n",
    "    def __init__(self, length, breadth):\n",
    "        self.length = length\n",
    "        self.breadth = breadth\n",
    "        \n",
    "rect = Rectangle(10, 5)\n",
    "print(\"Length = \",rect.length, \"\\nBreadth = \" ,rect.breadth)"
   ]
  },
  {
   "cell_type": "markdown",
   "metadata": {},
   "source": [
    "# ii. Class Variable and Instance variables "
   ]
  },
  {
   "cell_type": "code",
   "execution_count": 2,
   "metadata": {},
   "outputs": [],
   "source": [
    "class Circle :\n",
    "    pi = 3.14\n",
    "    def __init__(self, radius):\n",
    "        self.radius = radius"
   ]
  },
  {
   "cell_type": "code",
   "execution_count": 3,
   "metadata": {},
   "outputs": [
    {
     "name": "stdout",
     "output_type": "stream",
     "text": [
      "Radius = 5 \t pi = 3.14\n",
      "Radius = 2 \t pi = 3.14\n"
     ]
    }
   ],
   "source": [
    "circle_1 = Circle(5)\n",
    "print(\"Radius = {} \\t pi = {}\".format(circle_1.radius,circle_1.pi))\n",
    "\n",
    "circle_2 = Circle(2)\n",
    "print(\"Radius = {} \\t pi = {}\".format(circle_2.radius,circle_2.pi))"
   ]
  },
  {
   "cell_type": "code",
   "execution_count": 4,
   "metadata": {},
   "outputs": [
    {
     "name": "stdout",
     "output_type": "stream",
     "text": [
      "Radius = 5 \t pi = 3.1436\n",
      "Radius = 2 \t pi = 3.1436\n"
     ]
    }
   ],
   "source": [
    "Circle.pi = 3.1436\n",
    "\n",
    "circle_1 = Circle(5)\n",
    "print(\"Radius = {} \\t pi = {}\".format(circle_1.radius,circle_1.pi))\n",
    "\n",
    "circle_2 = Circle(2)\n",
    "print(\"Radius = {} \\t pi = {}\".format(circle_2.radius,circle_2.pi))"
   ]
  },
  {
   "cell_type": "markdown",
   "metadata": {},
   "source": [
    "# iii. Adding a method to class</h1>\n",
    "\n",
    "- calculate_area() - retutns the product of attributes length and breadth   \n",
    "- self - identifies its association with the instance"
   ]
  },
  {
   "cell_type": "code",
   "execution_count": 9,
   "metadata": {},
   "outputs": [
    {
     "name": "stdout",
     "output_type": "stream",
     "text": [
      "Length =  10 \n",
      "Breadth =  5 \n",
      "Area =  50\n"
     ]
    }
   ],
   "source": [
    "class Rectangle :\n",
    "    def __init__(self, length, breadth):\n",
    "        self.length = length\n",
    "        self.breadth = breadth\n",
    "        \n",
    "    def calculate_area(self):\n",
    "        return self.length * self.breadth\n",
    "        \n",
    "rect = Rectangle(10,5)\n",
    "print(\"Length = \",rect.length, \"\\nBreadth = \" ,rect.breadth, \"\\nArea = \", rect.calculate_area())"
   ]
  },
  {
   "cell_type": "markdown",
   "metadata": {},
   "source": [
    "## Significance of self:</h2>\n",
    "\n",
    "- The attributes length and breadth are associated with an instance.\n",
    "- Self makes sure that each instance refers to its own copy of attributes"
   ]
  },
  {
   "cell_type": "code",
   "execution_count": 11,
   "metadata": {},
   "outputs": [
    {
     "name": "stdout",
     "output_type": "stream",
     "text": [
      "Length =  15 \n",
      "Breadth =  8 \n",
      "Area =  120\n"
     ]
    }
   ],
   "source": [
    "new_rect = Rectangle(15, 8)\n",
    "print(\"Length = \",new_rect.length, \"\\nBreadth = \" ,new_rect.breadth, \"\\nArea = \", new_rect.calculate_area())"
   ]
  },
  {
   "cell_type": "code",
   "execution_count": 12,
   "metadata": {},
   "outputs": [
    {
     "name": "stdout",
     "output_type": "stream",
     "text": [
      "Length =  10 \n",
      "Breadth =  5 \n",
      "Area =  50\n"
     ]
    }
   ],
   "source": [
    "print(\"Length = \",rect.length, \"\\nBreadth = \" ,rect.breadth, \"\\nArea = \", rect.calculate_area())"
   ]
  },
  {
   "cell_type": "markdown",
   "metadata": {},
   "source": [
    "# iv. Class Method and Static Method"
   ]
  },
  {
   "cell_type": "code",
   "execution_count": 5,
   "metadata": {},
   "outputs": [],
   "source": [
    "class Circle :\n",
    "    pi = 3.14\n",
    "    def __init__(self, radius):\n",
    "        self.radius = radius\n",
    "        \n",
    "    # Instance Method   \n",
    "    def calculate_area(self):\n",
    "        return Circle.pi * self.radius\n",
    "\n",
    "    # Class Method - It cannot access - radius\n",
    "    @classmethod\n",
    "    def access_pi(cls):\n",
    "        cls.pi = 3.1436\n",
    "        \n",
    "    # Static Method -  It cannot access - pi and radius\n",
    "    @staticmethod\n",
    "    def circle_static_method():\n",
    "        print(\"This is circle's static method\")\n",
    "        \n",
    "cir = Circle(5)"
   ]
  },
  {
   "cell_type": "code",
   "execution_count": 8,
   "metadata": {},
   "outputs": [
    {
     "name": "stdout",
     "output_type": "stream",
     "text": [
      "15.700000000000001\n"
     ]
    }
   ],
   "source": [
    "print(cir.calculate_area())"
   ]
  },
  {
   "cell_type": "markdown",
   "metadata": {},
   "source": [
    "# v. Inheritance and Overriding"
   ]
  },
  {
   "cell_type": "code",
   "execution_count": 19,
   "metadata": {},
   "outputs": [],
   "source": [
    "class Shape :\n",
    "    \n",
    "    \n",
    "    def set_color(self, color):\n",
    "        self.color = color\n",
    "        \n",
    "    def calculate_area(self):\n",
    "        pass\n",
    "        \n",
    "    def color_the_shape(self):\n",
    "        color_price = {\"red\" : 10, \"blue\" : 15, \"green\" : 5}\n",
    "        return self.calculate_area() * color_price[self.color]"
   ]
  },
  {
   "cell_type": "code",
   "execution_count": 20,
   "metadata": {},
   "outputs": [],
   "source": [
    "class Circle(Shape) :\n",
    "    pi = 3.14\n",
    "    def __init__(self, radius):\n",
    "        self.radius = radius\n",
    "        \n",
    "    def calculate_area(self):\n",
    "        return Circle.pi * self.radius"
   ]
  },
  {
   "cell_type": "code",
   "execution_count": 21,
   "metadata": {},
   "outputs": [
    {
     "name": "stdout",
     "output_type": "stream",
     "text": [
      "Circle with radius = 5 when colored red costs $ 157.0\n"
     ]
    }
   ],
   "source": [
    "c = Circle(5)\n",
    "c.set_color(\"red\")\n",
    "print(\"Circle with radius =\",c.radius ,\"when colored\", c.color,\"costs $\",c.color_the_shape())"
   ]
  },
  {
   "cell_type": "code",
   "execution_count": 26,
   "metadata": {},
   "outputs": [],
   "source": [
    "class Rectangle(Shape) :\n",
    "    def __init__(self, length, breadth):\n",
    "        self.length = length\n",
    "        self.breadth = breadth\n",
    "        \n",
    "     # Overriding user defined method   \n",
    "    def calculate_area(self):\n",
    "        return self.length * self.breadth\n",
    "    \n",
    "    # Overriding python default method\n",
    "    def __str__(self):\n",
    "        return \"area of rectangle = \" + str(self.calculate_area())"
   ]
  },
  {
   "cell_type": "code",
   "execution_count": 24,
   "metadata": {},
   "outputs": [
    {
     "name": "stdout",
     "output_type": "stream",
     "text": [
      "Rectangle with length = 5  and breadth =  10 when colored blue costs $ 750\n"
     ]
    }
   ],
   "source": [
    "r = Rectangle(5, 10)\n",
    "r.set_color(\"blue\")\n",
    "print(\"Rectangle with length =\",r.length ,\" and breadth = \",r.breadth ,\"when colored\", r.color,\"costs $\",r.color_the_shape())"
   ]
  },
  {
   "cell_type": "code",
   "execution_count": null,
   "metadata": {},
   "outputs": [],
   "source": [
    "print(r)"
   ]
  },
  {
   "cell_type": "code",
   "execution_count": 51,
   "metadata": {},
   "outputs": [
    {
     "name": "stdout",
     "output_type": "stream",
     "text": [
      "C\n"
     ]
    }
   ],
   "source": [
    "class A:\n",
    "    \n",
    "    def __init__(self):\n",
    "        self.p = 10\n",
    "        print(\"C\")\n",
    "        \n",
    "    @classmethod\n",
    "    def stat(cls):\n",
    "        print(cls, type(cls), cls.p)\n",
    "        \n",
    "c = A()"
   ]
  },
  {
   "cell_type": "code",
   "execution_count": 52,
   "metadata": {},
   "outputs": [
    {
     "ename": "AttributeError",
     "evalue": "type object 'A' has no attribute 'p'",
     "output_type": "error",
     "traceback": [
      "\u001b[1;31m---------------------------------------------------------------------------\u001b[0m",
      "\u001b[1;31mAttributeError\u001b[0m                            Traceback (most recent call last)",
      "\u001b[1;32m<ipython-input-52-708f4e7c233c>\u001b[0m in \u001b[0;36m<module>\u001b[1;34m()\u001b[0m\n\u001b[1;32m----> 1\u001b[1;33m \u001b[0mc\u001b[0m\u001b[1;33m.\u001b[0m\u001b[0mstat\u001b[0m\u001b[1;33m(\u001b[0m\u001b[1;33m)\u001b[0m\u001b[1;33m\u001b[0m\u001b[0m\n\u001b[0m",
      "\u001b[1;32m<ipython-input-51-09d013fe00b3>\u001b[0m in \u001b[0;36mstat\u001b[1;34m(cls)\u001b[0m\n\u001b[0;32m      7\u001b[0m     \u001b[1;33m@\u001b[0m\u001b[0mclassmethod\u001b[0m\u001b[1;33m\u001b[0m\u001b[0m\n\u001b[0;32m      8\u001b[0m     \u001b[1;32mdef\u001b[0m \u001b[0mstat\u001b[0m\u001b[1;33m(\u001b[0m\u001b[0mcls\u001b[0m\u001b[1;33m)\u001b[0m\u001b[1;33m:\u001b[0m\u001b[1;33m\u001b[0m\u001b[0m\n\u001b[1;32m----> 9\u001b[1;33m         \u001b[0mprint\u001b[0m\u001b[1;33m(\u001b[0m\u001b[0mcls\u001b[0m\u001b[1;33m,\u001b[0m \u001b[0mtype\u001b[0m\u001b[1;33m(\u001b[0m\u001b[0mcls\u001b[0m\u001b[1;33m)\u001b[0m\u001b[1;33m,\u001b[0m \u001b[0mcls\u001b[0m\u001b[1;33m.\u001b[0m\u001b[0mp\u001b[0m\u001b[1;33m)\u001b[0m\u001b[1;33m\u001b[0m\u001b[0m\n\u001b[0m\u001b[0;32m     10\u001b[0m \u001b[1;33m\u001b[0m\u001b[0m\n\u001b[0;32m     11\u001b[0m \u001b[0mc\u001b[0m \u001b[1;33m=\u001b[0m \u001b[0mA\u001b[0m\u001b[1;33m(\u001b[0m\u001b[1;33m)\u001b[0m\u001b[1;33m\u001b[0m\u001b[0m\n",
      "\u001b[1;31mAttributeError\u001b[0m: type object 'A' has no attribute 'p'"
     ]
    }
   ],
   "source": [
    "c.stat()"
   ]
  },
  {
   "cell_type": "code",
   "execution_count": 42,
   "metadata": {},
   "outputs": [
    {
     "name": "stdout",
     "output_type": "stream",
     "text": [
      "<class '__main__.A'> <class 'type'>\n"
     ]
    }
   ],
   "source": [
    "A.stat()"
   ]
  },
  {
   "cell_type": "markdown",
   "metadata": {},
   "source": [
    "# Dunders or Magic Functions"
   ]
  },
  {
   "cell_type": "markdown",
   "metadata": {},
   "source": [
    "- 1)create -> __ init__(self) to create\n",
    "- 2) delete -> __ del__(self) to delete\n",
    "- 3) string -> __ str__(self) to convert anything to string\n",
    "- 4) add -> __ add__(self,other) to add any elements\n",
    "- 5) subtract -> __ sub__(self,other)"
   ]
  },
  {
   "cell_type": "code",
   "execution_count": 16,
   "metadata": {},
   "outputs": [
    {
     "name": "stdout",
     "output_type": "stream",
     "text": [
      "c1+c2 : 8\n"
     ]
    }
   ],
   "source": [
    "class Car:\n",
    "    def __init__(self,model, mileage): # createing \n",
    "        self.model = model\n",
    "        self.mileage = mileage\n",
    "    \n",
    "    def __str__(self): # convert to string format\n",
    "        return \"{} {}\".format(self.model), (self.mileage)\n",
    "    \n",
    "    def __repr__(self):\n",
    "        return \"{}\".format(self.model)\n",
    "    \n",
    "    def __eq__(self,other):\n",
    "        return self.mileage == other.mileage\n",
    "    \n",
    "    def __add__(self,other):\n",
    "        return self.mileage + other.mileage\n",
    "    \n",
    "    def add(self,other):\n",
    "        return self.mileage + other\n",
    "    \n",
    "c1 = Car('a',2)\n",
    "c2 = Car('b',6)\n",
    "print(\"c1+c2 :\",c1+c2)"
   ]
  },
  {
   "cell_type": "code",
   "execution_count": 17,
   "metadata": {},
   "outputs": [
    {
     "data": {
      "text/plain": [
       "7"
      ]
     },
     "execution_count": 17,
     "metadata": {},
     "output_type": "execute_result"
    }
   ],
   "source": [
    "c1.add(5)"
   ]
  },
  {
   "cell_type": "markdown",
   "metadata": {},
   "source": [
    "## Creating an cout like c++\n",
    "- As in c++, cout << \"string\" should give us the sting as output, lets make that workout in python by leftshift operator by class , help of Dunder is as follows : __ lshift__(self,other)"
   ]
  },
  {
   "cell_type": "code",
   "execution_count": 18,
   "metadata": {},
   "outputs": [
    {
     "name": "stdout",
     "output_type": "stream",
     "text": [
      "Hi "
     ]
    },
    {
     "data": {
      "text/plain": [
       "<__main__.Ostream at 0x7fc2d0040fa0>"
      ]
     },
     "execution_count": 18,
     "metadata": {},
     "output_type": "execute_result"
    }
   ],
   "source": [
    "class Ostream:\n",
    "    def __lshift__(self, other):\n",
    "        print(other,end=\" \")\n",
    "        return self\n",
    "    \n",
    "cout = Ostream()\n",
    "\n",
    "cout << \"Hi\""
   ]
  },
  {
   "cell_type": "code",
   "execution_count": null,
   "metadata": {},
   "outputs": [],
   "source": []
  }
 ],
 "metadata": {
  "anaconda-cloud": {},
  "kernelspec": {
   "display_name": "Python 3 (ipykernel)",
   "language": "python",
   "name": "python3"
  },
  "language_info": {
   "codemirror_mode": {
    "name": "ipython",
    "version": 3
   },
   "file_extension": ".py",
   "mimetype": "text/x-python",
   "name": "python",
   "nbconvert_exporter": "python",
   "pygments_lexer": "ipython3",
   "version": "3.9.13"
  },
  "toc": {
   "base_numbering": 1,
   "nav_menu": {},
   "number_sections": true,
   "sideBar": true,
   "skip_h1_title": false,
   "title_cell": "Table of Contents",
   "title_sidebar": "Contents",
   "toc_cell": false,
   "toc_position": {
    "height": "calc(100% - 180px)",
    "left": "10px",
    "top": "150px",
    "width": "266px"
   },
   "toc_section_display": true,
   "toc_window_display": true
  }
 },
 "nbformat": 4,
 "nbformat_minor": 2
}
