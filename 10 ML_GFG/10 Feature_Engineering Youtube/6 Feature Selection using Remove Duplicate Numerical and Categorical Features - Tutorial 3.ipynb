version https://git-lfs.github.com/spec/v1
oid sha256:25dc292d5fe3cd9034f44ceb1f2164816d6ebd4bf0d8586761b6507673bb02c4
size 42429
