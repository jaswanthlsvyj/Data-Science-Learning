version https://git-lfs.github.com/spec/v1
oid sha256:f6dbc54e843af70b66fdff4ab7645b8faf384dec76a21d0a0e6a595f5cc54a0c
size 399465
