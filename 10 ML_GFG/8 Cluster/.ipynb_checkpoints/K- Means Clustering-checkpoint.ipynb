version https://git-lfs.github.com/spec/v1
oid sha256:dc889ae7202e69507de29fb8a7071f090a7fb8fa677aa53b6927a7d05bc1d243
size 243526
