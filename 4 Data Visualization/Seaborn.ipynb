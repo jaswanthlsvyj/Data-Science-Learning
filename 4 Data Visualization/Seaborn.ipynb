{
 "cells": [
  {
   "cell_type": "code",
   "execution_count": null,
   "id": "2cee7b5d",
   "metadata": {},
   "outputs": [],
   "source": []
  },
  {
   "cell_type": "code",
   "execution_count": 1,
   "id": "d0ed74b4",
   "metadata": {},
   "outputs": [],
   "source": [
    "import numpy as np\n",
    "import pandas as pd\n",
    "import matplotlib.pyplot as plt\n",
    "import seaborn as sns"
   ]
  },
  {
   "cell_type": "markdown",
   "id": "8cd09a18",
   "metadata": {},
   "source": [
    "# introduction to seaborn\n",
    "\n",
    "Seaborn is a library for making statistical graphics in Python. It builds on top of matplotlib and integrates closely with pandas data structures.\n",
    "\n",
    "    Seaborn helps you explore and understand your data. Its plotting functions operate on dataframes and arrays containing whole datasets and internally perform the necessary semantic mapping and statistical aggregation to produce informative plots. Its dataset-oriented, declarative API lets you focus on what the different elements of your plots mean, rather than on the details of how to draw them.\n",
    "    \n",
    "<img src=\"https://seaborn.pydata.org/_images/function_overview_8_0.png\">"
   ]
  },
  {
   "cell_type": "markdown",
   "id": "ce38ad95",
   "metadata": {},
   "source": [
    "## Changing Figure Aesthetic\n",
    "**set_style()** method is used to set the aesthetic of the plot. It means it affects things like the color of the axes, whether the grid is active or not, or other aesthetic elements. There are five themes available in Seaborn.\n",
    "\n",
    "    darkgrid\n",
    "    whitegrid\n",
    "    dark\n",
    "    white\n",
    "    ticks\n",
    "    \n",
    "    \n",
    "**Syntax:**\n",
    "> set_style(style=None, rc=None)"
   ]
  },
  {
   "cell_type": "markdown",
   "id": "defc3d13",
   "metadata": {},
   "source": [
    "## Changing the figure Size\n",
    "The figure size can be changed using the **figure()** method of Matplotlib. figure() method creates a new figure of the specified size passed in the figsize parameter.\n",
    "**Syntax:**\n",
    "> plt.figure(figsize = (x, y))"
   ]
  },
  {
   "cell_type": "markdown",
   "id": "0fa879ce",
   "metadata": {},
   "source": [
    "## Removal of Spines\n",
    "Spines are the lines noting the data boundaries and connecting the axis tick marks. It can be removed using the **despine()** method.\n",
    "\n",
    "**Syntax:**\n",
    "> sns.despine(left = True)"
   ]
  },
  {
   "cell_type": "markdown",
   "id": "bf9ed310",
   "metadata": {},
   "source": [
    "## Scaling the plots\n",
    "It can be done using the **set_context()** method. It allows us to override default parameters. This affects things like the size of the labels, lines, and other elements of the plot, but not the overall style. The base context is “notebook”, and the other contexts are “paper”, “talk”, and “poster”. font_scale sets the font size.\n",
    "\n",
    "**Syntax:**\n",
    "> set_context(context=None, font_scale=1, rc=None)"
   ]
  },
  {
   "cell_type": "markdown",
   "id": "8c207fc4",
   "metadata": {},
   "source": [
    "## Setting the Style Temporarily\n",
    "**axes_style()** method is used to set the style temporarily. It is used along with the with statement.\n",
    "**Syntax:**\n",
    "> axes_style(style=None, rc=None)"
   ]
  },
  {
   "cell_type": "code",
   "execution_count": null,
   "id": "fef12d8e",
   "metadata": {},
   "outputs": [],
   "source": [
    "# loading dataset \n",
    "data = sns.load_dataset(\"iris\") \n",
    "  \n",
    "# changing the figure size\n",
    "plt.figure(figsize = (6, 4))\n",
    "\n",
    "# draw lineplot \n",
    "sns.lineplot(x=\"sepal_length\", y=\"sepal_width\", data=data) \n",
    "  \n",
    "# Removing the spines\n",
    "sns.despine()\n",
    "  \n",
    "# Setting the scale of the plot\n",
    "sns.set_context(\"poster\", font_scale=0.5)\n",
    "\n",
    "plt.show()"
   ]
  },
  {
   "cell_type": "markdown",
   "id": "333952cf",
   "metadata": {},
   "source": [
    "## Color Palette\n",
    "Colormaps are used to visualize plots effectively and easily. One might use different sorts of colormaps for different kinds of plots. color_palette() method is used to give colors to the plot. Another function **palplot()** is used to deal with the color palettes and plots the color palette as a horizontal array."
   ]
  },
  {
   "cell_type": "code",
   "execution_count": null,
   "id": "bcc90b9a",
   "metadata": {
    "scrolled": false
   },
   "outputs": [],
   "source": [
    "# current colot palette\n",
    "palette = sns.color_palette()\n",
    "  \n",
    "# plots the color palette as a\n",
    "# horizontal array\n",
    "sns.palplot(palette)\n",
    "  \n",
    "plt.show()"
   ]
  },
  {
   "cell_type": "markdown",
   "id": "a2283fd3",
   "metadata": {},
   "source": [
    "## Diverging Color Palette\n",
    "This type of color palette uses two different colors where each color depicts different points ranging from a common point in either direction. Consider a range of -10 to 10 so the value from -10 to 0 takes one color and values from 0 to 10 take another."
   ]
  },
  {
   "cell_type": "code",
   "execution_count": null,
   "id": "bb4c8e87",
   "metadata": {},
   "outputs": [],
   "source": [
    "# current colot palette\n",
    "palette = sns.color_palette('PiYG', 30)\n",
    "\n",
    "# diverging color palette\n",
    "sns.palplot(palette)\n",
    "\n",
    "plt.show()\n"
   ]
  },
  {
   "cell_type": "code",
   "execution_count": null,
   "id": "f524aff8",
   "metadata": {},
   "outputs": [],
   "source": []
  },
  {
   "cell_type": "code",
   "execution_count": null,
   "id": "4782bb08",
   "metadata": {},
   "outputs": [],
   "source": []
  },
  {
   "cell_type": "code",
   "execution_count": null,
   "id": "3686cff3",
   "metadata": {},
   "outputs": [],
   "source": []
  },
  {
   "cell_type": "code",
   "execution_count": null,
   "id": "e5971903",
   "metadata": {},
   "outputs": [],
   "source": []
  },
  {
   "cell_type": "code",
   "execution_count": null,
   "id": "e3d2cd71",
   "metadata": {},
   "outputs": [],
   "source": []
  },
  {
   "cell_type": "code",
   "execution_count": null,
   "id": "274cc2e2",
   "metadata": {},
   "outputs": [],
   "source": []
  },
  {
   "cell_type": "code",
   "execution_count": null,
   "id": "b5edb149",
   "metadata": {},
   "outputs": [],
   "source": []
  },
  {
   "cell_type": "code",
   "execution_count": null,
   "id": "b7738e00",
   "metadata": {},
   "outputs": [],
   "source": []
  },
  {
   "cell_type": "code",
   "execution_count": null,
   "id": "b8d969b4",
   "metadata": {},
   "outputs": [],
   "source": []
  },
  {
   "cell_type": "code",
   "execution_count": null,
   "id": "fd002c90",
   "metadata": {},
   "outputs": [],
   "source": []
  },
  {
   "cell_type": "code",
   "execution_count": null,
   "id": "525fee21",
   "metadata": {},
   "outputs": [],
   "source": []
  },
  {
   "cell_type": "code",
   "execution_count": null,
   "id": "a7eb2a70",
   "metadata": {},
   "outputs": [],
   "source": []
  },
  {
   "cell_type": "code",
   "execution_count": null,
   "id": "04e1396b",
   "metadata": {},
   "outputs": [],
   "source": []
  },
  {
   "cell_type": "code",
   "execution_count": null,
   "id": "d0e84042",
   "metadata": {},
   "outputs": [],
   "source": []
  },
  {
   "cell_type": "code",
   "execution_count": null,
   "id": "5aefddb2",
   "metadata": {},
   "outputs": [],
   "source": []
  },
  {
   "cell_type": "code",
   "execution_count": null,
   "id": "95c3f7b7",
   "metadata": {},
   "outputs": [],
   "source": []
  },
  {
   "cell_type": "code",
   "execution_count": null,
   "id": "cbcb73ed",
   "metadata": {},
   "outputs": [],
   "source": []
  },
  {
   "cell_type": "code",
   "execution_count": null,
   "id": "be8957fc",
   "metadata": {},
   "outputs": [],
   "source": []
  }
 ],
 "metadata": {
  "kernelspec": {
   "display_name": "Python 3 (ipykernel)",
   "language": "python",
   "name": "python3"
  },
  "language_info": {
   "codemirror_mode": {
    "name": "ipython",
    "version": 3
   },
   "file_extension": ".py",
   "mimetype": "text/x-python",
   "name": "python",
   "nbconvert_exporter": "python",
   "pygments_lexer": "ipython3",
   "version": "3.9.13"
  },
  "toc": {
   "base_numbering": 1,
   "nav_menu": {},
   "number_sections": true,
   "sideBar": true,
   "skip_h1_title": false,
   "title_cell": "Table of Contents",
   "title_sidebar": "Contents",
   "toc_cell": false,
   "toc_position": {},
   "toc_section_display": true,
   "toc_window_display": true
  }
 },
 "nbformat": 4,
 "nbformat_minor": 5
}
