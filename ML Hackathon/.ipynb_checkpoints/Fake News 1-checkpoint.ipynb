version https://git-lfs.github.com/spec/v1
oid sha256:176aeb9d8e8c85c4fd8551f7b55361f7327763c78d673e229e3cba5536c7c4e0
size 19608
