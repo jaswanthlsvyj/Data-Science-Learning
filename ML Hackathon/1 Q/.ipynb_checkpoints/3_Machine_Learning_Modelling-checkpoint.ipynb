{
 "cells": [
  {
   "cell_type": "markdown",
   "metadata": {
    "colab_type": "text",
    "id": "view-in-github"
   },
   "source": [
    "<a href=\"https://colab.research.google.com/github/NoerNikmat/machine_learning_models_for_absenteeism_at_work_dataset/blob/main/3_Machine_Learning_Modelling.ipynb\" target=\"_parent\"><img src=\"https://colab.research.google.com/assets/colab-badge.svg\" alt=\"Open In Colab\"/></a>"
   ]
  },
  {
   "cell_type": "markdown",
   "metadata": {
    "id": "SQJQ9OuHX7tf"
   },
   "source": [
    "# MACHINE LEARNING MODELLING\n",
    "Using Absenteeism at work An UCI dataset"
   ]
  },
  {
   "cell_type": "markdown",
   "metadata": {
    "id": "z-H_4SqvYSkC"
   },
   "source": [
    "Load the training dataset"
   ]
  },
  {
   "cell_type": "code",
   "execution_count": 1,
   "metadata": {
    "colab": {
     "base_uri": "https://localhost:8080/"
    },
    "id": "H35lu2I9YM7y",
    "outputId": "a2bcebd1-aa42-4334-e76c-9d63d2979aa4"
   },
   "outputs": [
    {
     "name": "stdout",
     "output_type": "stream",
     "text": [
      "Mounted at /content/drive\n"
     ]
    }
   ],
   "source": [
    "from google.colab import drive\n",
    "drive.mount('/content/drive')"
   ]
  },
  {
   "cell_type": "markdown",
   "metadata": {
    "id": "flgH6t9ZaeN4"
   },
   "source": [
    "Import Library"
   ]
  },
  {
   "cell_type": "code",
   "execution_count": 2,
   "metadata": {
    "id": "uqsl9b-DXmu-"
   },
   "outputs": [],
   "source": [
    "import numpy as np\n",
    "import pandas as pd\n",
    "import seaborn as sns\n",
    "import matplotlib.pyplot as plt \n",
    "\n",
    "from sklearn import svm\n",
    "from sklearn.svm import SVC\n",
    "from sklearn.linear_model import LinearRegression\n",
    "from sklearn.neighbors import KNeighborsClassifier \n",
    "from sklearn.linear_model import LogisticRegression\n",
    "from sklearn.ensemble import RandomForestClassifier\n",
    "from sklearn.decomposition import PCA,FactorAnalysis\n",
    "from sklearn.feature_selection import SelectFromModel\n",
    "from sklearn.linear_model import LogisticRegressionCV\n",
    "from sklearn.ensemble import GradientBoostingClassifier\n",
    "from sklearn.discriminant_analysis import LinearDiscriminantAnalysis\n",
    "from sklearn.tree import DecisionTreeClassifier, DecisionTreeRegressor\n",
    "from sklearn.preprocessing import LabelEncoder,MinMaxScaler, StandardScaler,OneHotEncoder,scale\n",
    "from sklearn.model_selection import train_test_split,cross_val_score, cross_val_predict,KFold, StratifiedKFold,GridSearchCV\n",
    "from sklearn.metrics import confusion_matrix,accuracy_score,mean_absolute_error,mean_squared_error,r2_score, make_scorer,classification_report,roc_curve, auc"
   ]
  },
  {
   "cell_type": "markdown",
   "metadata": {
    "id": "MrLRnHzbXmu4"
   },
   "source": [
    "## DECISION TREE (CATEGORICAL) "
   ]
  },
  {
   "cell_type": "code",
   "execution_count": 3,
   "metadata": {
    "id": "4kDzbB-SYYL1"
   },
   "outputs": [],
   "source": [
    "data_cat = pd.read_csv('/content/drive/MyDrive/Colab Notebooks/ABSENTEEISM AT WORK DATASET/Source Code/cleanDataset_categoricalTarget.csv')\n",
    "data_con = pd.read_csv('/content/drive/MyDrive/Colab Notebooks/ABSENTEEISM AT WORK DATASET/Source Code/cleanDataset_continuousTarget.csv')\n",
    "data_test = pd.read_csv('/content/drive/MyDrive/Colab Notebooks/ABSENTEEISM AT WORK DATASET/Source Code/cleanDataset_categoricalTarget_test.csv')"
   ]
  },
  {
   "cell_type": "code",
   "execution_count": 4,
   "metadata": {
    "id": "Wjk2usiJXmu_"
   },
   "outputs": [],
   "source": [
    "dataset_categorical =data_cat\n",
    "dataset_continuous = data_con \n",
    "\n",
    "dataset_categorical['Reason for absence'] = dataset_categorical['Reason for absence'].astype('category').cat.codes\n",
    "dataset_categorical['Month of absence'] = dataset_categorical['Month of absence'].astype('category').cat.codes\n",
    "dataset_categorical['Day of the week'] = dataset_categorical['Day of the week'].astype('category').cat.codes\n",
    "dataset_categorical['Seasons'] = dataset_categorical['Seasons'].astype('category').cat.codes\n",
    "dataset_categorical['Disciplinary failure'] = dataset_categorical['Disciplinary failure'].astype('category').cat.codes\n",
    "dataset_categorical['Education'] = dataset_categorical['Education'].astype('category').cat.codes\n",
    "dataset_categorical['Social drinker'] = dataset_categorical['Social drinker'].astype('category').cat.codes\n",
    "dataset_categorical['Social smoker'] = dataset_categorical['Social smoker'].astype('category').cat.codes\n",
    "dataset_categorical['Pet'] = dataset_categorical['Pet'].astype('category').cat.codes\n",
    "dataset_categorical['followUp_req'] = dataset_categorical['followUp_req'].astype('category').cat.codes\n",
    "dataset_categorical['Absenteeism categories'] = dataset_categorical['Absenteeism categories'].astype('category').cat.codes"
   ]
  },
  {
   "cell_type": "code",
   "execution_count": 5,
   "metadata": {
    "id": "LwP1foRXXmvA"
   },
   "outputs": [],
   "source": [
    "target = dataset_categorical['Absenteeism categories']\n",
    "#categorical = dataset_categorical.drop(['Absenteeism time in hours'], axis=1)\n",
    "categorical = dataset_categorical.drop(['Absenteeism categories'], axis=1)\n",
    "y_check = data_test['Absenteeism categories']\n",
    "categorical_check = data_test.drop(['Absenteeism categories','Absenteeism time in hours'], axis=1)"
   ]
  },
  {
   "cell_type": "code",
   "execution_count": 6,
   "metadata": {
    "colab": {
     "base_uri": "https://localhost:8080/"
    },
    "id": "oU7gb8tHXmvA",
    "outputId": "6be19e15-54fe-44fd-8bca-0a67a5758d30",
    "scrolled": true
   },
   "outputs": [
    {
     "name": "stdout",
     "output_type": "stream",
     "text": [
      "count in original dataset  0    696\n",
      "1     29\n",
      "4      6\n",
      "3      6\n",
      "2      3\n",
      "Name: Absenteeism categories, dtype: int64\n",
      "Accuracy of decision tree with categorical target variable is [validation set]: 90.27027027027027\n",
      "Decision tree accuracy of test set:  5.9459459459459465\n"
     ]
    }
   ],
   "source": [
    "numbers = LabelEncoder()\n",
    "y = numbers.fit_transform(target.astype('str'))\n",
    "y_check = numbers.fit_transform(y_check.astype('str'))\n",
    "X_train,X_test,y_train,y_test = train_test_split(categorical, y, random_state=3, test_size=0.25)\n",
    "\n",
    "count_original =target.value_counts()\n",
    "print(\"count in original dataset \", count_original )\n",
    "\n",
    "clf = DecisionTreeClassifier(criterion='gini', max_depth=7)\n",
    "\n",
    "clf = clf.fit(X_train,y_train)\n",
    "\n",
    "y_predict = clf.predict(X_test)\n",
    "\n",
    "acc = accuracy_score(y_test,y_predict)*100\n",
    "\n",
    "print(\"Accuracy of decision tree with categorical target variable is [validation set]:\",acc)\n",
    "\n",
    "y_predict_test = clf.predict(categorical_check)\n",
    "\n",
    "acc_test = accuracy_score(y_check,y_predict_test)*100\n",
    "print('Decision tree accuracy of test set: ',acc_test)\n"
   ]
  },
  {
   "cell_type": "code",
   "execution_count": 7,
   "metadata": {
    "colab": {
     "base_uri": "https://localhost:8080/"
    },
    "id": "1ePVVib6XmvC",
    "outputId": "bda1721c-7431-461f-acf5-c46a7a5ae1bc"
   },
   "outputs": [
    {
     "name": "stdout",
     "output_type": "stream",
     "text": [
      "Classification report : \n",
      "              precision    recall  f1-score   support\n",
      "\n",
      "           0       0.94      0.95      0.95       175\n",
      "           1       0.00      0.00      0.00        10\n",
      "           4       0.00      0.00      0.00         0\n",
      "\n",
      "    accuracy                           0.90       185\n",
      "   macro avg       0.31      0.32      0.32       185\n",
      "weighted avg       0.89      0.90      0.90       185\n",
      "\n"
     ]
    },
    {
     "name": "stderr",
     "output_type": "stream",
     "text": [
      "/usr/local/lib/python3.6/dist-packages/sklearn/metrics/_classification.py:1272: UndefinedMetricWarning: Recall and F-score are ill-defined and being set to 0.0 in labels with no true samples. Use `zero_division` parameter to control this behavior.\n",
      "  _warn_prf(average, modifier, msg_start, len(result))\n"
     ]
    }
   ],
   "source": [
    "print(\"Classification report : \")\n",
    "print(classification_report(y_test, y_predict))"
   ]
  },
  {
   "cell_type": "code",
   "execution_count": 8,
   "metadata": {
    "colab": {
     "base_uri": "https://localhost:8080/",
     "height": 427
    },
    "id": "nCf_QCSCXmvC",
    "outputId": "ade52b8a-6b6b-4973-d89b-aad4deba8062"
   },
   "outputs": [
    {
     "data": {
      "image/png": "[encoded data removed]",
      "text/plain": [
       "<Figure size 432x288 with 2 Axes>"
      ]
     },
     "metadata": {
      "needs_background": "light",
      "tags": []
     },
     "output_type": "display_data"
    }
   ],
   "source": [
    "# Feature selection through correlation\n",
    "col = ['ID','Transportation expense','Distance from Residence to Work','Service time','Age','Work load Average/day ','Hit target','Weight','Height','Body mass index']\n",
    "\n",
    "data_cor = dataset_categorical.loc[:,col]\n",
    "corr = data_cor.corr()\n",
    "\n",
    "fig = plt.figure()\n",
    "ax = fig.add_subplot(111)\n",
    "cax = ax.matshow(corr, cmap='coolwarm', vmin= -1, vmax=1)\n",
    "fig.colorbar(cax)\n",
    "\n",
    "# arange is a tool for creating numeric sequences\n",
    "tick = np.arange(0,len(data_cor.columns),1)\n",
    "\n",
    "ax.set_xticks(tick)\n",
    "ax.set_yticks(tick)\n",
    "\n",
    "plt.xticks(rotation=90)\n",
    "\n",
    "ax.set_xticklabels(col)\n",
    "ax.set_yticklabels(col)\n",
    "\n",
    "plt.show()"
   ]
  },
  {
   "cell_type": "code",
   "execution_count": 9,
   "metadata": {
    "colab": {
     "base_uri": "https://localhost:8080/"
    },
    "id": "8f4gSVwsXmvD",
    "outputId": "012a654f-2fb1-409e-9e2d-523d0df6cb4f"
   },
   "outputs": [
    {
     "name": "stdout",
     "output_type": "stream",
     "text": [
      "Accuracy of decision tree with categorical target variable after features selection is [validation set]: 90.09009009009009\n",
      "Decision tree accuracy of test set after features selection:  6.081081081081082\n"
     ]
    }
   ],
   "source": [
    "categorical_features = dataset_categorical.drop(['Weight','Age','Absenteeism categories'], axis=1)\n",
    "\n",
    "#categorical_features = pd.get_dummies(categorical_features, ['Reason for absence','Month of absence','Day of the week','Seasons','Disciplinary failure','Education','Social drinker','Social smoker','Pet','followUp_req'])\n",
    "\n",
    "X_train,X_test,y_train,y_test = train_test_split(categorical_features, y, test_size=0.30, random_state=1)\n",
    "\n",
    "clf_sel = DecisionTreeClassifier(criterion='gini', max_depth=7)\n",
    "\n",
    "clf_sel = clf_sel.fit(X_train,y_train)\n",
    "\n",
    "y_predict_sel = clf_sel.predict(X_test)\n",
    "\n",
    "acc_sel = accuracy_score(y_test,y_predict_sel)*100\n",
    "\n",
    "print(\"Accuracy of decision tree with categorical target variable after features selection is [validation set]:\",acc_sel)\n",
    "\n",
    "categorical_check_sel = categorical_check.drop(['Weight','Age'], axis=1)\n",
    "y_predict_test_sel = clf_sel.predict(categorical_check_sel)\n",
    "\n",
    "acc_test_sel = accuracy_score(y_check,y_predict_test_sel)*100\n",
    "\n",
    "print('Decision tree accuracy of test set after features selection: ',acc_test_sel)\n"
   ]
  },
  {
   "cell_type": "code",
   "execution_count": 10,
   "metadata": {
    "colab": {
     "base_uri": "https://localhost:8080/"
    },
    "id": "W12eU3nHXmvD",
    "outputId": "470cf91c-6624-46ec-e6fe-9c24f94e6595"
   },
   "outputs": [
    {
     "name": "stdout",
     "output_type": "stream",
     "text": [
      "Accuracy of decision tree after scaling [validation set] 90.54054054054053\n",
      "Decision tree accuracy of test set after features selection:  5.9459459459459465\n"
     ]
    }
   ],
   "source": [
    "# Categorical model after scaling\n",
    "\n",
    "#categorical_scaled = StandardScaler().fit_transform(categorical_features)\n",
    "categorical_scaled = scale(categorical_features)\n",
    "X_train,X_test,y_train,y_test = train_test_split(categorical_scaled, y, test_size=.10, random_state=1)\n",
    "\n",
    "clf_scaled = DecisionTreeClassifier(criterion='gini', max_depth=4)\n",
    "\n",
    "clf_scaled = clf_scaled.fit(X_train,y_train)\n",
    "\n",
    "y_predict_scaled = clf_scaled.predict(X_test)\n",
    "\n",
    "acc_scaled = accuracy_score(y_test,y_predict_scaled)*100\n",
    "\n",
    "print(\"Accuracy of decision tree after scaling [validation set]\",acc_scaled)\n",
    "\n",
    "categorical_check_scaled =scale(categorical_check_sel)\n",
    "y_predict_test_scaled = clf_scaled.predict(categorical_check_scaled)\n",
    "\n",
    "acc_test_scaled = accuracy_score(y_check,y_predict_test_scaled)*100\n",
    "\n",
    "print('Decision tree accuracy of test set after features selection: ',acc_test_scaled)"
   ]
  },
  {
   "cell_type": "code",
   "execution_count": 11,
   "metadata": {
    "colab": {
     "base_uri": "https://localhost:8080/"
    },
    "id": "BDicVGCPXmvE",
    "outputId": "08c01406-2e7f-4e9e-cd3a-3419d7c86bf6"
   },
   "outputs": [
    {
     "name": "stdout",
     "output_type": "stream",
     "text": [
      "variance ratio [0.69175843 0.9264151  0.9645218  0.97725636 0.98630355]\n",
      "Accuracy of decision tree with PCA [validation set]:  87.83783783783784\n",
      "variance ratio [0.14483436 0.27079336 0.38160892 0.46612006 0.53422152]\n",
      "Decision tree accuracy of test set after pca:  5.9459459459459465\n"
     ]
    }
   ],
   "source": [
    "# Categorical model with pca\n",
    "\n",
    "pca = PCA(n_components=5)\n",
    "\n",
    "categorical_pca = pca.fit_transform(categorical_features)\n",
    "print('variance ratio',pca.explained_variance_ratio_.cumsum())\n",
    "\n",
    "categorical_pca_df = pd.DataFrame(data=categorical_pca, columns=['pc1','pc2','pc3','pc4','pc5'])\n",
    "\n",
    "X_train,X_test,y_train,y_test = train_test_split(categorical_pca_df, y, test_size=.10, random_state=1)\n",
    "\n",
    "clf_pca = DecisionTreeClassifier(criterion='entropy', max_depth=6)\n",
    "\n",
    "clf_pca = clf_pca.fit(X_train,y_train)\n",
    "\n",
    "y_predict_pca = clf_pca.predict(X_test)\n",
    "\n",
    "acc_pca = accuracy_score(y_test,y_predict_pca)*100\n",
    "\n",
    "print(\"Accuracy of decision tree with PCA [validation set]: \",acc_pca)\n",
    "\n",
    "categorical_pca_test = pca.fit_transform(categorical_check_scaled)\n",
    "print('variance ratio',pca.explained_variance_ratio_.cumsum())\n",
    "\n",
    "categorical_pca_df_test = pd.DataFrame(data=categorical_pca_test, columns=['pc11','pc12','pc13','pc14','pc15'])\n",
    "y_predict_test_pca = clf_pca.predict(categorical_pca_df_test)\n",
    "\n",
    "acc_test_pca = accuracy_score(y_check,y_predict_test_pca)*100\n",
    "\n",
    "print('Decision tree accuracy of test set after pca: ',acc_test_pca)"
   ]
  },
  {
   "cell_type": "code",
   "execution_count": 12,
   "metadata": {
    "colab": {
     "base_uri": "https://localhost:8080/"
    },
    "id": "3nl4HQomXmvF",
    "outputId": "93d78541-0906-41cb-bb39-bd3e8af6af4a"
   },
   "outputs": [
    {
     "name": "stdout",
     "output_type": "stream",
     "text": [
      " So best accuracy achieved by using decision tree for categorical target variable is after doing feature selection and scaling. Following are confusion matrix and classification report for the same.\n",
      "Classification report : \n",
      "              precision    recall  f1-score   support\n",
      "\n",
      "           0       0.06      1.00      0.12        44\n",
      "           1       0.08      0.01      0.02        88\n",
      "           2       0.00      0.00      0.00       157\n",
      "           3       0.00      0.00      0.00       112\n",
      "           4       0.00      0.00      0.00        68\n",
      "           5       0.00      0.00      0.00       208\n",
      "           6       0.00      0.00      0.00        63\n",
      "\n",
      "    accuracy                           0.06       740\n",
      "   macro avg       0.02      0.14      0.02       740\n",
      "weighted avg       0.01      0.06      0.01       740\n",
      "\n"
     ]
    },
    {
     "name": "stderr",
     "output_type": "stream",
     "text": [
      "/usr/local/lib/python3.6/dist-packages/sklearn/metrics/_classification.py:1272: UndefinedMetricWarning: Precision and F-score are ill-defined and being set to 0.0 in labels with no predicted samples. Use `zero_division` parameter to control this behavior.\n",
      "  _warn_prf(average, modifier, msg_start, len(result))\n"
     ]
    }
   ],
   "source": [
    "print(\" So best accuracy achieved by using decision tree for categorical target variable is after doing feature selection and scaling. Following are confusion matrix and classification report for the same.\")\n",
    "print(\"Classification report : \")\n",
    "print(classification_report(y_check,y_predict_test_sel))"
   ]
  },
  {
   "cell_type": "code",
   "execution_count": 13,
   "metadata": {
    "colab": {
     "base_uri": "https://localhost:8080/"
    },
    "id": "wDs409-VXmvF",
    "outputId": "c76fc472-f713-427d-d5ac-612bb7790bab"
   },
   "outputs": [
    {
     "data": {
      "text/plain": [
       "array([[ 44,   0,   0,   0,   0,   0,   0],\n",
       "       [ 86,   1,   0,   1,   0,   0,   0],\n",
       "       [157,   0,   0,   0,   0,   0,   0],\n",
       "       [111,   1,   0,   0,   0,   0,   0],\n",
       "       [ 68,   0,   0,   0,   0,   0,   0],\n",
       "       [203,   3,   0,   2,   0,   0,   0],\n",
       "       [ 45,   8,   2,   6,   2,   0,   0]])"
      ]
     },
     "execution_count": 13,
     "metadata": {
      "tags": []
     },
     "output_type": "execute_result"
    }
   ],
   "source": [
    "confusion_matrix(y_check,y_predict_test_sel)"
   ]
  },
  {
   "cell_type": "markdown",
   "metadata": {
    "id": "Xn_9UtgoXmvF"
   },
   "source": [
    "## RESULT DECISION TREE\n",
    "\n",
    "Training Data Accuracies\n",
    "\n",
    "    Decision tree - variable                     90.27%\n",
    "    Training Decision tree - features selection  90.99%  \n",
    "    Training Decision tree - scaling             90.54%\n",
    "    Decision tree - PCA                          87.84%  \n",
    "\n",
    "Test Data Accuracies\n",
    "\n",
    "    Decision tree - variable                     5.94%\n",
    "    Training Decision tree - features selection  6.08% \n",
    "    Training Decision tree - scaling             5.95%\n",
    "    Decision tree - PCA                          5.95%  "
   ]
  },
  {
   "cell_type": "markdown",
   "metadata": {
    "id": "PTjC0RojXmvG"
   },
   "source": [
    "## K-NEIGHBORS CATEGORICAL TARGET VARIABLE"
   ]
  },
  {
   "cell_type": "code",
   "execution_count": 14,
   "metadata": {
    "colab": {
     "base_uri": "https://localhost:8080/"
    },
    "id": "lNtbrp3JXmvG",
    "outputId": "b944b92f-3b60-4952-9c23-b769d0a77592"
   },
   "outputs": [
    {
     "name": "stdout",
     "output_type": "stream",
     "text": [
      "Accuracy of KNN after scaling [validation set] 90.54054054054053\n",
      "KNN accuracy of test set:  5.9459459459459465\n"
     ]
    }
   ],
   "source": [
    "X_train,X_test,y_train,y_test = train_test_split(categorical_scaled, y, test_size=.10, random_state=1)\n",
    "\n",
    "\n",
    "neigh = KNeighborsClassifier(n_neighbors=23).fit(X_train, y_train) \n",
    "\n",
    "y_predict_k = neigh.predict(X_test)\n",
    "\n",
    "acc_knn = accuracy_score(y_test,y_predict_k)*100\n",
    "\n",
    "print(\"Accuracy of KNN after scaling [validation set]\",acc_knn)\n",
    "\n",
    "y_predict_test_k = neigh.predict(categorical_check_scaled)\n",
    "\n",
    "acc_test_knn = accuracy_score(y_check,y_predict_test_k)*100\n",
    "\n",
    "print('KNN accuracy of test set: ',acc_test_knn)"
   ]
  },
  {
   "cell_type": "code",
   "execution_count": 15,
   "metadata": {
    "colab": {
     "base_uri": "https://localhost:8080/"
    },
    "id": "rDXrDbcYXmvG",
    "outputId": "fa92d35f-97f3-422e-b3d4-83002fe269d1"
   },
   "outputs": [
    {
     "name": "stdout",
     "output_type": "stream",
     "text": [
      "Classification report : \n",
      "              precision    recall  f1-score   support\n",
      "\n",
      "           0       0.06      1.00      0.11        44\n",
      "           1       0.00      0.00      0.00        88\n",
      "           2       0.00      0.00      0.00       157\n",
      "           3       0.00      0.00      0.00       112\n",
      "           4       0.00      0.00      0.00        68\n",
      "           5       0.00      0.00      0.00       208\n",
      "           6       0.00      0.00      0.00        63\n",
      "\n",
      "    accuracy                           0.06       740\n",
      "   macro avg       0.01      0.14      0.02       740\n",
      "weighted avg       0.00      0.06      0.01       740\n",
      "\n"
     ]
    },
    {
     "name": "stderr",
     "output_type": "stream",
     "text": [
      "/usr/local/lib/python3.6/dist-packages/sklearn/metrics/_classification.py:1272: UndefinedMetricWarning: Precision and F-score are ill-defined and being set to 0.0 in labels with no predicted samples. Use `zero_division` parameter to control this behavior.\n",
      "  _warn_prf(average, modifier, msg_start, len(result))\n"
     ]
    }
   ],
   "source": [
    "print(\"Classification report : \")\n",
    "print(classification_report(y_check,y_predict_test_k))"
   ]
  },
  {
   "cell_type": "markdown",
   "metadata": {
    "id": "6FuFs-3dXmvG"
   },
   "source": [
    "## RESULT KNEIGHBORS\n",
    "\n",
    "Training Data Accuracies\n",
    "    \n",
    "    K Neighbors Categorical Target Variable      90.54%\n",
    "  \n",
    "Test Data Accuracies\n",
    "\n",
    "    K Neighbors Categorical Target Variable       5.94%"
   ]
  },
  {
   "cell_type": "markdown",
   "metadata": {
    "id": "B0YuoeDnXmvH"
   },
   "source": [
    "## RANDOM FOREST "
   ]
  },
  {
   "cell_type": "markdown",
   "metadata": {
    "id": "LhjBQIOHXmvH"
   },
   "source": [
    "### USER DEFINED FUNCTIONS"
   ]
  },
  {
   "cell_type": "code",
   "execution_count": 16,
   "metadata": {
    "id": "YlI0VIKRXmvI"
   },
   "outputs": [],
   "source": [
    "random_state_split = 121 \n",
    "#function to split data\n",
    "def split_data(X,Y):\n",
    "    x_train,x_test,y_train,y_test = train_test_split(X,Y,test_size = 0.05,random_state = random_state_split)\n",
    "    return(x_train,x_test,y_train,y_test)"
   ]
  },
  {
   "cell_type": "code",
   "execution_count": 17,
   "metadata": {
    "id": "_2jb1Nn6XmvI"
   },
   "outputs": [],
   "source": [
    "# function for modelling\n",
    "def model_fit(x,y,randomforest):\n",
    "    model_rf = randomforest.fit(x,y)\n",
    "    return model_rf"
   ]
  },
  {
   "cell_type": "code",
   "execution_count": 18,
   "metadata": {
    "id": "i6hlrxwYXmvJ"
   },
   "outputs": [],
   "source": [
    "# function for model evaluation\n",
    "def model_eval(fit,x,y):\n",
    "    # predict on test data\n",
    "    y_pre = fit.predict(x)\n",
    "\n",
    "    # evaluate the model\n",
    "    acc = accuracy_score(y_pre,y)\n",
    "    print(\"Accuracy of validation test set:{}%\".format(round(acc*100,2)))\n",
    "\n",
    "    #print(\"Confusion Matrix\\n\",confusion_matrix(y_pre,y))"
   ]
  },
  {
   "cell_type": "code",
   "execution_count": 19,
   "metadata": {
    "colab": {
     "base_uri": "https://localhost:8080/"
    },
    "id": "D0XlPa1kXmvJ",
    "outputId": "787edb42-58ba-465b-8152-7d74f4be41e3"
   },
   "outputs": [
    {
     "data": {
      "text/plain": [
       "0    696\n",
       "1     29\n",
       "4      6\n",
       "3      6\n",
       "2      3\n",
       "Name: Absenteeism categories, dtype: int64"
      ]
     },
     "execution_count": 19,
     "metadata": {
      "tags": []
     },
     "output_type": "execute_result"
    }
   ],
   "source": [
    "#  define the response and target varaibles\n",
    "features = data_cat.drop(['Absenteeism categories'],axis = 1)\n",
    "target = data_cat['Absenteeism categories']\n",
    "target.value_counts()"
   ]
  },
  {
   "cell_type": "code",
   "execution_count": 20,
   "metadata": {
    "colab": {
     "base_uri": "https://localhost:8080/"
    },
    "id": "Cn4P0tBHXmvJ",
    "outputId": "6fb56dee-6b35-4f3f-9b23-ada6060b1e56"
   },
   "outputs": [
    {
     "name": "stdout",
     "output_type": "stream",
     "text": [
      "RandomForestClassifier(bootstrap=True, ccp_alpha=0.0, class_weight=None,\n",
      "                       criterion='gini', max_depth=None, max_features='auto',\n",
      "                       max_leaf_nodes=None, max_samples=None,\n",
      "                       min_impurity_decrease=0.0, min_impurity_split=None,\n",
      "                       min_samples_leaf=1, min_samples_split=2,\n",
      "                       min_weight_fraction_leaf=0.0, n_estimators=100,\n",
      "                       n_jobs=None, oob_score=False, random_state=100,\n",
      "                       verbose=0, warm_start=False)\n",
      "Accuracy of training set:98.99%\n",
      "Accuracy of validation test set:93.92%\n"
     ]
    }
   ],
   "source": [
    "\n",
    "# split the data\n",
    "x_train,x_test,y_train,y_test = train_test_split(features,target,test_size = 0.2,random_state = 121)\n",
    "\n",
    "# train model\n",
    "randomforest = RandomForestClassifier(random_state = 100)\n",
    "model = model_fit(x_train, y_train,randomforest) \n",
    "\n",
    "# check accuracy\n",
    "print(model)\n",
    "y_predict = model.predict(x_train)\n",
    "print(\"Accuracy of training set:{}%\".format(round(accuracy_score(y_predict,y_train)*100,2)))\n",
    "y_predict = model_eval(model,x_test,y_test)"
   ]
  },
  {
   "cell_type": "markdown",
   "metadata": {
    "id": "pZBOZwI-XmvJ"
   },
   "source": [
    "### FEATURE SCALING"
   ]
  },
  {
   "cell_type": "code",
   "execution_count": 21,
   "metadata": {
    "colab": {
     "base_uri": "https://localhost:8080/"
    },
    "id": "RanWQKeOXmvK",
    "outputId": "67447e5e-7633-45d0-a56e-a82d9c5be8f1"
   },
   "outputs": [
    {
     "name": "stdout",
     "output_type": "stream",
     "text": [
      "RESULTS OF SCALING THE DATA: \n",
      "RandomForestClassifier(bootstrap=True, ccp_alpha=0.0, class_weight=None,\n",
      "                       criterion='gini', max_depth=None, max_features='auto',\n",
      "                       max_leaf_nodes=None, max_samples=None,\n",
      "                       min_impurity_decrease=0.0, min_impurity_split=None,\n",
      "                       min_samples_leaf=1, min_samples_split=2,\n",
      "                       min_weight_fraction_leaf=0.0, n_estimators=100,\n",
      "                       n_jobs=None, oob_score=False, random_state=100,\n",
      "                       verbose=0, warm_start=False)\n",
      "Accuracy of training set:98.99%\n",
      "Accuracy of validation test set:93.92%\n"
     ]
    }
   ],
   "source": [
    "# standardize the varaibles\n",
    "features_scaled = StandardScaler().fit_transform(features)\n",
    "#split the data\n",
    "x_train,x_test,y_train,y_test = train_test_split(features_scaled,target,test_size = 0.2,random_state = 121)\n",
    "\n",
    "# train model\n",
    "randomforest = RandomForestClassifier(random_state = 100)\n",
    "model = model_fit(x_train, y_train,randomforest) \n",
    "\n",
    "print(\"RESULTS OF SCALING THE DATA: \")\n",
    "\n",
    "# check accuracy\n",
    "print(model)\n",
    "y_predict = model.predict(x_train)\n",
    "print(\"Accuracy of training set:{}%\".format(round(accuracy_score(y_predict,y_train)*100,2)))\n",
    "y_predict = model_eval(model,x_test,y_test)\n"
   ]
  },
  {
   "cell_type": "markdown",
   "metadata": {
    "id": "zrIlIVrVXmvK"
   },
   "source": [
    "### DATA SIZE INCREASE"
   ]
  },
  {
   "cell_type": "code",
   "execution_count": 22,
   "metadata": {
    "colab": {
     "base_uri": "https://localhost:8080/"
    },
    "id": "9kFnOpdkXmvK",
    "outputId": "948525f9-a245-4493-b3e7-8ad6822c9205"
   },
   "outputs": [
    {
     "name": "stdout",
     "output_type": "stream",
     "text": [
      "RESULTS AFTER INCREASING THE DATASET SIZE: \n",
      "RandomForestClassifier(bootstrap=True, ccp_alpha=0.0, class_weight=None,\n",
      "                       criterion='gini', max_depth=None, max_features='auto',\n",
      "                       max_leaf_nodes=None, max_samples=None,\n",
      "                       min_impurity_decrease=0.0, min_impurity_split=None,\n",
      "                       min_samples_leaf=1, min_samples_split=2,\n",
      "                       min_weight_fraction_leaf=0.0, n_estimators=100,\n",
      "                       n_jobs=None, oob_score=False, random_state=100,\n",
      "                       verbose=0, warm_start=False)\n",
      "Accuracy of training set:99.15%\n",
      "Accuracy of validation test set:89.19%\n"
     ]
    }
   ],
   "source": [
    "# standardize the varaibles\n",
    "features_scaled = StandardScaler().fit_transform(features)\n",
    "#split the data\n",
    "x_train,x_test,y_train,y_test = split_data(features_scaled,target)\n",
    "\n",
    "# train model\n",
    "randomforest = RandomForestClassifier(random_state = 100)\n",
    "model = model_fit(x_train, y_train,randomforest) \n",
    "\n",
    "print(\"RESULTS AFTER INCREASING THE DATASET SIZE: \")\n",
    "\n",
    "# check accuracy\n",
    "print(model)\n",
    "y_predict = model.predict(x_train)\n",
    "print(\"Accuracy of training set:{}%\".format(round(accuracy_score(y_predict,y_train)*100,2)))\n",
    "y_predict = model_eval(model,x_test,y_test)\n"
   ]
  },
  {
   "cell_type": "markdown",
   "metadata": {
    "id": "SDhPi3U_XmvK"
   },
   "source": [
    "### PARAMETER TUNNING"
   ]
  },
  {
   "cell_type": "code",
   "execution_count": 23,
   "metadata": {
    "colab": {
     "base_uri": "https://localhost:8080/"
    },
    "id": "16h9CHQcXmvL",
    "outputId": "c3fef24b-ecf0-4064-eb35-ea3ba3896260"
   },
   "outputs": [
    {
     "name": "stdout",
     "output_type": "stream",
     "text": [
      "RESULTS WITH PARAMATER TUNNING: \n",
      "RandomForestClassifier(bootstrap=True, ccp_alpha=0.0, class_weight=None,\n",
      "                       criterion='gini', max_depth=None, max_features='auto',\n",
      "                       max_leaf_nodes=None, max_samples=None,\n",
      "                       min_impurity_decrease=0.0, min_impurity_split=None,\n",
      "                       min_samples_leaf=2, min_samples_split=2,\n",
      "                       min_weight_fraction_leaf=0.0, n_estimators=1000,\n",
      "                       n_jobs=-1, oob_score=-1, random_state=100, verbose=0,\n",
      "                       warm_start=True)\n",
      "Accuracy of training set:95.73%\n",
      "Accuracy of validation test set:89.19%\n"
     ]
    }
   ],
   "source": [
    "# train model\n",
    "randomforest = RandomForestClassifier(n_estimators=1000, min_samples_leaf=2, n_jobs= -1,oob_score = -1,warm_start = True,\n",
    "                                     criterion = 'gini',random_state = 100)\n",
    "model = model_fit(x_train, y_train,randomforest) \n",
    "\n",
    "print(\"RESULTS WITH PARAMATER TUNNING: \")\n",
    "\n",
    "# check accuracy\n",
    "print(model)\n",
    "y_predict = model.predict(x_train)\n",
    "print(\"Accuracy of training set:{}%\".format(round(accuracy_score(y_predict,y_train)*100,2)))\n",
    "y_predict = model_eval(model,x_test,y_test)\n"
   ]
  },
  {
   "cell_type": "code",
   "execution_count": 24,
   "metadata": {
    "colab": {
     "base_uri": "https://localhost:8080/"
    },
    "id": "ot4YkcgMXmvL",
    "outputId": "794e58cd-56c5-4a1f-a1c6-e89bb9cc8e20"
   },
   "outputs": [
    {
     "name": "stdout",
     "output_type": "stream",
     "text": [
      "RESULTS WITH PARAMATER TUNNING: \n",
      "RandomForestClassifier(bootstrap=True, ccp_alpha=0.0, class_weight=None,\n",
      "                       criterion='gini', max_depth=None, max_features='auto',\n",
      "                       max_leaf_nodes=None, max_samples=None,\n",
      "                       min_impurity_decrease=0.0, min_impurity_split=None,\n",
      "                       min_samples_leaf=3, min_samples_split=2,\n",
      "                       min_weight_fraction_leaf=0.0, n_estimators=1000,\n",
      "                       n_jobs=-1, oob_score=False, random_state=100, verbose=0,\n",
      "                       warm_start=True)\n",
      "Accuracy of training set:95.02%\n",
      "Accuracy of validation test set:89.19%\n"
     ]
    }
   ],
   "source": [
    "# train model\n",
    "randomforest = RandomForestClassifier(n_estimators=1000, min_samples_leaf=3, n_jobs=-1,warm_start = True,\n",
    "                                    criterion = 'gini',min_samples_split=2,random_state = 100)\n",
    "model = model_fit(x_train, y_train,randomforest) \n",
    "\n",
    "print(\"RESULTS WITH PARAMATER TUNNING: \")\n",
    "\n",
    "# check accuracy\n",
    "print(model)\n",
    "y_predict = model.predict(x_train)\n",
    "print(\"Accuracy of training set:{}%\".format(round(accuracy_score(y_predict,y_train)*100,2)))\n",
    "y_predict = model_eval(model,x_test,y_test)\n"
   ]
  },
  {
   "cell_type": "markdown",
   "metadata": {
    "id": "K3z2dsePXmvL"
   },
   "source": [
    "### FEATURE SELECTION"
   ]
  },
  {
   "cell_type": "code",
   "execution_count": 25,
   "metadata": {
    "colab": {
     "base_uri": "https://localhost:8080/"
    },
    "id": "1rLUnqRBXmvL",
    "outputId": "63c66eca-2366-47a0-f953-2d861435762e"
   },
   "outputs": [
    {
     "name": "stdout",
     "output_type": "stream",
     "text": [
      "[('Reason for absence', 0.17), ('Work load Average/day ', 0.11), ('Month of absence', 0.08), ('Day of the week', 0.08), ('Hit target', 0.08), ('Height', 0.06), ('followUp_req', 0.06), ('Transportation expense', 0.05), ('ID', 0.04), ('Distance from Residence to Work', 0.04), ('Age', 0.04), ('Weight', 0.04), ('Seasons', 0.03), ('Service time', 0.03), ('Body mass index', 0.03), ('Son', 0.02), ('Social drinker', 0.02), ('Disciplinary failure', 0.01), ('Pet', 0.01), ('Education', 0.0), ('Social smoker', 0.0)]\n"
     ]
    }
   ],
   "source": [
    "# Get numerical feature importances\n",
    "importances = list(randomforest.feature_importances_)\n",
    "\n",
    "# List of tuples with variable and importance\n",
    "feature_importances = [(feature, round(importance, 2)) for feature, importance in zip(features, importances)]\n",
    "\n",
    "# Sort the feature importances by most important first\n",
    "feature_importances = sorted(feature_importances, key = lambda x: x[1], reverse = True)\n",
    "print(feature_importances)\n"
   ]
  },
  {
   "cell_type": "code",
   "execution_count": 26,
   "metadata": {
    "colab": {
     "base_uri": "https://localhost:8080/",
     "height": 505
    },
    "id": "l6lhKNT3XmvM",
    "outputId": "6f128535-10ed-48b5-fff7-f01760396fdf"
   },
   "outputs": [
    {
     "data": {
      "image/png": "[encoded data removed]",
      "text/plain": [
       "<Figure size 720x360 with 1 Axes>"
      ]
     },
     "metadata": {
      "needs_background": "light",
      "tags": []
     },
     "output_type": "display_data"
    }
   ],
   "source": [
    "# List of features for later use\n",
    "feature_list = list(features.columns)\n",
    "\n",
    "# list of x locations for plotting\n",
    "x_values = list(range(len(importances)))\n",
    "plt.figure(figsize = (10,5))\n",
    "# Make a bar chart\n",
    "plt.bar(x_values, importances, orientation = 'vertical', color = 'b', edgecolor = 'k', linewidth = 1.2)\n",
    "\n",
    "# Tick labels for x axis\n",
    "plt.xticks(x_values, feature_list, rotation=90)\n",
    "\n",
    "# Axis labels and title\n",
    "plt.ylabel('Importance'); plt.xlabel('Variable'); plt.title('Variable Importances');"
   ]
  },
  {
   "cell_type": "code",
   "execution_count": 27,
   "metadata": {
    "colab": {
     "base_uri": "https://localhost:8080/"
    },
    "id": "nN-UwKt3XmvM",
    "outputId": "066ca7b8-4a09-49f5-954d-b4425b8399d0"
   },
   "outputs": [
    {
     "name": "stdout",
     "output_type": "stream",
     "text": [
      "[0.001497699342005628, 0.004046249299912087, 0.005499531525075223, 0.01283887168702073, 0.017623193932335877, 0.022681640390203876, 0.029471753273458412, 0.03067859966389271, 0.03432387708541107, 0.03665285417366911, 0.038665822613036034, 0.04109261730894863, 0.042404181751559356, 0.05295234281241555, 0.05622696569793662, 0.062267506881583695, 0.07563146403051423, 0.07788774460745639, 0.07933011004265829, 0.11218299270299222, 0.16604398117791444]\n",
      "Thresh=0.001, n=21, Accuracy: 89.19%\n",
      "Thresh=0.004, n=20, Accuracy: 89.19%\n",
      "Thresh=0.005, n=19, Accuracy: 89.19%\n",
      "Thresh=0.013, n=18, Accuracy: 89.19%\n",
      "Thresh=0.018, n=17, Accuracy: 89.19%\n",
      "Thresh=0.023, n=16, Accuracy: 89.19%\n",
      "Thresh=0.029, n=15, Accuracy: 89.19%\n",
      "Thresh=0.031, n=14, Accuracy: 89.19%\n",
      "Thresh=0.034, n=13, Accuracy: 89.19%\n",
      "Thresh=0.037, n=12, Accuracy: 89.19%\n",
      "Thresh=0.039, n=11, Accuracy: 89.19%\n",
      "Thresh=0.041, n=10, Accuracy: 89.19%\n",
      "Thresh=0.042, n=9, Accuracy: 89.19%\n",
      "Thresh=0.053, n=8, Accuracy: 89.19%\n",
      "Thresh=0.056, n=7, Accuracy: 89.19%\n",
      "Thresh=0.062, n=6, Accuracy: 89.19%\n",
      "Thresh=0.076, n=5, Accuracy: 89.19%\n",
      "Thresh=0.078, n=4, Accuracy: 89.19%\n",
      "Thresh=0.079, n=3, Accuracy: 89.19%\n",
      "Thresh=0.112, n=2, Accuracy: 89.19%\n",
      "Thresh=0.166, n=1, Accuracy: 89.19%\n"
     ]
    }
   ],
   "source": [
    "# Fit model using each importance as a threshold\n",
    "thresholds = sorted(randomforest.feature_importances_)\n",
    "print(thresholds)\n",
    "\n",
    "\n",
    "for thresh in thresholds:\n",
    "    # select features using threshold\n",
    "    selection = SelectFromModel(randomforest, threshold=thresh, prefit=True)\n",
    "    \n",
    "    select_X_train = selection.transform(x_train)\n",
    "    #select_X_train = selection.transform(features_scaled)\n",
    "\n",
    "    # train model\n",
    "    selection_model = RandomForestClassifier(n_estimators=1000, min_samples_leaf=3, n_jobs=-1,oob_score = True,warm_start = True, criterion = 'gini',min_samples_split=2,random_state = 100)\n",
    "    selection_model.fit(select_X_train, y_train)\n",
    "    \n",
    "    # eval model\n",
    "    select_X_test = selection.transform(x_test)\n",
    "    y_pred = selection_model.predict(select_X_test)\n",
    "    \n",
    "    predictions = [value for value in y_pred]\n",
    "    accuracy = accuracy_score(y_test, predictions)\n",
    "    #accuracy = accuracy_score(target_test, predictions)\n",
    "    print(\"Thresh=%.3f, n=%d, Accuracy: %.2f%%\" % (thresh, select_X_train.shape[1], accuracy*100.0))\n"
   ]
  },
  {
   "cell_type": "markdown",
   "metadata": {
    "id": "fAzfKv4hXmvM"
   },
   "source": [
    "#### TEST VALIDATION FOR RANDOM FOREST"
   ]
  },
  {
   "cell_type": "code",
   "execution_count": 28,
   "metadata": {
    "id": "TteQAiyCXmvM"
   },
   "outputs": [],
   "source": [
    "#test varaibles\n",
    "#mydata_cat_test = mydata_test\n",
    "features_test = data_cat.drop(['Absenteeism categories'],axis = 1)\n",
    "target_test = data_cat['Absenteeism categories']"
   ]
  },
  {
   "cell_type": "code",
   "execution_count": 29,
   "metadata": {
    "colab": {
     "base_uri": "https://localhost:8080/"
    },
    "id": "skGj4s4nXmvN",
    "outputId": "1113879b-d5ce-4f01-ef5c-96cd40ebbe48"
   },
   "outputs": [
    {
     "name": "stdout",
     "output_type": "stream",
     "text": [
      "RANDOM FOREST TEST ACCURACY:94.73%\n"
     ]
    }
   ],
   "source": [
    "#scaling the data\n",
    "features_scaled_test = StandardScaler().fit_transform(features_test)\n",
    "randomforest = RandomForestClassifier(n_estimators=1000, min_samples_leaf=3, n_jobs=-1,oob_score = True,warm_start = True,\n",
    "                                    criterion = 'gini',min_samples_split=2,random_state = 100)\n",
    "\n",
    "model = randomforest.fit(features_scaled_test ,target)\n",
    "\n",
    "y_predict = model.predict(features_scaled_test)\n",
    "print(\"RANDOM FOREST TEST ACCURACY:{}%\".format(round(accuracy_score(y_predict,target_test)*100,2)))\n"
   ]
  },
  {
   "cell_type": "code",
   "execution_count": 30,
   "metadata": {
    "colab": {
     "base_uri": "https://localhost:8080/"
    },
    "id": "_jCaibcjXmvN",
    "outputId": "6e310c95-b9b9-490a-dea6-d4a207c43cef"
   },
   "outputs": [
    {
     "name": "stdout",
     "output_type": "stream",
     "text": [
      "RANDOM FOREST TEST ACCURACY WITH FEATURE SELECTION:94.73%\n"
     ]
    }
   ],
   "source": [
    "selection = SelectFromModel(randomforest,threshold = 0.011,prefit = True)# 0.035\n",
    "select_x_train = selection.transform(features_scaled)\n",
    "\n",
    "selection_model = RandomForestClassifier(n_estimators=1000, min_samples_leaf=3, n_jobs=-1,oob_score = True,warm_start = True,\n",
    "                                     criterion = 'gini',min_samples_split=2,random_state = 123)\n",
    "sel_model = selection_model.fit(select_x_train,target)\n",
    "\n",
    "select_x_test = selection.transform(features_scaled_test)\n",
    "y_pre = sel_model.predict(select_x_test)\n",
    "print(\"RANDOM FOREST TEST ACCURACY WITH FEATURE SELECTION:{}%\".format(round(accuracy_score(y_pre,target_test)*100,2)))"
   ]
  },
  {
   "cell_type": "markdown",
   "metadata": {
    "id": "l4MpVOQqXmvO"
   },
   "source": [
    "### PCA with RANDOM FOREST"
   ]
  },
  {
   "cell_type": "code",
   "execution_count": 31,
   "metadata": {
    "colab": {
     "base_uri": "https://localhost:8080/"
    },
    "id": "SnToJb1LXmvO",
    "outputId": "669d62c1-7d4e-44e3-d9f4-0032dda08cef"
   },
   "outputs": [
    {
     "data": {
      "text/plain": [
       "array([0.1647577 , 0.2817549 , 0.39508804, 0.47179164, 0.53921975,\n",
       "       0.60010841, 0.65785612, 0.70989525])"
      ]
     },
     "execution_count": 31,
     "metadata": {
      "tags": []
     },
     "output_type": "execute_result"
    }
   ],
   "source": [
    "pca = PCA(n_components = 8)\n",
    "pc = pca.fit(features_scaled)\n",
    "pc.explained_variance_ratio_.cumsum()"
   ]
  },
  {
   "cell_type": "code",
   "execution_count": 32,
   "metadata": {
    "colab": {
     "base_uri": "https://localhost:8080/"
    },
    "id": "g9i53Z7SXmvO",
    "outputId": "80867841-edf0-4c4d-c172-76be697d5d1a"
   },
   "outputs": [
    {
     "name": "stdout",
     "output_type": "stream",
     "text": [
      "RESULTS WITH PCA: \n",
      "RandomForestClassifier(bootstrap=True, ccp_alpha=0.0, class_weight=None,\n",
      "                       criterion='gini', max_depth=None, max_features='auto',\n",
      "                       max_leaf_nodes=None, max_samples=None,\n",
      "                       min_impurity_decrease=0.0, min_impurity_split=None,\n",
      "                       min_samples_leaf=3, min_samples_split=2,\n",
      "                       min_weight_fraction_leaf=0.0, n_estimators=1000,\n",
      "                       n_jobs=-1, oob_score=True, random_state=100, verbose=0,\n",
      "                       warm_start=True)\n",
      "Accuracy of training set:95.02%\n",
      "Accuracy of validation test set:89.19%\n"
     ]
    }
   ],
   "source": [
    "# pca features\n",
    "new_features = pca.fit_transform(features_scaled)\n",
    "# split the dataset\n",
    "x_train,x_test,y_train,y_test = split_data(new_features,target)\n",
    "\n",
    "randomforest = RandomForestClassifier(n_estimators=1000, min_samples_leaf=3, n_jobs=-1,oob_score = True,warm_start = True,\n",
    "                                     criterion = 'gini',min_samples_split=2,random_state = 100)\n",
    "\n",
    "model = model_fit(x_train, y_train,randomforest) \n",
    "\n",
    "print(\"RESULTS WITH PCA: \")\n",
    "\n",
    "# check accuracy\n",
    "print(model)\n",
    "y_predict = model.predict(x_train)\n",
    "print(\"Accuracy of training set:{}%\".format(round(accuracy_score(y_predict,y_train)*100,2)))\n",
    "y_predict = model_eval(model,x_test,y_test)\n"
   ]
  },
  {
   "cell_type": "code",
   "execution_count": 33,
   "metadata": {
    "colab": {
     "base_uri": "https://localhost:8080/"
    },
    "id": "VhnEHZ-kXmvO",
    "outputId": "2078f8ea-2872-4178-ed13-1cbe71637a18"
   },
   "outputs": [
    {
     "name": "stdout",
     "output_type": "stream",
     "text": [
      "Accuracy of test set:94.73%\n"
     ]
    }
   ],
   "source": [
    "# PCA on test set\n",
    "new_features = pca.fit_transform(features_scaled_test)\n",
    "\n",
    "y_predict = model.predict(new_features)\n",
    "print(\"Accuracy of test set:{}%\".format(round(accuracy_score(y_predict,target_test)*100,2)))"
   ]
  },
  {
   "cell_type": "markdown",
   "metadata": {
    "id": "4p4jhFI3XmvO"
   },
   "source": [
    "### LDA with RANDOM FOREST"
   ]
  },
  {
   "cell_type": "code",
   "execution_count": 34,
   "metadata": {
    "colab": {
     "base_uri": "https://localhost:8080/"
    },
    "id": "vHoP7g10XmvP",
    "outputId": "a83a48c1-7744-4e17-b284-2c4e778fec12"
   },
   "outputs": [
    {
     "name": "stdout",
     "output_type": "stream",
     "text": [
      "RESULTS WITH LDA: \n",
      "RandomForestClassifier(bootstrap=True, ccp_alpha=0.0, class_weight=None,\n",
      "                       criterion='gini', max_depth=None, max_features='auto',\n",
      "                       max_leaf_nodes=None, max_samples=None,\n",
      "                       min_impurity_decrease=0.0, min_impurity_split=None,\n",
      "                       min_samples_leaf=3, min_samples_split=2,\n",
      "                       min_weight_fraction_leaf=0.0, n_estimators=1000,\n",
      "                       n_jobs=-1, oob_score=True, random_state=100, verbose=0,\n",
      "                       warm_start=True)\n",
      "Accuracy of training set:95.16%\n",
      "Accuracy of validation test set:89.19%\n"
     ]
    }
   ],
   "source": [
    "# LDA features\n",
    "lda = LinearDiscriminantAnalysis(n_components=3) \n",
    "# scaled \n",
    "new_features = lda.fit(features_scaled,target).transform(features_scaled)\n",
    "# split the data\n",
    "x_train,x_test,y_train,y_test = split_data(new_features,target)\n",
    "\n",
    "randomforest = RandomForestClassifier(n_estimators=1000, min_samples_leaf=3, n_jobs=-1,oob_score = True,warm_start = True,\n",
    "                                     criterion = 'gini',min_samples_split=2,random_state = 100)\n",
    "\n",
    "\n",
    "model = model_fit(x_train, y_train,randomforest) \n",
    "\n",
    "print(\"RESULTS WITH LDA: \")\n",
    "\n",
    "# check accuracy\n",
    "print(model)\n",
    "y_predict = model.predict(x_train)\n",
    "print(\"Accuracy of training set:{}%\".format(round(accuracy_score(y_predict,y_train)*100,2)))\n",
    "y_predict = model_eval(model,x_test,y_test)\n"
   ]
  },
  {
   "cell_type": "code",
   "execution_count": 35,
   "metadata": {
    "colab": {
     "base_uri": "https://localhost:8080/"
    },
    "id": "nyhH6Yh2XmvP",
    "outputId": "54672f27-59a7-4945-ccdf-d976d05f5e71"
   },
   "outputs": [
    {
     "name": "stdout",
     "output_type": "stream",
     "text": [
      "Accuracy of test set:94.86%\n"
     ]
    }
   ],
   "source": [
    "# LDA on test set\n",
    "new_features = lda.fit(features_scaled_test,target_test).transform(features_scaled_test)\n",
    "\n",
    "y_predict = model.predict(new_features)\n",
    "print(\"Accuracy of test set:{}%\".format(round(accuracy_score(y_predict,target_test)*100,2)))"
   ]
  },
  {
   "cell_type": "markdown",
   "metadata": {
    "id": "7SYToWNAXmvP"
   },
   "source": [
    "## RESULT RANDOM FOREST\n",
    "\n",
    "Training Data Accuracies\n",
    "\n",
    "    Random Forest                     98.99%%\n",
    "    Random Forest Parameter Tunning   95.73%\n",
    "    Random Forest Feature Selection   94.73%\n",
    "    Random Forest - PCA               95.02%\n",
    "    Random Forest - LDA               95.16% \n",
    "\n",
    "Test Data Accuracies\n",
    "\n",
    "    Random Forest                     93.82%\n",
    "    Random Forest Parameter Tunning   89.19%\n",
    "    Random Forest Feature Selection   94.73%\n",
    "    Random Forest - PCA               94.73%\n",
    "    Random Forest - LDA               94.86% "
   ]
  },
  {
   "cell_type": "markdown",
   "metadata": {
    "id": "1oUUZzw_XmvP"
   },
   "source": [
    "### SUPPORT VECTOR MACHINE"
   ]
  },
  {
   "cell_type": "code",
   "execution_count": 36,
   "metadata": {
    "colab": {
     "base_uri": "https://localhost:8080/"
    },
    "id": "M3a7If02XmvP",
    "outputId": "30f8ab68-3d03-4812-8554-7cadefced463"
   },
   "outputs": [
    {
     "data": {
      "text/plain": [
       "0.7996549437240595"
      ]
     },
     "execution_count": 36,
     "metadata": {
      "tags": []
     },
     "output_type": "execute_result"
    }
   ],
   "source": [
    "# laod the data\n",
    "X = data_cat.drop(['Absenteeism categories'], axis = 1)\n",
    "y = data_cat['Absenteeism categories'].astype('category')\n",
    "\n",
    "# Scale the data and apply pca \n",
    "X_scaled = StandardScaler().fit_transform(X)\n",
    "pca = PCA(n_components=10)\n",
    "principalComponents = pca.fit_transform(X_scaled)\n",
    "pca.explained_variance_ratio_.sum()"
   ]
  },
  {
   "cell_type": "code",
   "execution_count": 37,
   "metadata": {
    "colab": {
     "base_uri": "https://localhost:8080/"
    },
    "id": "APEP3ZzYXmvQ",
    "outputId": "69aac5e2-47ee-4c38-933e-7e0f6a1a8e91"
   },
   "outputs": [
    {
     "data": {
      "text/plain": [
       "94.5945945945946"
      ]
     },
     "execution_count": 37,
     "metadata": {
      "tags": []
     },
     "output_type": "execute_result"
    }
   ],
   "source": [
    "\n",
    "#Store Principal components in a different frame\n",
    "p_df = pd.DataFrame(data = principalComponents, columns = ['pc1', 'pc2', 'pc3', 'pc4',\n",
    "                                                                  'pc5','pc6','pc7','pc8','pc9','pc10'])\n",
    "# SVM with LINEAR Kernel\n",
    "X_train, X_test, y_train, y_test = train_test_split(p_df, y, test_size=0.25, random_state=1234)\n",
    "clf = svm.SVC(kernel='linear') \n",
    "clf.fit(X_train, y_train)\n",
    "y_predict = clf.predict(X_test)\n",
    "accuracy_score(y_test, y_predict)*100"
   ]
  },
  {
   "cell_type": "code",
   "execution_count": 38,
   "metadata": {
    "colab": {
     "base_uri": "https://localhost:8080/"
    },
    "id": "S6lQxdzuXmvQ",
    "outputId": "80bb7465-9e16-4fce-d191-43d0c6221827"
   },
   "outputs": [
    {
     "name": "stdout",
     "output_type": "stream",
     "text": [
      "Accuracy: 94.054% (2.277%)\n",
      "Accuracy: 93.784% (2.023%)\n"
     ]
    },
    {
     "name": "stderr",
     "output_type": "stream",
     "text": [
      "/usr/local/lib/python3.6/dist-packages/sklearn/model_selection/_split.py:296: FutureWarning: Setting a random_state has no effect since shuffle is False. This will raise an error in 0.24. You should leave random_state to its default (None), or set shuffle=True.\n",
      "  FutureWarning\n"
     ]
    }
   ],
   "source": [
    "# Cross Validation - SVM - linear\n",
    "seed = 1234\n",
    "kfold = KFold(n_splits=5, random_state=seed)\n",
    "model = svm.SVC(kernel='linear')\n",
    "\n",
    "#PCA Data frame \n",
    "results1 = cross_val_score(model, p_df, y, cv=kfold)  \n",
    "print(\"Accuracy: %.3f%% (%.3f%%)\" % (results1.mean()*100.0, results1.std()*100.0))\n",
    "\n",
    "from sklearn.preprocessing import scale\n",
    "dat = X\n",
    "data_normal = scale(dat)\n",
    " # Data Scaled using scale() instead of standard scaler\n",
    "results2 = cross_val_score(model, data_normal, y, cv=kfold)\n",
    "print(\"Accuracy: %.3f%% (%.3f%%)\" % (results2.mean()*100.0, results2.std()*100.0))\n",
    "\n",
    " # without scaling / pca - very slow\n",
    "# results3 = model_selection.cross_val_score(model, X, y, cv=kfold)\n",
    "# print(\"Accuracy: %.3f%% (%.3f%%)\" % (results3.mean()*100.0, results3.std()*100.0))"
   ]
  },
  {
   "cell_type": "code",
   "execution_count": 39,
   "metadata": {
    "colab": {
     "base_uri": "https://localhost:8080/"
    },
    "id": "0sgSOB3eXmvQ",
    "outputId": "e2a0cca1-2f97-46f9-96cf-8a255bf77512"
   },
   "outputs": [
    {
     "name": "stderr",
     "output_type": "stream",
     "text": [
      "/usr/local/lib/python3.6/dist-packages/sklearn/model_selection/_split.py:296: FutureWarning: Setting a random_state has no effect since shuffle is False. This will raise an error in 0.24. You should leave random_state to its default (None), or set shuffle=True.\n",
      "  FutureWarning\n"
     ]
    },
    {
     "name": "stdout",
     "output_type": "stream",
     "text": [
      "Accuracy: 94.054% (2.277%)\n"
     ]
    }
   ],
   "source": [
    "# Cross Validation - SVM - Polynomial Kernel\n",
    "seed = 1234\n",
    "kfold = KFold(n_splits=5, random_state=seed)\n",
    "# n_splits 3-44, 7-43, 10-46, but std dev was high, so retaining n splits = 5\n",
    "model = svm.SVC(kernel='poly', degree = 1)\n",
    "\n",
    "#PCA Data frame \n",
    "results1 = cross_val_score(model, p_df, y, cv=kfold)  \n",
    "print(\"Accuracy: %.3f%% (%.3f%%)\" % (results1.mean()*100.0, results1.std()*100.0))"
   ]
  },
  {
   "cell_type": "code",
   "execution_count": 40,
   "metadata": {
    "colab": {
     "base_uri": "https://localhost:8080/"
    },
    "id": "58Ht_z-TXmvQ",
    "outputId": "ae4bcba1-2b91-4ea4-ef68-8c40188b481e"
   },
   "outputs": [
    {
     "name": "stdout",
     "output_type": "stream",
     "text": [
      "Accuracy: 94.054% (2.277%)\n"
     ]
    },
    {
     "name": "stderr",
     "output_type": "stream",
     "text": [
      "/usr/local/lib/python3.6/dist-packages/sklearn/model_selection/_split.py:296: FutureWarning: Setting a random_state has no effect since shuffle is False. This will raise an error in 0.24. You should leave random_state to its default (None), or set shuffle=True.\n",
      "  FutureWarning\n"
     ]
    }
   ],
   "source": [
    "# Cross Validation - SVM - poly - on unscaled data with no pca - no improvement\n",
    "seed = 1234\n",
    "kfold = KFold(n_splits=5, random_state=seed)\n",
    "# n_splits 3-44, 7-43, 10-46, but std dev was high, so retaining n splits = 5\n",
    "model = svm.SVC(kernel='poly', degree = 1)\n",
    "\n",
    "#PCA Data frame \n",
    "results1 =cross_val_score(model, X, y, cv=kfold)  \n",
    "print(\"Accuracy: %.3f%% (%.3f%%)\" % (results1.mean()*100.0, results1.std()*100.0))"
   ]
  },
  {
   "cell_type": "code",
   "execution_count": 41,
   "metadata": {
    "colab": {
     "base_uri": "https://localhost:8080/"
    },
    "id": "WN3eyyasXmvR",
    "outputId": "2f40224c-ffa8-4749-a998-c3ac38ebd5ad"
   },
   "outputs": [
    {
     "name": "stdout",
     "output_type": "stream",
     "text": [
      "Accuracy: 94.054% (2.277%)\n"
     ]
    },
    {
     "name": "stderr",
     "output_type": "stream",
     "text": [
      "/usr/local/lib/python3.6/dist-packages/sklearn/model_selection/_split.py:296: FutureWarning: Setting a random_state has no effect since shuffle is False. This will raise an error in 0.24. You should leave random_state to its default (None), or set shuffle=True.\n",
      "  FutureWarning\n"
     ]
    }
   ],
   "source": [
    "# Cross Validation - SVM - poly - on unscaled data with no pca - no improvement\n",
    "seed = 1234\n",
    "kfold = KFold(n_splits=5, random_state=seed)\n",
    "# n_splits 3-44, 7-43, 10-46, but std dev was high, so retaining n splits = 5\n",
    "model = svm.SVC(kernel='poly', degree = 1)\n",
    "\n",
    "#PCA Data frame \n",
    "results1 = cross_val_score(model, X, y, cv=kfold)  \n",
    "print(\"Accuracy: %.3f%% (%.3f%%)\" % (results1.mean()*100.0, results1.std()*100.0))"
   ]
  },
  {
   "cell_type": "markdown",
   "metadata": {
    "id": "fE1pBgd2XmvR"
   },
   "source": [
    "## RESULT SUPPORT VECTOR MACHINE\n",
    "\n",
    "Training Data Accuracies\n",
    "    \n",
    "    SVM-LINEAR      94.054%\n",
    "    SVM-POLYNOMIAL  94.054%\n",
    "    \n",
    "Test Data Accuracies\n",
    "\n",
    "    SVM-LINEAR      93.784% \n",
    "    SVM-POLYNOMIAL  94.054%\n",
    "    "
   ]
  },
  {
   "cell_type": "markdown",
   "metadata": {
    "id": "TecHTYuvXmvR"
   },
   "source": [
    "## SVM (CONTINOUS)"
   ]
  },
  {
   "cell_type": "code",
   "execution_count": 42,
   "metadata": {
    "id": "kTUFjeaQXmvR"
   },
   "outputs": [],
   "source": [
    "#Seperate explanatory and target variable\n",
    "X = data_con.drop(['Absenteeism time in hours'], axis = 1)\n",
    "y = data_con['Absenteeism time in hours']"
   ]
  },
  {
   "cell_type": "code",
   "execution_count": 43,
   "metadata": {
    "colab": {
     "base_uri": "https://localhost:8080/"
    },
    "id": "IvbclpSoXmvR",
    "outputId": "7501c4b2-42ca-4241-8673-91b39d9707ca"
   },
   "outputs": [
    {
     "data": {
      "text/plain": [
       "0.7981724867407263"
      ]
     },
     "execution_count": 43,
     "metadata": {
      "tags": []
     },
     "output_type": "execute_result"
    }
   ],
   "source": [
    "# Scale the data and apply pca \n",
    "X_scaled = StandardScaler().fit_transform(X)\n",
    "pca = PCA(n_components=10)\n",
    "principalComponents = pca.fit_transform(X_scaled)\n",
    "pca.explained_variance_ratio_.sum()"
   ]
  },
  {
   "cell_type": "code",
   "execution_count": 44,
   "metadata": {
    "colab": {
     "base_uri": "https://localhost:8080/"
    },
    "id": "AAl1u-_qXmvR",
    "outputId": "929e0817-4ade-4aa8-97bc-b05cc4d00304"
   },
   "outputs": [
    {
     "data": {
      "text/plain": [
       "37.83783783783784"
      ]
     },
     "execution_count": 44,
     "metadata": {
      "tags": []
     },
     "output_type": "execute_result"
    }
   ],
   "source": [
    "#make a pc dataframe\n",
    "p_df = pd.DataFrame(data = principalComponents, columns = ['pc1', 'pc2', 'pc3', 'pc4',\n",
    "                                                                  'pc5','pc6','pc7','pc8','pc9','pc10'])\n",
    "#SVM - linear model\n",
    "X_train, X_test, y_train, y_test = train_test_split(p_df, y, test_size=0.25, random_state=1234)\n",
    "clf = svm.SVC(kernel='linear') \n",
    "clf.fit(X_train, y_train)\n",
    "y_predict = clf.predict(X_test)\n",
    "accuracy_score(y_test, y_predict)*100"
   ]
  },
  {
   "cell_type": "code",
   "execution_count": 45,
   "metadata": {
    "colab": {
     "base_uri": "https://localhost:8080/",
     "height": 663
    },
    "id": "Dv3woMPJXmvS",
    "outputId": "5eb1fad2-43f0-41cd-d66b-aec06c6dfda9"
   },
   "outputs": [
    {
     "data": {
      "text/html": [
       "<div>\n",
       "<style scoped>\n",
       "    .dataframe tbody tr th:only-of-type {\n",
       "        vertical-align: middle;\n",
       "    }\n",
       "\n",
       "    .dataframe tbody tr th {\n",
       "        vertical-align: top;\n",
       "    }\n",
       "\n",
       "    .dataframe thead th {\n",
       "        text-align: right;\n",
       "    }\n",
       "</style>\n",
       "<table border=\"1\" class=\"dataframe\">\n",
       "  <thead>\n",
       "    <tr style=\"text-align: right;\">\n",
       "      <th></th>\n",
       "      <th>Factor1</th>\n",
       "      <th>Factor2</th>\n",
       "      <th>Factor3</th>\n",
       "      <th>Factor4</th>\n",
       "      <th>Factor5</th>\n",
       "      <th>Factor6</th>\n",
       "      <th>Factor7</th>\n",
       "      <th>Factor8</th>\n",
       "      <th>Factor9</th>\n",
       "      <th>Factor10</th>\n",
       "    </tr>\n",
       "  </thead>\n",
       "  <tbody>\n",
       "    <tr>\n",
       "      <th>ID</th>\n",
       "      <td>-0.292794</td>\n",
       "      <td>0.137185</td>\n",
       "      <td>0.026936</td>\n",
       "      <td>0.115070</td>\n",
       "      <td>-0.179117</td>\n",
       "      <td>0.842305</td>\n",
       "      <td>0.121085</td>\n",
       "      <td>0.143269</td>\n",
       "      <td>-0.161881</td>\n",
       "      <td>-0.049840</td>\n",
       "    </tr>\n",
       "    <tr>\n",
       "      <th>Reason for absence</th>\n",
       "      <td>0.022541</td>\n",
       "      <td>-0.639507</td>\n",
       "      <td>0.761852</td>\n",
       "      <td>0.023855</td>\n",
       "      <td>-0.005531</td>\n",
       "      <td>0.007043</td>\n",
       "      <td>0.005616</td>\n",
       "      <td>-0.000746</td>\n",
       "      <td>0.003078</td>\n",
       "      <td>0.003238</td>\n",
       "    </tr>\n",
       "    <tr>\n",
       "      <th>Month of absence</th>\n",
       "      <td>0.038688</td>\n",
       "      <td>-0.001661</td>\n",
       "      <td>-0.138602</td>\n",
       "      <td>0.819021</td>\n",
       "      <td>-0.409558</td>\n",
       "      <td>-0.188056</td>\n",
       "      <td>-0.108030</td>\n",
       "      <td>0.172347</td>\n",
       "      <td>0.040606</td>\n",
       "      <td>-0.020549</td>\n",
       "    </tr>\n",
       "    <tr>\n",
       "      <th>Day of the week</th>\n",
       "      <td>-0.117612</td>\n",
       "      <td>-0.121618</td>\n",
       "      <td>0.054596</td>\n",
       "      <td>-0.018275</td>\n",
       "      <td>-0.069370</td>\n",
       "      <td>-0.034070</td>\n",
       "      <td>0.093862</td>\n",
       "      <td>-0.003673</td>\n",
       "      <td>-0.097305</td>\n",
       "      <td>0.011987</td>\n",
       "    </tr>\n",
       "    <tr>\n",
       "      <th>Seasons</th>\n",
       "      <td>-0.019163</td>\n",
       "      <td>0.046690</td>\n",
       "      <td>-0.136275</td>\n",
       "      <td>0.484109</td>\n",
       "      <td>-0.339145</td>\n",
       "      <td>0.002292</td>\n",
       "      <td>0.409981</td>\n",
       "      <td>-0.579167</td>\n",
       "      <td>-0.035601</td>\n",
       "      <td>0.016244</td>\n",
       "    </tr>\n",
       "    <tr>\n",
       "      <th>Transportation expense</th>\n",
       "      <td>-0.175349</td>\n",
       "      <td>-0.072390</td>\n",
       "      <td>-0.215265</td>\n",
       "      <td>0.270766</td>\n",
       "      <td>0.367264</td>\n",
       "      <td>-0.291255</td>\n",
       "      <td>0.005299</td>\n",
       "      <td>0.019455</td>\n",
       "      <td>-0.199329</td>\n",
       "      <td>0.349345</td>\n",
       "    </tr>\n",
       "    <tr>\n",
       "      <th>Distance from Residence to Work</th>\n",
       "      <td>0.041459</td>\n",
       "      <td>-0.392279</td>\n",
       "      <td>-0.108235</td>\n",
       "      <td>-0.033659</td>\n",
       "      <td>0.212928</td>\n",
       "      <td>-0.567324</td>\n",
       "      <td>0.138946</td>\n",
       "      <td>0.056891</td>\n",
       "      <td>-0.368792</td>\n",
       "      <td>-0.301270</td>\n",
       "    </tr>\n",
       "    <tr>\n",
       "      <th>Service time</th>\n",
       "      <td>0.496588</td>\n",
       "      <td>-0.101915</td>\n",
       "      <td>-0.027013</td>\n",
       "      <td>-0.429978</td>\n",
       "      <td>-0.537462</td>\n",
       "      <td>-0.242287</td>\n",
       "      <td>0.306590</td>\n",
       "      <td>0.163558</td>\n",
       "      <td>0.110567</td>\n",
       "      <td>-0.051512</td>\n",
       "    </tr>\n",
       "    <tr>\n",
       "      <th>Age</th>\n",
       "      <td>0.460077</td>\n",
       "      <td>-0.029361</td>\n",
       "      <td>-0.141304</td>\n",
       "      <td>-0.240747</td>\n",
       "      <td>-0.394652</td>\n",
       "      <td>0.099372</td>\n",
       "      <td>0.317343</td>\n",
       "      <td>0.293744</td>\n",
       "      <td>0.094965</td>\n",
       "      <td>0.237014</td>\n",
       "    </tr>\n",
       "    <tr>\n",
       "      <th>Work load Average/day</th>\n",
       "      <td>-0.068247</td>\n",
       "      <td>0.160628</td>\n",
       "      <td>-0.025363</td>\n",
       "      <td>-0.103529</td>\n",
       "      <td>0.018752</td>\n",
       "      <td>0.069929</td>\n",
       "      <td>0.201808</td>\n",
       "      <td>-0.175981</td>\n",
       "      <td>-0.083144</td>\n",
       "      <td>0.007833</td>\n",
       "    </tr>\n",
       "    <tr>\n",
       "      <th>Hit target</th>\n",
       "      <td>-0.070008</td>\n",
       "      <td>0.023972</td>\n",
       "      <td>0.149142</td>\n",
       "      <td>-0.346976</td>\n",
       "      <td>0.195171</td>\n",
       "      <td>0.098463</td>\n",
       "      <td>0.148289</td>\n",
       "      <td>-0.210879</td>\n",
       "      <td>0.046637</td>\n",
       "      <td>-0.008997</td>\n",
       "    </tr>\n",
       "    <tr>\n",
       "      <th>Disciplinary failure</th>\n",
       "      <td>0.076647</td>\n",
       "      <td>0.302293</td>\n",
       "      <td>-0.459353</td>\n",
       "      <td>0.054715</td>\n",
       "      <td>-0.030749</td>\n",
       "      <td>-0.021626</td>\n",
       "      <td>0.018907</td>\n",
       "      <td>-0.041150</td>\n",
       "      <td>-0.086498</td>\n",
       "      <td>0.115526</td>\n",
       "    </tr>\n",
       "    <tr>\n",
       "      <th>Education</th>\n",
       "      <td>-0.344646</td>\n",
       "      <td>0.131643</td>\n",
       "      <td>0.059794</td>\n",
       "      <td>-0.057187</td>\n",
       "      <td>0.010938</td>\n",
       "      <td>-0.012854</td>\n",
       "      <td>-0.214392</td>\n",
       "      <td>-0.219317</td>\n",
       "      <td>0.494485</td>\n",
       "      <td>-0.040071</td>\n",
       "    </tr>\n",
       "    <tr>\n",
       "      <th>Son</th>\n",
       "      <td>-0.145094</td>\n",
       "      <td>0.030558</td>\n",
       "      <td>-0.046552</td>\n",
       "      <td>0.082739</td>\n",
       "      <td>0.009859</td>\n",
       "      <td>-0.137156</td>\n",
       "      <td>0.177369</td>\n",
       "      <td>0.151546</td>\n",
       "      <td>-0.260428</td>\n",
       "      <td>0.469459</td>\n",
       "    </tr>\n",
       "    <tr>\n",
       "      <th>Social drinker</th>\n",
       "      <td>0.361783</td>\n",
       "      <td>0.057916</td>\n",
       "      <td>0.130914</td>\n",
       "      <td>-0.072487</td>\n",
       "      <td>-0.071427</td>\n",
       "      <td>-0.549440</td>\n",
       "      <td>0.092155</td>\n",
       "      <td>0.124335</td>\n",
       "      <td>-0.507681</td>\n",
       "      <td>0.102368</td>\n",
       "    </tr>\n",
       "    <tr>\n",
       "      <th>Social smoker</th>\n",
       "      <td>-0.201031</td>\n",
       "      <td>0.065972</td>\n",
       "      <td>-0.091200</td>\n",
       "      <td>-0.100180</td>\n",
       "      <td>-0.019580</td>\n",
       "      <td>-0.080398</td>\n",
       "      <td>0.198977</td>\n",
       "      <td>0.172031</td>\n",
       "      <td>0.214157</td>\n",
       "      <td>0.193706</td>\n",
       "    </tr>\n",
       "    <tr>\n",
       "      <th>Pet</th>\n",
       "      <td>-0.094738</td>\n",
       "      <td>-0.033022</td>\n",
       "      <td>-0.108445</td>\n",
       "      <td>0.407183</td>\n",
       "      <td>0.729521</td>\n",
       "      <td>-0.034671</td>\n",
       "      <td>0.379332</td>\n",
       "      <td>0.178722</td>\n",
       "      <td>0.127165</td>\n",
       "      <td>-0.023266</td>\n",
       "    </tr>\n",
       "    <tr>\n",
       "      <th>Weight</th>\n",
       "      <td>0.972048</td>\n",
       "      <td>0.190497</td>\n",
       "      <td>0.130577</td>\n",
       "      <td>0.007324</td>\n",
       "      <td>0.005268</td>\n",
       "      <td>0.000054</td>\n",
       "      <td>0.002847</td>\n",
       "      <td>0.002323</td>\n",
       "      <td>0.001630</td>\n",
       "      <td>-0.001762</td>\n",
       "    </tr>\n",
       "    <tr>\n",
       "      <th>Height</th>\n",
       "      <td>0.081279</td>\n",
       "      <td>0.805432</td>\n",
       "      <td>0.569907</td>\n",
       "      <td>0.001930</td>\n",
       "      <td>-0.006289</td>\n",
       "      <td>-0.030609</td>\n",
       "      <td>-0.002238</td>\n",
       "      <td>-0.007635</td>\n",
       "      <td>-0.008674</td>\n",
       "      <td>0.001814</td>\n",
       "    </tr>\n",
       "    <tr>\n",
       "      <th>Body mass index</th>\n",
       "      <td>0.978361</td>\n",
       "      <td>-0.164879</td>\n",
       "      <td>-0.118512</td>\n",
       "      <td>-0.000710</td>\n",
       "      <td>0.002613</td>\n",
       "      <td>0.008390</td>\n",
       "      <td>-0.005007</td>\n",
       "      <td>-0.003871</td>\n",
       "      <td>-0.001844</td>\n",
       "      <td>0.001382</td>\n",
       "    </tr>\n",
       "    <tr>\n",
       "      <th>followUp_req</th>\n",
       "      <td>-0.039453</td>\n",
       "      <td>0.576159</td>\n",
       "      <td>-0.625891</td>\n",
       "      <td>-0.083940</td>\n",
       "      <td>-0.002480</td>\n",
       "      <td>-0.030074</td>\n",
       "      <td>0.016691</td>\n",
       "      <td>0.015605</td>\n",
       "      <td>0.012335</td>\n",
       "      <td>-0.037360</td>\n",
       "    </tr>\n",
       "  </tbody>\n",
       "</table>\n",
       "</div>"
      ],
      "text/plain": [
       "                                  Factor1   Factor2  ...   Factor9  Factor10\n",
       "ID                              -0.292794  0.137185  ... -0.161881 -0.049840\n",
       "Reason for absence               0.022541 -0.639507  ...  0.003078  0.003238\n",
       "Month of absence                 0.038688 -0.001661  ...  0.040606 -0.020549\n",
       "Day of the week                 -0.117612 -0.121618  ... -0.097305  0.011987\n",
       "Seasons                         -0.019163  0.046690  ... -0.035601  0.016244\n",
       "Transportation expense          -0.175349 -0.072390  ... -0.199329  0.349345\n",
       "Distance from Residence to Work  0.041459 -0.392279  ... -0.368792 -0.301270\n",
       "Service time                     0.496588 -0.101915  ...  0.110567 -0.051512\n",
       "Age                              0.460077 -0.029361  ...  0.094965  0.237014\n",
       "Work load Average/day           -0.068247  0.160628  ... -0.083144  0.007833\n",
       "Hit target                      -0.070008  0.023972  ...  0.046637 -0.008997\n",
       "Disciplinary failure             0.076647  0.302293  ... -0.086498  0.115526\n",
       "Education                       -0.344646  0.131643  ...  0.494485 -0.040071\n",
       "Son                             -0.145094  0.030558  ... -0.260428  0.469459\n",
       "Social drinker                   0.361783  0.057916  ... -0.507681  0.102368\n",
       "Social smoker                   -0.201031  0.065972  ...  0.214157  0.193706\n",
       "Pet                             -0.094738 -0.033022  ...  0.127165 -0.023266\n",
       "Weight                           0.972048  0.190497  ...  0.001630 -0.001762\n",
       "Height                           0.081279  0.805432  ... -0.008674  0.001814\n",
       "Body mass index                  0.978361 -0.164879  ... -0.001844  0.001382\n",
       "followUp_req                    -0.039453  0.576159  ...  0.012335 -0.037360\n",
       "\n",
       "[21 rows x 10 columns]"
      ]
     },
     "execution_count": 45,
     "metadata": {
      "tags": []
     },
     "output_type": "execute_result"
    }
   ],
   "source": [
    "#Factor Analysis - \n",
    "\n",
    "dat = X\n",
    "data_normal = scale(dat)\n",
    "fa = FactorAnalysis(n_components = 10)\n",
    "fa = fa.fit(data_normal)\n",
    "feature_names = dat.columns\n",
    "factor_names = ['Factor'+str(x) for x in range(1,11)]\n",
    "pd.DataFrame(np.transpose(fa.components_), index=feature_names ,\n",
    "columns=factor_names)"
   ]
  },
  {
   "cell_type": "code",
   "execution_count": 46,
   "metadata": {
    "colab": {
     "base_uri": "https://localhost:8080/"
    },
    "id": "yAUcAV2YXmvS",
    "outputId": "7d06ec6f-337e-48eb-c166-12066b1d2f52"
   },
   "outputs": [
    {
     "name": "stderr",
     "output_type": "stream",
     "text": [
      "/usr/local/lib/python3.6/dist-packages/sklearn/model_selection/_split.py:296: FutureWarning: Setting a random_state has no effect since shuffle is False. This will raise an error in 0.24. You should leave random_state to its default (None), or set shuffle=True.\n",
      "  FutureWarning\n",
      "/usr/local/lib/python3.6/dist-packages/sklearn/linear_model/_logistic.py:940: ConvergenceWarning: lbfgs failed to converge (status=1):\n",
      "STOP: TOTAL NO. of ITERATIONS REACHED LIMIT.\n",
      "\n",
      "Increase the number of iterations (max_iter) or scale the data as shown in:\n",
      "    https://scikit-learn.org/stable/modules/preprocessing.html\n",
      "Please also refer to the documentation for alternative solver options:\n",
      "    https://scikit-learn.org/stable/modules/linear_model.html#logistic-regression\n",
      "  extra_warning_msg=_LOGISTIC_SOLVER_CONVERGENCE_MSG)\n",
      "/usr/local/lib/python3.6/dist-packages/sklearn/linear_model/_logistic.py:940: ConvergenceWarning: lbfgs failed to converge (status=1):\n",
      "STOP: TOTAL NO. of ITERATIONS REACHED LIMIT.\n",
      "\n",
      "Increase the number of iterations (max_iter) or scale the data as shown in:\n",
      "    https://scikit-learn.org/stable/modules/preprocessing.html\n",
      "Please also refer to the documentation for alternative solver options:\n",
      "    https://scikit-learn.org/stable/modules/linear_model.html#logistic-regression\n",
      "  extra_warning_msg=_LOGISTIC_SOLVER_CONVERGENCE_MSG)\n",
      "/usr/local/lib/python3.6/dist-packages/sklearn/linear_model/_logistic.py:940: ConvergenceWarning: lbfgs failed to converge (status=1):\n",
      "STOP: TOTAL NO. of ITERATIONS REACHED LIMIT.\n",
      "\n",
      "Increase the number of iterations (max_iter) or scale the data as shown in:\n",
      "    https://scikit-learn.org/stable/modules/preprocessing.html\n",
      "Please also refer to the documentation for alternative solver options:\n",
      "    https://scikit-learn.org/stable/modules/linear_model.html#logistic-regression\n",
      "  extra_warning_msg=_LOGISTIC_SOLVER_CONVERGENCE_MSG)\n"
     ]
    },
    {
     "name": "stdout",
     "output_type": "stream",
     "text": [
      "Accuracy: 44.054% (6.124%)\n"
     ]
    },
    {
     "name": "stderr",
     "output_type": "stream",
     "text": [
      "/usr/local/lib/python3.6/dist-packages/sklearn/linear_model/_logistic.py:940: ConvergenceWarning: lbfgs failed to converge (status=1):\n",
      "STOP: TOTAL NO. of ITERATIONS REACHED LIMIT.\n",
      "\n",
      "Increase the number of iterations (max_iter) or scale the data as shown in:\n",
      "    https://scikit-learn.org/stable/modules/preprocessing.html\n",
      "Please also refer to the documentation for alternative solver options:\n",
      "    https://scikit-learn.org/stable/modules/linear_model.html#logistic-regression\n",
      "  extra_warning_msg=_LOGISTIC_SOLVER_CONVERGENCE_MSG)\n",
      "/usr/local/lib/python3.6/dist-packages/sklearn/linear_model/_logistic.py:940: ConvergenceWarning: lbfgs failed to converge (status=1):\n",
      "STOP: TOTAL NO. of ITERATIONS REACHED LIMIT.\n",
      "\n",
      "Increase the number of iterations (max_iter) or scale the data as shown in:\n",
      "    https://scikit-learn.org/stable/modules/preprocessing.html\n",
      "Please also refer to the documentation for alternative solver options:\n",
      "    https://scikit-learn.org/stable/modules/linear_model.html#logistic-regression\n",
      "  extra_warning_msg=_LOGISTIC_SOLVER_CONVERGENCE_MSG)\n"
     ]
    }
   ],
   "source": [
    "# Cross Validation - log reg\n",
    "seed = 7\n",
    "kfold = KFold(n_splits=5, random_state=seed)\n",
    "model = LogisticRegression()\n",
    "results = cross_val_score(model, p_df, y, cv=kfold)\n",
    "print(\"Accuracy: %.3f%% (%.3f%%)\" % (results.mean()*100.0, results.std()*100.0))"
   ]
  },
  {
   "cell_type": "code",
   "execution_count": 47,
   "metadata": {
    "colab": {
     "base_uri": "https://localhost:8080/"
    },
    "id": "Ppc0HZKNXmvS",
    "outputId": "f9a612c3-1f7a-410b-abf5-9302f81c2d4e"
   },
   "outputs": [
    {
     "name": "stdout",
     "output_type": "stream",
     "text": [
      "Accuracy: 10.526% (6.132%)\n"
     ]
    },
    {
     "name": "stderr",
     "output_type": "stream",
     "text": [
      "/usr/local/lib/python3.6/dist-packages/sklearn/model_selection/_split.py:296: FutureWarning: Setting a random_state has no effect since shuffle is False. This will raise an error in 0.24. You should leave random_state to its default (None), or set shuffle=True.\n",
      "  FutureWarning\n"
     ]
    }
   ],
   "source": [
    "# Cross Validation - linear reg\n",
    "#On p_df - Accuracy: 14.096% (4.772%)\n",
    "#On unscaled data Accuracy: 12.186% (8.636%)\n",
    "seed = 7\n",
    "kfold = KFold(n_splits=5, random_state=seed)\n",
    "model = LinearRegression()\n",
    "results = cross_val_score(model, X, y, cv=kfold)\n",
    "print(\"Accuracy: %.3f%% (%.3f%%)\" % (results.mean()*100.0, results.std()*100.0))"
   ]
  },
  {
   "cell_type": "code",
   "execution_count": 48,
   "metadata": {
    "colab": {
     "base_uri": "https://localhost:8080/"
    },
    "id": "Xlj-KJ4gXmvS",
    "outputId": "ab124e46-dae8-466a-88bc-2bae233171dd"
   },
   "outputs": [
    {
     "name": "stderr",
     "output_type": "stream",
     "text": [
      "/usr/local/lib/python3.6/dist-packages/sklearn/model_selection/_split.py:296: FutureWarning: Setting a random_state has no effect since shuffle is False. This will raise an error in 0.24. You should leave random_state to its default (None), or set shuffle=True.\n",
      "  FutureWarning\n"
     ]
    }
   ],
   "source": [
    "# Cross Validation - SVM - linear\n",
    "seed = 1234\n",
    "kfold = KFold(n_splits=5, random_state=seed)\n",
    "model = svm.SVC(kernel='linear')"
   ]
  },
  {
   "cell_type": "code",
   "execution_count": 49,
   "metadata": {
    "colab": {
     "base_uri": "https://localhost:8080/"
    },
    "id": "qE1yKpnDXmvT",
    "outputId": "9e8dc597-c035-4bc7-cb94-78bce21254af"
   },
   "outputs": [
    {
     "name": "stdout",
     "output_type": "stream",
     "text": [
      "Accuracy: 44.459% (7.143%)\n"
     ]
    }
   ],
   "source": [
    "#PCA Data frame - 44.7%\n",
    "results1 = cross_val_score(model, p_df, y, cv=kfold)  \n",
    "print(\"Accuracy: %.3f%% (%.3f%%)\" % (results1.mean()*100.0, results1.std()*100.0))"
   ]
  },
  {
   "cell_type": "code",
   "execution_count": 50,
   "metadata": {
    "colab": {
     "base_uri": "https://localhost:8080/"
    },
    "id": "GupGfYdEXmvT",
    "outputId": "03bcc365-17af-467e-bde3-1aadcaa17706"
   },
   "outputs": [
    {
     "name": "stdout",
     "output_type": "stream",
     "text": [
      "Accuracy: 42.162% (8.733%)\n"
     ]
    }
   ],
   "source": [
    " # Data Scaled using scale() instead of standard scaler - without PCA\n",
    "results2 = cross_val_score(model, data_normal, y, cv=kfold)\n",
    "print(\"Accuracy: %.3f%% (%.3f%%)\" % (results2.mean()*100.0, results2.std()*100.0))"
   ]
  },
  {
   "cell_type": "code",
   "execution_count": 51,
   "metadata": {
    "colab": {
     "base_uri": "https://localhost:8080/"
    },
    "id": "E_AGawghXmvT",
    "outputId": "28546971-fa39-41fa-939f-fc8e851a54da"
   },
   "outputs": [
    {
     "name": "stderr",
     "output_type": "stream",
     "text": [
      "/usr/local/lib/python3.6/dist-packages/sklearn/model_selection/_split.py:296: FutureWarning: Setting a random_state has no effect since shuffle is False. This will raise an error in 0.24. You should leave random_state to its default (None), or set shuffle=True.\n",
      "  FutureWarning\n"
     ]
    },
    {
     "name": "stdout",
     "output_type": "stream",
     "text": [
      "Accuracy: 44.865% (4.045%)\n",
      "Accuracy: 44.865% (4.535%)\n"
     ]
    }
   ],
   "source": [
    "# Cross Validation - SVM - rbf\n",
    "seed = 1234\n",
    "kfold = KFold(n_splits=5, random_state=seed)\n",
    "model = svm.SVC(kernel='rbf', gamma = 0.1)\n",
    "\n",
    "#PCA Data frame \n",
    "results1 = cross_val_score(model, p_df, y, cv=kfold)  \n",
    "print(\"Accuracy: %.3f%% (%.3f%%)\" % (results1.mean()*100.0, results1.std()*100.0))\n",
    "\n",
    "# Data Scaled using scale() instead of standard scaler - without PCA\n",
    "results2 = cross_val_score(model, data_normal, y, cv=kfold)\n",
    "print(\"Accuracy: %.3f%% (%.3f%%)\" % (results2.mean()*100.0, results2.std()*100.0))"
   ]
  },
  {
   "cell_type": "code",
   "execution_count": 52,
   "metadata": {
    "colab": {
     "base_uri": "https://localhost:8080/"
    },
    "id": "PUjiMTVtXmvT",
    "outputId": "1b9473d0-701c-42a6-e2b4-ca40852097a9"
   },
   "outputs": [
    {
     "name": "stdout",
     "output_type": "stream",
     "text": [
      "Accuracy: 44.459% (7.589%)\n"
     ]
    },
    {
     "name": "stderr",
     "output_type": "stream",
     "text": [
      "/usr/local/lib/python3.6/dist-packages/sklearn/model_selection/_split.py:296: FutureWarning: Setting a random_state has no effect since shuffle is False. This will raise an error in 0.24. You should leave random_state to its default (None), or set shuffle=True.\n",
      "  FutureWarning\n"
     ]
    },
    {
     "name": "stdout",
     "output_type": "stream",
     "text": [
      "Accuracy: 44.459% (5.009%)\n"
     ]
    }
   ],
   "source": [
    "# Cross Validation - SVM - poly\n",
    "seed = 1234\n",
    "kfold = KFold(n_splits=5, random_state=seed)\n",
    "model = svm.SVC(kernel='poly', degree = 1)\n",
    "\n",
    "#PCA Data frame \n",
    "results1 = cross_val_score(model, p_df, y, cv=kfold)  \n",
    "print(\"Accuracy: %.3f%% (%.3f%%)\" % (results1.mean()*100.0, results1.std()*100.0))\n",
    "\n",
    "# Data Scaled using scale() instead of standard scaler - without PCA\n",
    "results2 = cross_val_score(model, data_normal, y, cv=kfold)\n",
    "print(\"Accuracy: %.3f%% (%.3f%%)\" % (results2.mean()*100.0, results2.std()*100.0))"
   ]
  },
  {
   "cell_type": "code",
   "execution_count": 53,
   "metadata": {
    "colab": {
     "base_uri": "https://localhost:8080/"
    },
    "id": "_tJMWQ3UXmvT",
    "outputId": "002b6509-11f3-4d34-dab6-cf6afe326c17"
   },
   "outputs": [
    {
     "name": "stdout",
     "output_type": "stream",
     "text": [
      "Accuracy: 44.459% (7.589%)\n"
     ]
    },
    {
     "name": "stderr",
     "output_type": "stream",
     "text": [
      "/usr/local/lib/python3.6/dist-packages/sklearn/model_selection/_split.py:296: FutureWarning: Setting a random_state has no effect since shuffle is False. This will raise an error in 0.24. You should leave random_state to its default (None), or set shuffle=True.\n",
      "  FutureWarning\n"
     ]
    }
   ],
   "source": [
    "# Cross Validation - SVM - poly\n",
    "seed = 1234\n",
    "kfold = KFold(n_splits=5, random_state=seed)\n",
    "# n_splits 3-44, 7-43, 10-46, but std dev was high, so retaining n splits = 5\n",
    "model = svm.SVC(kernel='poly', degree = 1)\n",
    "\n",
    "#PCA Data frame \n",
    "results1 = cross_val_score(model, p_df, y, cv=kfold)  \n",
    "print(\"Accuracy: %.3f%% (%.3f%%)\" % (results1.mean()*100.0, results1.std()*100.0))"
   ]
  },
  {
   "cell_type": "code",
   "execution_count": 54,
   "metadata": {
    "colab": {
     "base_uri": "https://localhost:8080/"
    },
    "id": "FqOM8ZjeXmvU",
    "outputId": "ddefa8bb-755e-49ac-b168-4e1b3411fe61"
   },
   "outputs": [
    {
     "name": "stderr",
     "output_type": "stream",
     "text": [
      "/usr/local/lib/python3.6/dist-packages/sklearn/model_selection/_split.py:296: FutureWarning: Setting a random_state has no effect since shuffle is False. This will raise an error in 0.24. You should leave random_state to its default (None), or set shuffle=True.\n",
      "  FutureWarning\n"
     ]
    },
    {
     "name": "stdout",
     "output_type": "stream",
     "text": [
      "Accuracy: 29.459% (4.474%)\n"
     ]
    }
   ],
   "source": [
    "# Cross Validation - SVM - poly - on unscaled data with no pca - no improvement\n",
    "seed = 1234\n",
    "kfold = KFold(n_splits=5, random_state=seed)\n",
    "# n_splits 3-44, 7-43, 10-46, but std dev was high, so retaining n splits = 5\n",
    "model = svm.SVC(kernel='poly', degree = 1)\n",
    "\n",
    "#PCA Data frame \n",
    "results1 = cross_val_score(model, X, y, cv=kfold)  \n",
    "print(\"Accuracy: %.3f%% (%.3f%%)\" % (results1.mean()*100.0, results1.std()*100.0))"
   ]
  },
  {
   "cell_type": "markdown",
   "metadata": {
    "id": "YjE-pIt1XmvU"
   },
   "source": [
    "## RESULT SVM (CONTINOUS)\n",
    "\n",
    "Training Data Accuracies\n",
    "    \n",
    "    SVM-LINEAR      44.865% \n",
    "    SVM-POLYNOMIAL  44.595%\n",
    "    \n",
    "Test Data Accuracies\n",
    "\n",
    "    SVM-LINEAR      44.865%  \n",
    "    SVM-POLYNOMIAL  44.595% \n",
    "    "
   ]
  },
  {
   "cell_type": "markdown",
   "metadata": {
    "id": "uq57ZKf9h7nJ"
   },
   "source": [
    "## CROSSFOLD VALIDATION"
   ]
  },
  {
   "cell_type": "code",
   "execution_count": 55,
   "metadata": {
    "id": "Sp0gfOuwhybV"
   },
   "outputs": [],
   "source": [
    "dataset_categorical =data_cat\n",
    "dataset_continuous = data_con \n",
    "target = dataset_categorical['Absenteeism categories']"
   ]
  },
  {
   "cell_type": "code",
   "execution_count": 56,
   "metadata": {
    "id": "OGaFPr3ph2yk"
   },
   "outputs": [],
   "source": [
    "#  define the response and target varaibles\n",
    "features = data_cat.drop(['Absenteeism categories'],axis = 1)\n",
    "# standardize the varaibles\n",
    "features_scaled = StandardScaler().fit_transform(features)\n",
    "x_train,x_test,y_train,y_test = train_test_split(features_scaled,target,test_size = 0.05,random_state = 121)"
   ]
  },
  {
   "cell_type": "code",
   "execution_count": 57,
   "metadata": {
    "colab": {
     "base_uri": "https://localhost:8080/",
     "height": 528
    },
    "id": "RVdCcNq0jUug",
    "outputId": "5d715f64-f2c5-47ab-bcbd-d5738e661f26"
   },
   "outputs": [
    {
     "name": "stderr",
     "output_type": "stream",
     "text": [
      "/usr/local/lib/python3.6/dist-packages/sklearn/model_selection/_split.py:667: UserWarning: The least populated class in y has only 3 members, which is less than n_splits=10.\n",
      "  % (min_groups, self.n_splits)), UserWarning)\n",
      "/usr/local/lib/python3.6/dist-packages/sklearn/model_selection/_split.py:667: UserWarning: The least populated class in y has only 3 members, which is less than n_splits=10.\n",
      "  % (min_groups, self.n_splits)), UserWarning)\n",
      "/usr/local/lib/python3.6/dist-packages/sklearn/model_selection/_split.py:667: UserWarning: The least populated class in y has only 3 members, which is less than n_splits=10.\n",
      "  % (min_groups, self.n_splits)), UserWarning)\n",
      "/usr/local/lib/python3.6/dist-packages/sklearn/model_selection/_split.py:667: UserWarning: The least populated class in y has only 3 members, which is less than n_splits=10.\n",
      "  % (min_groups, self.n_splits)), UserWarning)\n",
      "/usr/local/lib/python3.6/dist-packages/sklearn/model_selection/_split.py:667: UserWarning: The least populated class in y has only 3 members, which is less than n_splits=10.\n",
      "  % (min_groups, self.n_splits)), UserWarning)\n",
      "/usr/local/lib/python3.6/dist-packages/seaborn/_decorators.py:43: FutureWarning: Pass the following variables as keyword args: x, y. From version 0.12, the only valid positional argument will be `data`, and passing other arguments without an explicit keyword will result in an error or misinterpretation.\n",
      "  FutureWarning\n"
     ]
    },
    {
     "data": {
      "image/png": "[encoded data removed]",
      "text/plain": [
       "<Figure size 432x288 with 1 Axes>"
      ]
     },
     "metadata": {
      "needs_background": "light",
      "tags": []
     },
     "output_type": "display_data"
    }
   ],
   "source": [
    "kfold = StratifiedKFold(n_splits=10)\n",
    "\n",
    "random_state = 123\n",
    "classifiers = []\n",
    "classifiers.append(DecisionTreeClassifier(random_state=random_state))\n",
    "classifiers.append(RandomForestClassifier(random_state=random_state))\n",
    "classifiers.append(KNeighborsClassifier())\n",
    "classifiers.append(svm.SVC(random_state=random_state))\n",
    "classifiers.append(SVC(random_state=random_state))\n",
    "cv_results = []\n",
    "\n",
    "for classifier in classifiers :\n",
    "    cv_results.append(cross_val_score(classifier, x_train, y = y_train, scoring = \"accuracy\", cv = kfold, n_jobs=4))\n",
    "\n",
    "cv_means = []\n",
    "cv_std = []\n",
    "for cv_result in cv_results:\n",
    "    cv_means.append(cv_result.mean())\n",
    "    cv_std.append(cv_result.std())\n",
    "\n",
    "cv_res = pd.DataFrame({\"CrossValMeans\":cv_means,\"CrossValerrors\": cv_std,\"Algorithm\":[\"SVC\",\"DecisionTree\",\"svm.SVC\",\"RandomForest\",\"KNeighboors\"]})\n",
    "\n",
    "g = sns.barplot(\"CrossValMeans\",\"Algorithm\",data = cv_res, palette=\"Set3\",orient = \"h\",**{'xerr':cv_std})\n",
    "g.set_xlabel(\"Mean Accuracy\")\n",
    "g = g.set_title(\"Cross validation scores\")"
   ]
  },
  {
   "cell_type": "markdown",
   "metadata": {
    "id": "PnDngJ7rja5H"
   },
   "source": [
    "### Model Ensembling\n",
    "In statistics and machine learning, ensemble methods use multiple learning algorithms to obtain better predictive performance than could be obtained from any of the constituent learning algorithms alone. \n",
    "We analyzed performance of 10 difference algorithm as listed below on our training dataset to understand best individual accuracy (parameters tuned using Grid search)\n",
    "\n",
    "We got the best accuracy numbers around 45 to 50%, we then picked 3 algorithm that were least correlated - XGB, Random Forest and Linear Regression to create a simple voting ensembler.  By doing so we were able to increase the accuracy of the training dataset to 60%."
   ]
  },
  {
   "cell_type": "code",
   "execution_count": 58,
   "metadata": {
    "colab": {
     "base_uri": "https://localhost:8080/"
    },
    "id": "E6nHetQbjb5f",
    "outputId": "e59df580-8faf-4840-d834-423e097ffaa4"
   },
   "outputs": [
    {
     "name": "stdout",
     "output_type": "stream",
     "text": [
      "Fitting 10 folds for each of 72 candidates, totalling 720 fits\n"
     ]
    },
    {
     "name": "stderr",
     "output_type": "stream",
     "text": [
      "/usr/local/lib/python3.6/dist-packages/sklearn/model_selection/_split.py:667: UserWarning: The least populated class in y has only 3 members, which is less than n_splits=10.\n",
      "  % (min_groups, self.n_splits)), UserWarning)\n",
      "[Parallel(n_jobs=4)]: Using backend LokyBackend with 4 concurrent workers.\n",
      "[Parallel(n_jobs=4)]: Done  42 tasks      | elapsed:   30.1s\n",
      "[Parallel(n_jobs=4)]: Done 192 tasks      | elapsed:  2.3min\n",
      "[Parallel(n_jobs=4)]: Done 442 tasks      | elapsed:  5.3min\n",
      "[Parallel(n_jobs=4)]: Done 720 out of 720 | elapsed:  8.6min finished\n"
     ]
    },
    {
     "data": {
      "text/plain": [
       "0.9445271629778672"
      ]
     },
     "execution_count": 58,
     "metadata": {
      "tags": []
     },
     "output_type": "execute_result"
    }
   ],
   "source": [
    "# Gradient boosting tuning\n",
    "\n",
    "GBC = GradientBoostingClassifier()\n",
    "gb_param_grid = {'loss' : [\"deviance\"],\n",
    "              'n_estimators' : [100,200,300],\n",
    "              'learning_rate': [0.1, 0.05, 0.01],\n",
    "              'max_depth': [4, 8],\n",
    "              'min_samples_leaf': [100,150],\n",
    "              'max_features': [0.3, 0.1] \n",
    "              }\n",
    "\n",
    "gsGBC = GridSearchCV(GBC,param_grid = gb_param_grid, cv=kfold, scoring=\"accuracy\", n_jobs= 4, verbose = 1)\n",
    "\n",
    "gsGBC.fit(x_train,y_train)\n",
    "\n",
    "GBC_best = gsGBC.best_estimator_\n",
    "\n",
    "# Best score\n",
    "gsGBC.best_score_"
   ]
  }
 ],
 "metadata": {
  "colab": {
   "include_colab_link": true,
   "name": "3_Machine_Learning_Modelling.ipynb",
   "provenance": []
  },
  "kernelspec": {
   "display_name": "Python 3 (ipykernel)",
   "language": "python",
   "name": "python3"
  },
  "language_info": {
   "codemirror_mode": {
    "name": "ipython",
    "version": 3
   },
   "file_extension": ".py",
   "mimetype": "text/x-python",
   "name": "python",
   "nbconvert_exporter": "python",
   "pygments_lexer": "ipython3",
   "version": "3.10.6"
  }
 },
 "nbformat": 4,
 "nbformat_minor": 1
}
