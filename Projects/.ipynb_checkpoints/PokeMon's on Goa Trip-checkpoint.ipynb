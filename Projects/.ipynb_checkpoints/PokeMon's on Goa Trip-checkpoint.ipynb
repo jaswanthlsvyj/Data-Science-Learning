{
 "cells": [
  {
   "cell_type": "markdown",
   "id": "5d840449",
   "metadata": {},
   "source": [
    "# Part 1 - PYTHON\n",
    "Write a Program which inputs a list of numbers(PokeMon) and prints the corresponding Pokemon Name.\n",
    "* 1- Bulbasaur\n",
    "* 2- Pikachu\n",
    "* 3- Charmender\n",
    "* x- invalid input"
   ]
  },
  {
   "cell_type": "code",
   "execution_count": 2,
   "id": "27b34913",
   "metadata": {},
   "outputs": [
    {
     "name": "stdout",
     "output_type": "stream",
     "text": [
      "1 2 3 4 5 6\n",
      "[1, 2, 3, 4, 5, 6]\n"
     ]
    }
   ],
   "source": [
    "# input in python\n",
    "number_list = list(map(int, input().split()))\n",
    "print(number_list)"
   ]
  },
  {
   "cell_type": "code",
   "execution_count": 5,
   "id": "9b22e4be",
   "metadata": {},
   "outputs": [
    {
     "name": "stdout",
     "output_type": "stream",
     "text": [
      "Bulbasaur\n",
      "Pikachu\n",
      "Charmender\n",
      "Invalid Input\n",
      "Invalid Input\n",
      "Invalid Input\n"
     ]
    }
   ],
   "source": [
    "for i in number_list:\n",
    "    if i==1:\n",
    "        print('Bulbasaur')\n",
    "    elif i==2:\n",
    "        print('Pikachu')\n",
    "    elif i==3:\n",
    "        print('Charmender')\n",
    "    else :\n",
    "        print('Invalid Input')"
   ]
  },
  {
   "cell_type": "code",
   "execution_count": 6,
   "id": "7e1b7ee7",
   "metadata": {},
   "outputs": [
    {
     "name": "stdout",
     "output_type": "stream",
     "text": [
      "Bulbasaur\n",
      "Pikachu\n",
      "Charmender\n",
      "Invalid Input\n",
      "Invalid Input\n",
      "Invalid Input\n"
     ]
    }
   ],
   "source": [
    "# Dictionaries in python (hashmap)\n",
    "pokemon_map = {\n",
    "    1 : 'Bulbasaur',\n",
    "    2 : 'Pikachu',\n",
    "    3 : 'Charmender'\n",
    "}\n",
    "\n",
    "for i in number_list:\n",
    "    if pokemon_map.get(i) is None:\n",
    "        print('Invalid Input')\n",
    "    else :\n",
    "        print(pokemon_map.get(i))"
   ]
  },
  {
   "cell_type": "code",
   "execution_count": 9,
   "id": "70e47e88",
   "metadata": {},
   "outputs": [
    {
     "data": {
      "text/plain": [
       "('Charmender', 900, 700)"
      ]
     },
     "execution_count": 9,
     "metadata": {},
     "output_type": "execute_result"
    }
   ],
   "source": [
    "# tuple of list\n",
    "pokemons = [('Bulbasaur',200),('Pikachu',250),('Charmender',900,700)]\n",
    "pokemons[2]"
   ]
  },
  {
   "cell_type": "code",
   "execution_count": 13,
   "id": "08ccfa0c",
   "metadata": {},
   "outputs": [],
   "source": [
    "# functions in python\n",
    "def printPokemons(number):\n",
    "    pokemon_map = {\n",
    "        1 : 'Bulbasaur',\n",
    "        2 : 'Pikachu',\n",
    "        3 : 'Charmender'\n",
    "    }\n",
    "    \n",
    "    for i in number:\n",
    "        if pokemon_map.get(i) is None:\n",
    "            print('Invalid Input')\n",
    "        else :\n",
    "            print(pokemon_map.get(i))"
   ]
  },
  {
   "cell_type": "code",
   "execution_count": 14,
   "id": "54aa4e47",
   "metadata": {},
   "outputs": [
    {
     "name": "stdout",
     "output_type": "stream",
     "text": [
      "Bulbasaur\n",
      "Pikachu\n",
      "Charmender\n",
      "Invalid Input\n",
      "Invalid Input\n",
      "Invalid Input\n"
     ]
    }
   ],
   "source": [
    "printPokemons(number_list)"
   ]
  },
  {
   "cell_type": "code",
   "execution_count": null,
   "id": "a87aad89",
   "metadata": {},
   "outputs": [],
   "source": []
  },
  {
   "cell_type": "markdown",
   "id": "e03dafb5",
   "metadata": {},
   "source": [
    "# Part 2 - Numpy"
   ]
  },
  {
   "cell_type": "code",
   "execution_count": null,
   "id": "f2d4c9d9",
   "metadata": {},
   "outputs": [],
   "source": []
  }
 ],
 "metadata": {
  "kernelspec": {
   "display_name": "Python 3 (ipykernel)",
   "language": "python",
   "name": "python3"
  },
  "language_info": {
   "codemirror_mode": {
    "name": "ipython",
    "version": 3
   },
   "file_extension": ".py",
   "mimetype": "text/x-python",
   "name": "python",
   "nbconvert_exporter": "python",
   "pygments_lexer": "ipython3",
   "version": "3.9.13"
  }
 },
 "nbformat": 4,
 "nbformat_minor": 5
}
